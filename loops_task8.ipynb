{
 "cells": [
  {
   "cell_type": "markdown",
   "id": "b782721f-4c76-476e-addb-6f9487c31d69",
   "metadata": {},
   "source": [
    "# 1  Print Numbers 1 to 10 using for loop.\n",
    " Hint: Use range()"
   ]
  },
  {
   "cell_type": "code",
   "execution_count": 3,
   "id": "c2b50644-419e-4df6-b2f1-13ec0a76c9c0",
   "metadata": {},
   "outputs": [
    {
     "name": "stdout",
     "output_type": "stream",
     "text": [
      "1\n",
      "2\n",
      "3\n",
      "4\n",
      "5\n",
      "6\n",
      "7\n",
      "8\n",
      "9\n",
      "10\n"
     ]
    }
   ],
   "source": [
    "for i in range(1,11):\n",
    "    print(i)"
   ]
  },
  {
   "cell_type": "markdown",
   "id": "41919676-1f1f-4ce5-a0c1-5dc536227a3a",
   "metadata": {},
   "source": [
    "# 2  Print the first 5 even numbers using while loop.\n",
    " Hint: Start from 2, keep incrementing by 2\n"
   ]
  },
  {
   "cell_type": "code",
   "execution_count": 12,
   "id": "41e43c76-d05c-4bd0-b7e4-3c8a79ffdb4d",
   "metadata": {},
   "outputs": [
    {
     "name": "stdout",
     "output_type": "stream",
     "text": [
      "2\n",
      "4\n",
      "6\n",
      "8\n",
      "10\n"
     ]
    }
   ],
   "source": [
    "x = 2\n",
    "while x <= 10:\n",
    "    print(x)\n",
    "    x = x+2"
   ]
  },
  {
   "cell_type": "markdown",
   "id": "d2459176-c0e5-4e96-8436-e1a8ea0fae57",
   "metadata": {},
   "source": [
    "# 3  Print each character of the string \"Python\" using a for loop"
   ]
  },
  {
   "cell_type": "code",
   "execution_count": 15,
   "id": "dbe0fb9f-4e42-421b-b58f-2eb477893ddb",
   "metadata": {},
   "outputs": [
    {
     "name": "stdout",
     "output_type": "stream",
     "text": [
      "P\n",
      "y\n",
      "t\n",
      "h\n",
      "o\n",
      "n\n"
     ]
    }
   ],
   "source": [
    "str1 = \"Python\"\n",
    "for i in str1:\n",
    "    print(i)"
   ]
  },
  {
   "cell_type": "markdown",
   "id": "2821701f-a1eb-4ca9-8912-cbcf0015ec2d",
   "metadata": {},
   "source": [
    "# 4  Sum of numbers from 1 to 50 using for loop."
   ]
  },
  {
   "cell_type": "code",
   "execution_count": 18,
   "id": "f2bf452c-7b8b-4b3f-8c93-94f87331a8c6",
   "metadata": {},
   "outputs": [
    {
     "name": "stdout",
     "output_type": "stream",
     "text": [
      "1275\n"
     ]
    }
   ],
   "source": [
    "sum = 0\n",
    "for i in range(1,50+1):\n",
    "    sum = sum + i\n",
    "print(sum)\n",
    "    "
   ]
  },
  {
   "cell_type": "markdown",
   "id": "a7771148-3ce3-4c64-917b-29ecf6a49f4f",
   "metadata": {},
   "source": [
    "# 5  Print numbers from 10 to 1 using a while loop (reverse counting).\n"
   ]
  },
  {
   "cell_type": "code",
   "execution_count": 23,
   "id": "f66b00be-b9ce-4a92-850c-282c492a7480",
   "metadata": {},
   "outputs": [
    {
     "name": "stdout",
     "output_type": "stream",
     "text": [
      "10\n",
      "9\n",
      "8\n",
      "7\n",
      "6\n",
      "5\n",
      "4\n",
      "3\n",
      "2\n",
      "1\n"
     ]
    }
   ],
   "source": [
    "x = 10\n",
    "while x <= 10 and x > 0 :\n",
    "    print(x)\n",
    "    x = x -1"
   ]
  },
  {
   "cell_type": "markdown",
   "id": "93392e44-0ce6-4983-bd8c-46f5610f01b6",
   "metadata": {},
   "source": [
    "# 6  Print all multiples of 3 between 1 and 30 using a for loop."
   ]
  },
  {
   "cell_type": "code",
   "execution_count": 26,
   "id": "f7963763-c206-4bd4-94eb-4126c38f4d03",
   "metadata": {},
   "outputs": [
    {
     "name": "stdout",
     "output_type": "stream",
     "text": [
      "3\n",
      "6\n",
      "9\n",
      "12\n",
      "15\n",
      "18\n",
      "21\n",
      "24\n",
      "27\n",
      "30\n"
     ]
    }
   ],
   "source": [
    "for i in range(1,30+1):\n",
    "    if i % 3 == 0:\n",
    "        print(i)"
   ]
  },
  {
   "cell_type": "markdown",
   "id": "f4c39f46-7269-40fb-80b0-795e7376d551",
   "metadata": {},
   "source": [
    "# 7  Ask the user to enter numbers until they type 0. Calculate the sum of all numbers entered.\n",
    " Hint: Use while loop and input()\n"
   ]
  },
  {
   "cell_type": "code",
   "execution_count": 29,
   "id": "c85c474a-0ff2-4430-8127-a39cc4fefa61",
   "metadata": {},
   "outputs": [
    {
     "name": "stdin",
     "output_type": "stream",
     "text": [
      "enter number 5\n",
      "enter number 6\n",
      "enter number 5\n",
      "enter number 0\n"
     ]
    },
    {
     "name": "stdout",
     "output_type": "stream",
     "text": [
      "16\n"
     ]
    }
   ],
   "source": [
    "sum = 0\n",
    "while True:\n",
    "    numbers = int(input(\"enter number\"))\n",
    "    sum = numbers + sum    \n",
    "    if numbers == 0:\n",
    "        break\n",
    "print(sum)"
   ]
  },
  {
   "cell_type": "markdown",
   "id": "ec7adaf6-abb5-458c-99cb-c040c589a0ce",
   "metadata": {},
   "source": [
    "# 8  Given a list: nums = [2, 4, 6, 8, 10], print the square of each number.\n"
   ]
  },
  {
   "cell_type": "code",
   "execution_count": 32,
   "id": "67b911b8-fadb-4181-b342-a6963ba40b4c",
   "metadata": {},
   "outputs": [
    {
     "name": "stdout",
     "output_type": "stream",
     "text": [
      "[4, 16, 36, 64, 100]\n"
     ]
    }
   ],
   "source": [
    "nums = [2, 4, 6, 8, 10]\n",
    "squares=[]\n",
    "for i in nums:\n",
    "    i = i**2\n",
    "    squares.append(i)\n",
    "print(squares)"
   ]
  },
  {
   "cell_type": "markdown",
   "id": "d958ea3b-6b38-4e40-945c-96361e2edb5b",
   "metadata": {},
   "source": [
    "# 9  Count how many vowels are in a string using a for loop.\n",
    " Input: \"hello world\" → Output: 3"
   ]
  },
  {
   "cell_type": "code",
   "execution_count": 38,
   "id": "39a1b7ff-75a5-4b5d-b52a-9eb8e668354f",
   "metadata": {},
   "outputs": [
    {
     "name": "stdin",
     "output_type": "stream",
     "text": [
      "enter string hello world\n"
     ]
    },
    {
     "name": "stdout",
     "output_type": "stream",
     "text": [
      "3\n"
     ]
    }
   ],
   "source": [
    "inp = input(\"enter string\")\n",
    "count = 0\n",
    "for i in inp:\n",
    "    if i == 'a' or i=='e' or i =='i' or i=='o' or i=='u':\n",
    "        count = count+1\n",
    "print(count)"
   ]
  },
  {
   "cell_type": "markdown",
   "id": "3cd891fa-fdd5-4014-895d-c5766fe1d4d5",
   "metadata": {},
   "source": [
    "# 10  Find the factorial of a number using a while loop.\n",
    " Hint: factorial = factorial * num"
   ]
  },
  {
   "cell_type": "code",
   "execution_count": 96,
   "id": "81dc15cb-ee10-4489-a30d-24a25321bd83",
   "metadata": {},
   "outputs": [
    {
     "name": "stdin",
     "output_type": "stream",
     "text": [
      "enter number 4\n"
     ]
    },
    {
     "name": "stdout",
     "output_type": "stream",
     "text": [
      "24\n"
     ]
    }
   ],
   "source": [
    "factorial = 1\n",
    "num = int(input(\"enter number\"))\n",
    "\n",
    "while num >= 1:\n",
    "    factorial = factorial * num\n",
    "    num = num - 1\n",
    "print(factorial)\n"
   ]
  },
  {
   "cell_type": "markdown",
   "id": "ed05a09c-09cb-40ed-9b7d-9097a1412590",
   "metadata": {},
   "source": [
    "# 11  Print the following pattern using loops (n = 5):\n",
    "*\n",
    "* *\n",
    "* * *\n",
    "* * * *\n",
    "* * * * *\n"
   ]
  },
  {
   "cell_type": "code",
   "execution_count": 101,
   "id": "3995d62a-3198-474b-9512-be8ec13d06d0",
   "metadata": {},
   "outputs": [
    {
     "name": "stdin",
     "output_type": "stream",
     "text": [
      "enter num 5\n"
     ]
    },
    {
     "name": "stdout",
     "output_type": "stream",
     "text": [
      "* \n",
      "* * \n",
      "* * * \n",
      "* * * * \n",
      "* * * * * \n"
     ]
    }
   ],
   "source": [
    "n = int(input(\"enter num\"))\n",
    "for i in range(1,n+1) :\n",
    "    for j in range(1,i+1):\n",
    "        print(\"*\",end=\" \")\n",
    "    print()\n"
   ]
  },
  {
   "cell_type": "markdown",
   "id": "a76d69e4-b56a-4d09-93cc-9c26d59bd558",
   "metadata": {},
   "source": [
    "# 12  Print this reverse triangle pattern (n = 4):\n",
    "* * * *\n",
    "* * *\n",
    "* *\n",
    "*\n"
   ]
  },
  {
   "cell_type": "code",
   "execution_count": 109,
   "id": "44f8a8ee-32cd-482a-be3e-b6b37ab0964b",
   "metadata": {},
   "outputs": [
    {
     "name": "stdin",
     "output_type": "stream",
     "text": [
      "enter num 4\n"
     ]
    },
    {
     "name": "stdout",
     "output_type": "stream",
     "text": [
      "* * * * \n",
      "* * * \n",
      "* * \n",
      "* \n"
     ]
    }
   ],
   "source": [
    "n = int(input(\"enter num\"))\n",
    "for i in range(n,0,-1) :\n",
    "    for j in range(i,0,-1):\n",
    "        print(\"*\",end=\" \")\n",
    "    print()"
   ]
  },
  {
   "cell_type": "markdown",
   "id": "68c38c89-a788-431e-810a-7ba51c958a5a",
   "metadata": {},
   "source": [
    "# 13  Print a right-aligned triangle (n = 4):\n",
    "   *\n",
    "  * *\n",
    " * * *\n",
    "* * * *\n"
   ]
  },
  {
   "cell_type": "code",
   "execution_count": 131,
   "id": "833a3988-f720-46fb-bc9f-b901c270b18e",
   "metadata": {},
   "outputs": [
    {
     "name": "stdin",
     "output_type": "stream",
     "text": [
      "enter num 4\n"
     ]
    },
    {
     "name": "stdout",
     "output_type": "stream",
     "text": [
      "   * \n",
      "  * * \n",
      " * * * \n",
      "* * * * \n"
     ]
    }
   ],
   "source": [
    "num = int(input(\"enter num\"))\n",
    "for i in range(1,num+1):\n",
    "    for j in range(n-i):\n",
    "        print(\" \",end=\"\")\n",
    "    for k in range(i):\n",
    "        print(\"* \",end=\"\")\n",
    "    print()"
   ]
  },
  {
   "cell_type": "markdown",
   "id": "84fa7b83-fa70-4b23-b589-ac8ae43e8b9c",
   "metadata": {},
   "source": [
    "# 14  Print number pyramid (n = 5):\n",
    "1\n",
    "1 2\n",
    "1 2 3\n",
    "1 2 3 4\n",
    "1 2 3 4 5\n"
   ]
  },
  {
   "cell_type": "code",
   "execution_count": 14,
   "id": "83fa5a8d-c2b5-4504-9ec5-2394d0333074",
   "metadata": {},
   "outputs": [
    {
     "name": "stdin",
     "output_type": "stream",
     "text": [
      "enter n: 5\n"
     ]
    },
    {
     "name": "stdout",
     "output_type": "stream",
     "text": [
      "1 \n",
      "1 2 \n",
      "1 2 3 \n",
      "1 2 3 4 \n",
      "1 2 3 4 5 \n"
     ]
    }
   ],
   "source": [
    "n = int(input(\"enter n:\"))\n",
    "for i in range(1,n+1):\n",
    "    for j in range(1,i+1):\n",
    "        print(j,end=\" \")\n",
    "    print()"
   ]
  },
  {
   "cell_type": "markdown",
   "id": "0448e216-6d53-42f4-b025-3c4a0f913a68",
   "metadata": {},
   "source": [
    "# 15  Ask the user for 5 inputs using a while loop and store them in a list. Then print the list."
   ]
  },
  {
   "cell_type": "code",
   "execution_count": 27,
   "id": "d791392d-4749-4c73-8ba4-15e628d7c534",
   "metadata": {},
   "outputs": [
    {
     "name": "stdin",
     "output_type": "stream",
     "text": [
      "enter no 5\n",
      "enter no 6\n",
      "enter no 7\n",
      "enter no 8\n",
      "enter no 9\n"
     ]
    },
    {
     "name": "stdout",
     "output_type": "stream",
     "text": [
      "[5, 6, 7, 8, 9]\n"
     ]
    }
   ],
   "source": [
    "x = 1\n",
    "lst = []\n",
    "while x <= 5 :\n",
    "    n = int(input(\"enter no\"))\n",
    "    lst.append(n)\n",
    "    x = x + 1\n",
    "print(lst)"
   ]
  },
  {
   "cell_type": "markdown",
   "id": "d7f20be8-c011-42c0-a203-04d24080c58b",
   "metadata": {},
   "source": [
    "# 16  Create a for loop that breaks when it finds the number 7 in a list. Print \"Found!\" and stop.\n",
    " \tnumbers = [1, 3, 5, 7, 9, 11]"
   ]
  },
  {
   "cell_type": "code",
   "execution_count": 34,
   "id": "ce163606-92a7-4687-bfb1-36032d1d8a3d",
   "metadata": {},
   "outputs": [
    {
     "name": "stdout",
     "output_type": "stream",
     "text": [
      "1\n",
      "3\n",
      "5\n",
      "Found!\n"
     ]
    }
   ],
   "source": [
    "numbers = [1, 3, 5, 7, 9, 11]\n",
    "for i in numbers:\n",
    "    if i == 7:\n",
    "        print(\"Found!\")\n",
    "        break\n",
    "    else:\n",
    "        print(i)"
   ]
  },
  {
   "cell_type": "code",
   "execution_count": null,
   "id": "c0a3a8cc-a192-432d-b849-a3fc9941d40e",
   "metadata": {},
   "outputs": [],
   "source": []
  }
 ],
 "metadata": {
  "kernelspec": {
   "display_name": "Python [conda env:base] *",
   "language": "python",
   "name": "conda-base-py"
  },
  "language_info": {
   "codemirror_mode": {
    "name": "ipython",
    "version": 3
   },
   "file_extension": ".py",
   "mimetype": "text/x-python",
   "name": "python",
   "nbconvert_exporter": "python",
   "pygments_lexer": "ipython3",
   "version": "3.12.7"
  }
 },
 "nbformat": 4,
 "nbformat_minor": 5
}
