{
 "cells": [
  {
   "cell_type": "markdown",
   "id": "a1541247-47d9-4fa2-8c4b-be9df1182b92",
   "metadata": {},
   "source": [
    "# **DICTIONARIES**"
   ]
  },
  {
   "cell_type": "markdown",
   "id": "fffed632-ee73-46a4-afc3-70d34ed40c44",
   "metadata": {},
   "source": [
    "### 1  Create a dictionary of 3 students and their marks.\n",
    "\n",
    "\n"
   ]
  },
  {
   "cell_type": "code",
   "execution_count": 61,
   "id": "f9b2f425-c02c-41c6-92fd-3b49bffdeb34",
   "metadata": {},
   "outputs": [],
   "source": [
    "students = ['harshitha','sam','sri']\n",
    "marks = [70,79,98]\n",
    "d1 =dict(zip(students,marks))"
   ]
  },
  {
   "cell_type": "code",
   "execution_count": 63,
   "id": "fd470324-ad54-4296-9f8b-77b459462d18",
   "metadata": {},
   "outputs": [
    {
     "data": {
      "text/plain": [
       "{'harshitha': 70, 'sam': 79, 'sri': 98}"
      ]
     },
     "execution_count": 63,
     "metadata": {},
     "output_type": "execute_result"
    }
   ],
   "source": [
    "d1"
   ]
  },
  {
   "cell_type": "markdown",
   "id": "d6f4ba38-19c2-4cdf-b0eb-50aaf875c13b",
   "metadata": {},
   "source": [
    "### 2   Access marks of a student using their name"
   ]
  },
  {
   "cell_type": "code",
   "execution_count": 66,
   "id": "b093499b-5b64-4892-abdd-326df699bd7c",
   "metadata": {},
   "outputs": [
    {
     "name": "stdout",
     "output_type": "stream",
     "text": [
      "{'harshitha': 70, 'sam': 79, 'sri': 98}\n"
     ]
    }
   ],
   "source": [
    "print(d1)"
   ]
  },
  {
   "cell_type": "code",
   "execution_count": 68,
   "id": "5ba137b4-97f6-4726-90ef-e8c709fd6572",
   "metadata": {},
   "outputs": [
    {
     "data": {
      "text/plain": [
       "70"
      ]
     },
     "execution_count": 68,
     "metadata": {},
     "output_type": "execute_result"
    }
   ],
   "source": [
    "d1.get('harshitha')"
   ]
  },
  {
   "cell_type": "code",
   "execution_count": 70,
   "id": "e4a7205d-5fd3-41e1-a6b8-95b6e7b4a5d8",
   "metadata": {},
   "outputs": [
    {
     "data": {
      "text/plain": [
       "79"
      ]
     },
     "execution_count": 70,
     "metadata": {},
     "output_type": "execute_result"
    }
   ],
   "source": [
    "d1.get('sam')"
   ]
  },
  {
   "cell_type": "code",
   "execution_count": 72,
   "id": "adbd4bea-cbc2-414c-b808-fff99a04cc47",
   "metadata": {},
   "outputs": [
    {
     "data": {
      "text/plain": [
       "98"
      ]
     },
     "execution_count": 72,
     "metadata": {},
     "output_type": "execute_result"
    }
   ],
   "source": [
    "d1.get('sri')"
   ]
  },
  {
   "cell_type": "markdown",
   "id": "5287a0dd-7f3c-4a07-89fb-4270460f8259",
   "metadata": {},
   "source": [
    "### 3  Add a new student to the dictionary."
   ]
  },
  {
   "cell_type": "code",
   "execution_count": 75,
   "id": "fd5621b2-d047-44e2-8cd0-35fad3ea0b0d",
   "metadata": {},
   "outputs": [
    {
     "name": "stdout",
     "output_type": "stream",
     "text": [
      "{'harshitha': 70, 'sam': 79, 'sri': 98}\n"
     ]
    }
   ],
   "source": [
    "print(d1)"
   ]
  },
  {
   "cell_type": "code",
   "execution_count": 77,
   "id": "8b541bfe-ca87-48db-b6a2-f40e3810cef7",
   "metadata": {},
   "outputs": [],
   "source": [
    "d1['ram charan'] = 99"
   ]
  },
  {
   "cell_type": "code",
   "execution_count": 79,
   "id": "da70badb-006d-400f-84b8-ab4bb7842486",
   "metadata": {},
   "outputs": [
    {
     "name": "stdout",
     "output_type": "stream",
     "text": [
      "{'harshitha': 70, 'sam': 79, 'sri': 98, 'ram charan': 99}\n"
     ]
    }
   ],
   "source": [
    "print(d1)"
   ]
  },
  {
   "cell_type": "markdown",
   "id": "b2e9dc8e-784e-402b-843d-e5abc13e73b3",
   "metadata": {},
   "source": [
    "### 4 Update marks of an existing student."
   ]
  },
  {
   "cell_type": "code",
   "execution_count": 82,
   "id": "851e86b3-191e-48f6-9935-27200b63fbd7",
   "metadata": {},
   "outputs": [
    {
     "name": "stdout",
     "output_type": "stream",
     "text": [
      "{'harshitha': 70, 'sam': 79, 'sri': 98, 'ram charan': 99}\n"
     ]
    }
   ],
   "source": [
    "print(d1)"
   ]
  },
  {
   "cell_type": "code",
   "execution_count": 84,
   "id": "960d83e2-a1d2-4e3d-b0f7-a5c6272fc8ce",
   "metadata": {},
   "outputs": [],
   "source": [
    "d1.update({'harshitha':65})"
   ]
  },
  {
   "cell_type": "code",
   "execution_count": 86,
   "id": "490196ec-fc50-4593-8e1a-da03da0660a1",
   "metadata": {},
   "outputs": [
    {
     "name": "stdout",
     "output_type": "stream",
     "text": [
      "{'harshitha': 65, 'sam': 79, 'sri': 98, 'ram charan': 99}\n"
     ]
    }
   ],
   "source": [
    "print(d1)"
   ]
  },
  {
   "cell_type": "markdown",
   "id": "198ddad5-c4d5-494d-a903-8821d3b6ea87",
   "metadata": {},
   "source": [
    "### 5  Remove a student using pop()."
   ]
  },
  {
   "cell_type": "code",
   "execution_count": 91,
   "id": "c45106f7-c3e4-4e2d-8488-aa798be79069",
   "metadata": {},
   "outputs": [
    {
     "name": "stdout",
     "output_type": "stream",
     "text": [
      "{'harshitha': 65, 'sam': 79, 'sri': 98, 'ram charan': 99}\n"
     ]
    }
   ],
   "source": [
    "print(d1)"
   ]
  },
  {
   "cell_type": "code",
   "execution_count": 97,
   "id": "f1c8563b-e0b0-480e-a7fb-227d748859f1",
   "metadata": {},
   "outputs": [
    {
     "data": {
      "text/plain": [
       "98"
      ]
     },
     "execution_count": 97,
     "metadata": {},
     "output_type": "execute_result"
    }
   ],
   "source": [
    "d1.pop('sri')"
   ]
  },
  {
   "cell_type": "code",
   "execution_count": 99,
   "id": "355e1e78-b69e-47f5-bbde-7e427133c8b2",
   "metadata": {},
   "outputs": [
    {
     "name": "stdout",
     "output_type": "stream",
     "text": [
      "{'harshitha': 65, 'sam': 79, 'ram charan': 99}\n"
     ]
    }
   ],
   "source": [
    "print(d1)"
   ]
  },
  {
   "cell_type": "markdown",
   "id": "04e12c75-34fc-4c5b-8f8b-9c8305824f76",
   "metadata": {},
   "source": [
    "### 6  Use get() to safely access a value. "
   ]
  },
  {
   "cell_type": "code",
   "execution_count": 102,
   "id": "9fe15a9a-07b0-4135-a1c9-11ab11902753",
   "metadata": {},
   "outputs": [
    {
     "name": "stdout",
     "output_type": "stream",
     "text": [
      "{'harshitha': 65, 'sam': 79, 'ram charan': 99}\n"
     ]
    }
   ],
   "source": [
    "print(d1)"
   ]
  },
  {
   "cell_type": "code",
   "execution_count": 104,
   "id": "1c902264-d7bf-4090-a733-8c0d8988cd91",
   "metadata": {},
   "outputs": [
    {
     "data": {
      "text/plain": [
       "65"
      ]
     },
     "execution_count": 104,
     "metadata": {},
     "output_type": "execute_result"
    }
   ],
   "source": [
    "d1.get('harshitha')"
   ]
  },
  {
   "cell_type": "markdown",
   "id": "5afda394-f41f-4bb8-aedb-f8fca99f29cf",
   "metadata": {},
   "source": [
    "### 7  Create a dictionary and get all the items using .items(), check the type of it."
   ]
  },
  {
   "cell_type": "code",
   "execution_count": 115,
   "id": "abedbe72-ee33-4ed1-8552-11114328213f",
   "metadata": {},
   "outputs": [],
   "source": [
    "dictionary1 ={1:'ram',2:'sita',3:'krishna',4:'radha',5:'surya'}"
   ]
  },
  {
   "cell_type": "code",
   "execution_count": 117,
   "id": "84d436f6-c017-4895-975e-6ab7f078cdf9",
   "metadata": {},
   "outputs": [
    {
     "name": "stdout",
     "output_type": "stream",
     "text": [
      "{1: 'ram', 2: 'sita', 3: 'krishna', 4: 'radha', 5: 'surya'}\n"
     ]
    }
   ],
   "source": [
    "print(dictionary1)"
   ]
  },
  {
   "cell_type": "code",
   "execution_count": 121,
   "id": "9769554b-f353-4d3a-b2e3-39410266d521",
   "metadata": {},
   "outputs": [
    {
     "data": {
      "text/plain": [
       "dict_items([(1, 'ram'), (2, 'sita'), (3, 'krishna'), (4, 'radha'), (5, 'surya')])"
      ]
     },
     "execution_count": 121,
     "metadata": {},
     "output_type": "execute_result"
    }
   ],
   "source": [
    "dictionary1.items()"
   ]
  },
  {
   "cell_type": "code",
   "execution_count": 123,
   "id": "939c7af3-222a-432d-bede-be4f90b8d29f",
   "metadata": {},
   "outputs": [
    {
     "name": "stdout",
     "output_type": "stream",
     "text": [
      "<class 'dict'>\n"
     ]
    }
   ],
   "source": [
    "print(type(dictionary1))"
   ]
  },
  {
   "cell_type": "markdown",
   "id": "852d4178-02df-4ab0-abdb-4b63ee2c0a2e",
   "metadata": {},
   "source": [
    "### 8  Get all keys using .keys() and values using .values()."
   ]
  },
  {
   "cell_type": "code",
   "execution_count": 126,
   "id": "1df4f0d4-0a64-4c45-9535-de334b02861c",
   "metadata": {},
   "outputs": [
    {
     "data": {
      "text/plain": [
       "{1: 'ram', 2: 'sita', 3: 'krishna', 4: 'radha', 5: 'surya'}"
      ]
     },
     "execution_count": 126,
     "metadata": {},
     "output_type": "execute_result"
    }
   ],
   "source": [
    "dictionary1"
   ]
  },
  {
   "cell_type": "code",
   "execution_count": 130,
   "id": "6718009d-01b3-443f-b4e1-648971955803",
   "metadata": {},
   "outputs": [
    {
     "name": "stdout",
     "output_type": "stream",
     "text": [
      "dict_keys([1, 2, 3, 4, 5])\n"
     ]
    }
   ],
   "source": [
    "print(dictionary1.keys())"
   ]
  },
  {
   "cell_type": "code",
   "execution_count": 136,
   "id": "bc88078c-42d4-44d0-9545-91c209a083fe",
   "metadata": {},
   "outputs": [
    {
     "name": "stdout",
     "output_type": "stream",
     "text": [
      "dict_values(['ram', 'sita', 'krishna', 'radha', 'surya'])\n"
     ]
    }
   ],
   "source": [
    "print(dictionary1.values())"
   ]
  },
  {
   "cell_type": "markdown",
   "id": "c471b21c-940b-483c-bd6d-2a044909056d",
   "metadata": {},
   "source": [
    "### 9  Check if a student exists in the dictionary."
   ]
  },
  {
   "cell_type": "code",
   "execution_count": 141,
   "id": "3d27a5fa-3930-4e6c-a8d7-9a99a928ce6e",
   "metadata": {},
   "outputs": [
    {
     "name": "stdout",
     "output_type": "stream",
     "text": [
      "{'harshitha': 65, 'sam': 79, 'ram charan': 99}\n"
     ]
    }
   ],
   "source": [
    "print(d1)"
   ]
  },
  {
   "cell_type": "code",
   "execution_count": 143,
   "id": "f5ae0c32-d3e3-415f-be06-5011e8fcf33a",
   "metadata": {},
   "outputs": [
    {
     "name": "stdout",
     "output_type": "stream",
     "text": [
      "True\n"
     ]
    }
   ],
   "source": [
    "print('harshitha' in d1)"
   ]
  },
  {
   "cell_type": "code",
   "execution_count": 145,
   "id": "bcab0936-9ffe-4fa3-9279-4f9827d7b8cb",
   "metadata": {},
   "outputs": [
    {
     "name": "stdout",
     "output_type": "stream",
     "text": [
      "True\n"
     ]
    }
   ],
   "source": [
    "print('sam' in d1)"
   ]
  },
  {
   "cell_type": "markdown",
   "id": "2600d641-b245-4237-96cf-bcb2f5c076e4",
   "metadata": {},
   "source": [
    "### 10  Create a dictionary d with 4 key-value pairs.\n",
    "Convert the dictionary using the following methods one by one:\n",
    "list(d)\n",
    "list(d.keys())\n",
    "list(d.values())\n",
    "list(d.items())\n",
    "   b)Observe the output of each and note the differences.\n"
   ]
  },
  {
   "cell_type": "code",
   "execution_count": 163,
   "id": "2f605cbd-4a65-4564-bb0d-7a8b10c0c754",
   "metadata": {},
   "outputs": [],
   "source": [
    "d = {1:'apple',2:'orange',3:'grape',4:'guava'}"
   ]
  },
  {
   "cell_type": "code",
   "execution_count": 165,
   "id": "9b23b6aa-41b5-4f1c-93cf-3709c9fd4c5c",
   "metadata": {},
   "outputs": [
    {
     "name": "stdout",
     "output_type": "stream",
     "text": [
      "{1: 'apple', 2: 'orange', 3: 'grape', 4: 'guava'}\n"
     ]
    }
   ],
   "source": [
    "print(d)"
   ]
  },
  {
   "cell_type": "code",
   "execution_count": 167,
   "id": "cdcbeaf9-113b-4644-99c2-2b92f8c32acf",
   "metadata": {},
   "outputs": [
    {
     "data": {
      "text/plain": [
       "[1, 2, 3, 4]"
      ]
     },
     "execution_count": 167,
     "metadata": {},
     "output_type": "execute_result"
    }
   ],
   "source": [
    "list(d)"
   ]
  },
  {
   "cell_type": "code",
   "execution_count": 169,
   "id": "01bde4ec-5972-4af6-acfd-290d0f53ceb2",
   "metadata": {},
   "outputs": [
    {
     "data": {
      "text/plain": [
       "{1: 'apple', 2: 'orange', 3: 'grape', 4: 'guava'}"
      ]
     },
     "execution_count": 169,
     "metadata": {},
     "output_type": "execute_result"
    }
   ],
   "source": [
    "d"
   ]
  },
  {
   "cell_type": "code",
   "execution_count": 171,
   "id": "d3d738e5-20ef-41f2-878a-c29aa5dc9562",
   "metadata": {},
   "outputs": [
    {
     "data": {
      "text/plain": [
       "[1, 2, 3, 4]"
      ]
     },
     "execution_count": 171,
     "metadata": {},
     "output_type": "execute_result"
    }
   ],
   "source": [
    "list(d.keys())"
   ]
  },
  {
   "cell_type": "code",
   "execution_count": 173,
   "id": "e23c838d-8a9f-4944-b36e-70c737cf411f",
   "metadata": {},
   "outputs": [
    {
     "data": {
      "text/plain": [
       "['apple', 'orange', 'grape', 'guava']"
      ]
     },
     "execution_count": 173,
     "metadata": {},
     "output_type": "execute_result"
    }
   ],
   "source": [
    "list(d.values())"
   ]
  },
  {
   "cell_type": "code",
   "execution_count": 175,
   "id": "395887b7-0281-431f-b099-007cbf314e05",
   "metadata": {},
   "outputs": [
    {
     "data": {
      "text/plain": [
       "[(1, 'apple'), (2, 'orange'), (3, 'grape'), (4, 'guava')]"
      ]
     },
     "execution_count": 175,
     "metadata": {},
     "output_type": "execute_result"
    }
   ],
   "source": [
    "list(d.items())"
   ]
  },
  {
   "cell_type": "code",
   "execution_count": null,
   "id": "07835f22-d551-4d69-92c8-f72ba4b51952",
   "metadata": {},
   "outputs": [],
   "source": [
    "#  list(d) : This returns a list of the keys only from the dictionary.\n",
    "#  list(d.keys()) :This also returns a list of keys, just like list(d), but it's more explicit and clear in intent.\n",
    "#  list(d.values()) :  This returns a list of the values of the dictionary.\n",
    "#  list(d.items()) : This returns a list of (key, value) tuples, useful when you want both elements.\n"
   ]
  }
 ],
 "metadata": {
  "kernelspec": {
   "display_name": "Python [conda env:base] *",
   "language": "python",
   "name": "conda-base-py"
  },
  "language_info": {
   "codemirror_mode": {
    "name": "ipython",
    "version": 3
   },
   "file_extension": ".py",
   "mimetype": "text/x-python",
   "name": "python",
   "nbconvert_exporter": "python",
   "pygments_lexer": "ipython3",
   "version": "3.12.7"
  }
 },
 "nbformat": 4,
 "nbformat_minor": 5
}
