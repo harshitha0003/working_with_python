{
 "cells": [
  {
   "cell_type": "markdown",
   "id": "ba262c56-0841-44f8-a847-c60df4b639f6",
   "metadata": {},
   "source": [
    "# 1  Write a function greet() that prints \"Hello, welcome to Python!\"."
   ]
  },
  {
   "cell_type": "code",
   "execution_count": 1,
   "id": "c1d0586b-f4ca-4f15-9ef0-d1f8113e34d6",
   "metadata": {},
   "outputs": [],
   "source": [
    "def greet():\n",
    "    print(\"Hello, welcome to Python!\")"
   ]
  },
  {
   "cell_type": "code",
   "execution_count": 3,
   "id": "b6dcba22-3564-47eb-b7a1-c592fb7d8380",
   "metadata": {},
   "outputs": [
    {
     "name": "stdout",
     "output_type": "stream",
     "text": [
      "Hello, welcome to Python!\n"
     ]
    }
   ],
   "source": [
    "greet()"
   ]
  },
  {
   "cell_type": "markdown",
   "id": "186acac9-4423-4010-aa19-fb9baa01025e",
   "metadata": {},
   "source": [
    "# 2  Create a function add(x, y) that returns the sum of two numbers."
   ]
  },
  {
   "cell_type": "code",
   "execution_count": 6,
   "id": "f9ffa4c5-1f3b-40cf-805d-2dd0828aafbf",
   "metadata": {},
   "outputs": [],
   "source": [
    "def add(x,y):\n",
    "    return x+y"
   ]
  },
  {
   "cell_type": "code",
   "execution_count": 10,
   "id": "8d2d8c11-2f77-45a9-a78b-6cfcdb92b036",
   "metadata": {},
   "outputs": [
    {
     "data": {
      "text/plain": [
       "3"
      ]
     },
     "execution_count": 10,
     "metadata": {},
     "output_type": "execute_result"
    }
   ],
   "source": [
    "add(1,2)"
   ]
  },
  {
   "cell_type": "markdown",
   "id": "3907df53-db62-44d7-b2d0-145ed74b751a",
   "metadata": {},
   "source": [
    "# 3   Write a function area_of_circle(r) that returns the area of a circle using the formula πr²."
   ]
  },
  {
   "cell_type": "code",
   "execution_count": 15,
   "id": "0b97b3dc-54b2-4d19-8c11-0a518d575194",
   "metadata": {},
   "outputs": [
    {
     "data": {
      "text/plain": [
       "12.56"
      ]
     },
     "execution_count": 15,
     "metadata": {},
     "output_type": "execute_result"
    }
   ],
   "source": [
    "def area_of_circle(r):\n",
    "    return 3.14 *r*r\n",
    "area_of_circle(2)"
   ]
  },
  {
   "cell_type": "markdown",
   "id": "a27dfb91-579a-4633-b947-117d53ca0639",
   "metadata": {},
   "source": [
    "# 4  Define a function max_of_three(a, b, c) that returns the largest of the three numbers.\n"
   ]
  },
  {
   "cell_type": "code",
   "execution_count": 18,
   "id": "8abd08f2-6964-4aa5-9e45-54c721e77e06",
   "metadata": {},
   "outputs": [],
   "source": [
    "def max_of_three(a, b, c):\n",
    "    if a > b and a > c :\n",
    "        print(\"largest :\",a)\n",
    "    elif b > a and b > c :\n",
    "        print(\"largest :\",b)\n",
    "    else:\n",
    "        print(\"largest :\",c)"
   ]
  },
  {
   "cell_type": "code",
   "execution_count": 20,
   "id": "dc9adc05-5bb3-4e94-9930-170a5cb7412b",
   "metadata": {},
   "outputs": [
    {
     "name": "stdout",
     "output_type": "stream",
     "text": [
      "largest : 90\n"
     ]
    }
   ],
   "source": [
    "max_of_three(1,3,90)"
   ]
  },
  {
   "cell_type": "markdown",
   "id": "6d3f16aa-5ab2-45f4-bf70-e2e33a94e8c0",
   "metadata": {},
   "source": [
    "# 5  Write a function is_even(n) that returns True if a number is even, otherwise False."
   ]
  },
  {
   "cell_type": "code",
   "execution_count": 23,
   "id": "2c5f2ee5-cda8-4e04-903b-2420c6d8af0e",
   "metadata": {},
   "outputs": [],
   "source": [
    "def is_even(n):\n",
    "    if n % 2 == 0:\n",
    "        return True\n",
    "    else:\n",
    "        return False"
   ]
  },
  {
   "cell_type": "code",
   "execution_count": 31,
   "id": "1fc53e9d-9c9c-4607-b5c1-e3cbb1b1c12d",
   "metadata": {},
   "outputs": [
    {
     "data": {
      "text/plain": [
       "True"
      ]
     },
     "execution_count": 31,
     "metadata": {},
     "output_type": "execute_result"
    }
   ],
   "source": [
    "is_even(6)"
   ]
  },
  {
   "cell_type": "markdown",
   "id": "836cd784-8312-42d9-8bd6-2e251d7b7861",
   "metadata": {},
   "source": [
    "# 6   Create a function reverse_string(s) that returns the reverse of a string.\n"
   ]
  },
  {
   "cell_type": "code",
   "execution_count": 36,
   "id": "e0138b62-f740-4029-af19-bde0aaa9e423",
   "metadata": {},
   "outputs": [
    {
     "data": {
      "text/plain": [
       "'olleh'"
      ]
     },
     "execution_count": 36,
     "metadata": {},
     "output_type": "execute_result"
    }
   ],
   "source": [
    "def reverse_string(s):\n",
    "    return s[::-1]\n",
    "reverse_string(\"hello\")"
   ]
  },
  {
   "cell_type": "markdown",
   "id": "dc885a79-e2cf-492c-a5e9-e819701410e3",
   "metadata": {},
   "source": [
    "# 7  Define a function count_vowels(text) that returns the number of vowels in a string."
   ]
  },
  {
   "cell_type": "code",
   "execution_count": 47,
   "id": "814418c4-7029-44f8-92ef-de9c0b778b13",
   "metadata": {},
   "outputs": [],
   "source": [
    "def count_vowels(text):\n",
    "    count = 0\n",
    "    for i in text:\n",
    "        vowels= \"aeiou\"\n",
    "        if i in vowels:\n",
    "            count= count+1\n",
    "    return count\n",
    "            "
   ]
  },
  {
   "cell_type": "code",
   "execution_count": 49,
   "id": "a06ac5da-92d8-485d-9ca1-2d03e059ee8f",
   "metadata": {},
   "outputs": [
    {
     "data": {
      "text/plain": [
       "2"
      ]
     },
     "execution_count": 49,
     "metadata": {},
     "output_type": "execute_result"
    }
   ],
   "source": [
    "count_vowels(\"hello\")"
   ]
  },
  {
   "cell_type": "markdown",
   "id": "b3d0de19-c80e-4615-97db-c4b0c6d96c63",
   "metadata": {},
   "source": [
    "# 8  Write a function convert_celsius_to_fahrenheit(c) that converts Celsius to Fahrenheit."
   ]
  },
  {
   "cell_type": "code",
   "execution_count": 54,
   "id": "55e971cc-cc8e-4cc0-b8c5-96493b8cf6da",
   "metadata": {},
   "outputs": [
    {
     "data": {
      "text/plain": [
       "42.8"
      ]
     },
     "execution_count": 54,
     "metadata": {},
     "output_type": "execute_result"
    }
   ],
   "source": [
    "def convert_celsius_to_fahrenheit(c):\n",
    "    f = (c * 9/5)+32\n",
    "    return f\n",
    "convert_celsius_to_fahrenheit(6)"
   ]
  },
  {
   "cell_type": "markdown",
   "id": "9f3c2231-808c-49a3-b3ad-58ae79fa910d",
   "metadata": {},
   "source": [
    "# 9  Create a function multiply_list(lst) that returns the product of all elements in a list."
   ]
  },
  {
   "cell_type": "code",
   "execution_count": 63,
   "id": "7f684666-2abd-40f6-b588-4faa97a59c59",
   "metadata": {},
   "outputs": [
    {
     "data": {
      "text/plain": [
       "288"
      ]
     },
     "execution_count": 63,
     "metadata": {},
     "output_type": "execute_result"
    }
   ],
   "source": [
    "def multiply_list(lst):\n",
    "    product = 1\n",
    "    for i in lst:\n",
    "        product = product * i\n",
    "    return product\n",
    "l = [1,2,3,6,8]\n",
    "multiply_list(l)"
   ]
  },
  {
   "cell_type": "markdown",
   "id": "a67c27cd-63e5-4d32-afdd-f5a5ba2ac1dd",
   "metadata": {},
   "source": [
    "# 10  Write a function remove_duplicates(lst) that removes duplicate items from a list and returns a new list."
   ]
  },
  {
   "cell_type": "code",
   "execution_count": 66,
   "id": "2aa119a2-c2fb-4481-b651-fcfd08d09fc0",
   "metadata": {},
   "outputs": [],
   "source": [
    "def remove_duplicates(lst):\n",
    "    lst = set(lst)\n",
    "    return list(lst)"
   ]
  },
  {
   "cell_type": "code",
   "execution_count": 70,
   "id": "fc697f5d-82c1-43e9-ae75-caeb80ecf5be",
   "metadata": {},
   "outputs": [
    {
     "data": {
      "text/plain": [
       "[1, 2, 3, 4, 5, 7]"
      ]
     },
     "execution_count": 70,
     "metadata": {},
     "output_type": "execute_result"
    }
   ],
   "source": [
    "l =[1,2,3,4,5,1,2,3,3,3,4,7]\n",
    "remove_duplicates(l)"
   ]
  },
  {
   "cell_type": "markdown",
   "id": "e5dbc04f-27cf-4bde-87b3-89eead1e58d5",
   "metadata": {},
   "source": [
    "# 11  Define a function is_palindrome(word) that checks whether a string is a palindrome."
   ]
  },
  {
   "cell_type": "code",
   "execution_count": 78,
   "id": "5abc5510-975c-4399-8a4f-56b5ca53d626",
   "metadata": {},
   "outputs": [],
   "source": [
    "def is_palindrome(word):\n",
    "    if word == word[::-1]:\n",
    "        return \"palindrome\"\n",
    "    else:\n",
    "        return \"Not palindrome\"\n"
   ]
  },
  {
   "cell_type": "code",
   "execution_count": 80,
   "id": "583fcbe2-33c1-4bc0-97be-3f35ee52fd9d",
   "metadata": {},
   "outputs": [
    {
     "data": {
      "text/plain": [
       "'palindrome'"
      ]
     },
     "execution_count": 80,
     "metadata": {},
     "output_type": "execute_result"
    }
   ],
   "source": [
    "is_palindrome(\"madam\")"
   ]
  },
  {
   "cell_type": "code",
   "execution_count": 88,
   "id": "891ff172-a26b-42cd-b3be-192200131393",
   "metadata": {},
   "outputs": [
    {
     "data": {
      "text/plain": [
       "'Not palindrome'"
      ]
     },
     "execution_count": 88,
     "metadata": {},
     "output_type": "execute_result"
    }
   ],
   "source": [
    "is_palindrome(\"hello\")"
   ]
  },
  {
   "cell_type": "markdown",
   "id": "96744526-5370-4a14-a2af-73282ca03d26",
   "metadata": {},
   "source": [
    "# 12  Create a function word_frequency(text) that returns a dictionary with word counts in a given sentence."
   ]
  },
  {
   "cell_type": "code",
   "execution_count": 130,
   "id": "a6c56258-6a5d-4a71-91b7-fbee643d80c7",
   "metadata": {},
   "outputs": [],
   "source": [
    "def word_frequency(text):\n",
    "    text = text.split()\n",
    "    x = {i: text.count(i) for i in text}\n",
    "    return x"
   ]
  },
  {
   "cell_type": "code",
   "execution_count": 134,
   "id": "215ebe19-c781-4ec9-a85e-f71b6ba72578",
   "metadata": {},
   "outputs": [
    {
     "data": {
      "text/plain": [
       "{'hi': 1, 'my': 1, 'name': 1, 'is': 1, 'harshitha': 1}"
      ]
     },
     "execution_count": 134,
     "metadata": {},
     "output_type": "execute_result"
    }
   ],
   "source": [
    "word_frequency(\"hi my name is harshitha\")"
   ]
  },
  {
   "cell_type": "markdown",
   "id": "c1b818cd-3948-43e5-9607-1468ed15cac3",
   "metadata": {},
   "source": [
    "# 13  Write a function get_even_numbers(lst) that returns a list of even numbers from the given list."
   ]
  },
  {
   "cell_type": "code",
   "execution_count": 137,
   "id": "5234187b-d8b8-4a8c-bde0-e7d824290371",
   "metadata": {},
   "outputs": [],
   "source": [
    "def get_even_numbers(lst):\n",
    "    l = []\n",
    "    for i in lst:\n",
    "        if i % 2 == 0:\n",
    "            l.append(i)\n",
    "    return l"
   ]
  },
  {
   "cell_type": "code",
   "execution_count": 139,
   "id": "0af4a6be-93a2-455a-bde8-72ff9095f2f7",
   "metadata": {},
   "outputs": [
    {
     "data": {
      "text/plain": [
       "[2, 4, 6, 8]"
      ]
     },
     "execution_count": 139,
     "metadata": {},
     "output_type": "execute_result"
    }
   ],
   "source": [
    "l = [1,2,3,4,5,6,7,8,9]\n",
    "get_even_numbers(l)"
   ]
  },
  {
   "cell_type": "markdown",
   "id": "e1883893-a442-408c-823a-435938caafa3",
   "metadata": {},
   "source": [
    "# 14  Define a function find_common_elements(list1, list2) that returns a list of elements present in both lists."
   ]
  },
  {
   "cell_type": "code",
   "execution_count": 166,
   "id": "d233f740-5103-44a3-ac8e-ba01182ae8c5",
   "metadata": {},
   "outputs": [],
   "source": [
    "def find_common_elements(list1, list2):\n",
    "    list1 = set(list1)\n",
    "    list2 = set(list2)\n",
    "    x = list1.intersection(list2)\n",
    "    return list(x)"
   ]
  },
  {
   "cell_type": "code",
   "execution_count": 168,
   "id": "d39cc352-34ce-422a-9a83-ff0676c9f262",
   "metadata": {},
   "outputs": [
    {
     "data": {
      "text/plain": [
       "[1, 4]"
      ]
     },
     "execution_count": 168,
     "metadata": {},
     "output_type": "execute_result"
    }
   ],
   "source": [
    "l=[1,2,3,4]\n",
    "l1 =[1,4,7,9]\n",
    "find_common_elements(l,l1)"
   ]
  },
  {
   "cell_type": "code",
   "execution_count": null,
   "id": "dca9ed19-f7d9-4344-8ae3-00824a46f497",
   "metadata": {},
   "outputs": [],
   "source": []
  }
 ],
 "metadata": {
  "kernelspec": {
   "display_name": "Python [conda env:base] *",
   "language": "python",
   "name": "conda-base-py"
  },
  "language_info": {
   "codemirror_mode": {
    "name": "ipython",
    "version": 3
   },
   "file_extension": ".py",
   "mimetype": "text/x-python",
   "name": "python",
   "nbconvert_exporter": "python",
   "pygments_lexer": "ipython3",
   "version": "3.12.7"
  }
 },
 "nbformat": 4,
 "nbformat_minor": 5
}
