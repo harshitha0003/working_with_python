{
 "cells": [
  {
   "cell_type": "markdown",
   "id": "91fc3b1c-49a0-4de0-a9c6-d973bdf4e292",
   "metadata": {},
   "source": [
    "### Q1. Create a list of your five favorite fruits.\n",
    " Add a new fruit to the end of the list using the appropriate method.\n"
   ]
  },
  {
   "cell_type": "code",
   "execution_count": 13,
   "id": "efa8b670-4493-410a-8f11-34b8d6d76770",
   "metadata": {},
   "outputs": [],
   "source": [
    "fruits = ['mango','banana','grape','oranges','guava']"
   ]
  },
  {
   "cell_type": "code",
   "execution_count": 15,
   "id": "314f7132-1ce1-428c-97ce-ce0c9aacfb41",
   "metadata": {},
   "outputs": [
    {
     "name": "stdout",
     "output_type": "stream",
     "text": [
      "['mango', 'banana', 'grape', 'oranges', 'guava']\n"
     ]
    }
   ],
   "source": [
    "print(fruits)"
   ]
  },
  {
   "cell_type": "code",
   "execution_count": 17,
   "id": "72cccf33-3242-4d25-9dff-402f5c2a1b77",
   "metadata": {},
   "outputs": [],
   "source": [
    "fruits.append('apple')"
   ]
  },
  {
   "cell_type": "code",
   "execution_count": 19,
   "id": "cff7f236-e8c1-4a82-b405-5862554054bb",
   "metadata": {},
   "outputs": [
    {
     "name": "stdout",
     "output_type": "stream",
     "text": [
      "['mango', 'banana', 'grape', 'oranges', 'guava', 'apple']\n"
     ]
    }
   ],
   "source": [
    "print(fruits)"
   ]
  },
  {
   "cell_type": "markdown",
   "id": "0e77d97a-271d-4348-83c7-3711a1b86683",
   "metadata": {},
   "source": [
    "### Q2. Create a list of numbers from 1 to 5.\n",
    " Insert the number 10 at the second position.\n"
   ]
  },
  {
   "cell_type": "code",
   "execution_count": 22,
   "id": "0bcef4e7-4426-4adc-8345-76555674d44b",
   "metadata": {},
   "outputs": [],
   "source": [
    "List = [1,2,3,4,5]"
   ]
  },
  {
   "cell_type": "code",
   "execution_count": 24,
   "id": "827f8902-c3a2-436b-b389-7fbbcb7e6280",
   "metadata": {},
   "outputs": [
    {
     "name": "stdout",
     "output_type": "stream",
     "text": [
      "[1, 2, 3, 4, 5]\n"
     ]
    }
   ],
   "source": [
    "print(List)"
   ]
  },
  {
   "cell_type": "code",
   "execution_count": 26,
   "id": "650c0d0d-9279-4d2c-bc6b-db2733fd8de5",
   "metadata": {},
   "outputs": [],
   "source": [
    "List.insert(1,10)"
   ]
  },
  {
   "cell_type": "code",
   "execution_count": 28,
   "id": "68eb5a00-a576-4bf5-946c-620bb5c4e163",
   "metadata": {},
   "outputs": [
    {
     "name": "stdout",
     "output_type": "stream",
     "text": [
      "[1, 10, 2, 3, 4, 5]\n"
     ]
    }
   ],
   "source": [
    "print(List)"
   ]
  },
  {
   "cell_type": "markdown",
   "id": "452032c1-f830-41aa-8574-6bc28692cfbf",
   "metadata": {},
   "source": [
    "### Q3. Create a list with duplicate elements.\n",
    " Use a method to find how many times a particular element appears.\n"
   ]
  },
  {
   "cell_type": "code",
   "execution_count": 31,
   "id": "7b18138a-1361-4255-bc8d-4506a61230bb",
   "metadata": {},
   "outputs": [
    {
     "data": {
      "text/plain": [
       "3"
      ]
     },
     "execution_count": 31,
     "metadata": {},
     "output_type": "execute_result"
    }
   ],
   "source": [
    "lst = [1,2,3,2,4,6,2,4,9,7]\n",
    "lst.count(2)"
   ]
  },
  {
   "cell_type": "code",
   "execution_count": 35,
   "id": "7c2a84c3-8d80-4fde-b0ec-782e1333d8c3",
   "metadata": {},
   "outputs": [
    {
     "data": {
      "text/plain": [
       "1"
      ]
     },
     "execution_count": 35,
     "metadata": {},
     "output_type": "execute_result"
    }
   ],
   "source": [
    "lst.count(7)"
   ]
  },
  {
   "cell_type": "markdown",
   "id": "3b40d2c9-d8eb-4c30-ba61-c93d01f9a3d0",
   "metadata": {},
   "source": [
    "### Q4. Remove the third item from a list of 6 elements using a list method."
   ]
  },
  {
   "cell_type": "code",
   "execution_count": 38,
   "id": "0dd4f919-c58a-49d4-b97a-6dba1a99633d",
   "metadata": {},
   "outputs": [],
   "source": [
    "lst = [10,30,50,80,100,140]"
   ]
  },
  {
   "cell_type": "code",
   "execution_count": 46,
   "id": "7b328654-5394-4beb-9ca0-43a1826fce63",
   "metadata": {},
   "outputs": [],
   "source": [
    "del lst[2]"
   ]
  },
  {
   "cell_type": "code",
   "execution_count": 48,
   "id": "f5a77eec-00a1-4547-b258-54be271010a6",
   "metadata": {},
   "outputs": [
    {
     "data": {
      "text/plain": [
       "[10, 30, 80, 100, 140]"
      ]
     },
     "execution_count": 48,
     "metadata": {},
     "output_type": "execute_result"
    }
   ],
   "source": [
    "lst"
   ]
  },
  {
   "cell_type": "markdown",
   "id": "0ce93636-d0fe-4ef3-a343-fec9bdc074af",
   "metadata": {},
   "source": [
    "### Q5. Create a list of your three favorite subjects.\n",
    " Replace the second subject with \"Mathematics\"."
   ]
  },
  {
   "cell_type": "code",
   "execution_count": 59,
   "id": "27fdb767-4fc1-49e1-9f0f-8bb5ba33f026",
   "metadata": {},
   "outputs": [],
   "source": [
    "subject = ['social','telugu','history']"
   ]
  },
  {
   "cell_type": "code",
   "execution_count": 65,
   "id": "3821d9df-c27c-44b3-b63e-5ff2a65dd352",
   "metadata": {},
   "outputs": [],
   "source": [
    "subject[1] = 'Mathematics'"
   ]
  },
  {
   "cell_type": "code",
   "execution_count": 67,
   "id": "8fa20f55-3122-4e09-a8ef-9205e8fbd441",
   "metadata": {},
   "outputs": [
    {
     "name": "stdout",
     "output_type": "stream",
     "text": [
      "['social', 'Mathematics', 'history']\n"
     ]
    }
   ],
   "source": [
    "print(subject)"
   ]
  },
  {
   "cell_type": "markdown",
   "id": "7e33f9c4-15c7-49b9-9dd9-164283ce0ba0",
   "metadata": {},
   "source": [
    "### Q6. Create a list and remove the last item using the appropriate method"
   ]
  },
  {
   "cell_type": "code",
   "execution_count": 70,
   "id": "9d527b6d-acf0-4120-b5f3-e2f13c358fbc",
   "metadata": {},
   "outputs": [],
   "source": [
    "lst = [1,5,8,0,9,7]"
   ]
  },
  {
   "cell_type": "code",
   "execution_count": 72,
   "id": "c80ffbac-dd78-485c-af6d-3f977df86881",
   "metadata": {},
   "outputs": [
    {
     "data": {
      "text/plain": [
       "7"
      ]
     },
     "execution_count": 72,
     "metadata": {},
     "output_type": "execute_result"
    }
   ],
   "source": [
    "lst.pop()"
   ]
  },
  {
   "cell_type": "code",
   "execution_count": 74,
   "id": "6241dfd9-104a-4cc9-981c-c59f5eb82e8b",
   "metadata": {},
   "outputs": [
    {
     "name": "stdout",
     "output_type": "stream",
     "text": [
      "[1, 5, 8, 0, 9]\n"
     ]
    }
   ],
   "source": [
    "print(lst)"
   ]
  },
  {
   "cell_type": "markdown",
   "id": "eb06ce79-b1d7-4320-97cd-abdbcd6f85fc",
   "metadata": {},
   "source": [
    "### Q7. Create a list of countries and add a new country at index 1.\n"
   ]
  },
  {
   "cell_type": "code",
   "execution_count": 77,
   "id": "40df68d7-89ec-4280-854d-8cec540e785e",
   "metadata": {},
   "outputs": [],
   "source": [
    "country = ['india','srilanka','japan','korea']"
   ]
  },
  {
   "cell_type": "code",
   "execution_count": 79,
   "id": "d9bcc255-6d91-49f8-a3af-d5b9269af4b8",
   "metadata": {},
   "outputs": [],
   "source": [
    "country.insert(1,'u.k')"
   ]
  },
  {
   "cell_type": "code",
   "execution_count": 81,
   "id": "7ceaa025-efd2-47d3-97fc-ed50827a198b",
   "metadata": {},
   "outputs": [
    {
     "name": "stdout",
     "output_type": "stream",
     "text": [
      "['india', 'u.k', 'srilanka', 'japan', 'korea']\n"
     ]
    }
   ],
   "source": [
    "print(country)"
   ]
  },
  {
   "cell_type": "markdown",
   "id": "5fbe69db-cb82-4fa4-befc-e26a215aa33d",
   "metadata": {},
   "source": [
    "### Q8. Use a list method to find the position of an element in the list."
   ]
  },
  {
   "cell_type": "code",
   "execution_count": 86,
   "id": "6007621d-76ac-4169-af44-91223a5fe2d4",
   "metadata": {},
   "outputs": [],
   "source": [
    "lst =[100,200,300,400,500,600]"
   ]
  },
  {
   "cell_type": "code",
   "execution_count": 90,
   "id": "664a5451-53bb-44ca-9963-120258ded9d4",
   "metadata": {},
   "outputs": [
    {
     "name": "stdout",
     "output_type": "stream",
     "text": [
      "300\n"
     ]
    }
   ],
   "source": [
    "print(lst[2])"
   ]
  },
  {
   "cell_type": "markdown",
   "id": "761e8ae2-89aa-43f3-88a0-e8fb0c261e67",
   "metadata": {},
   "source": [
    "### Q9. Create a list and check whether an item \"apple\" exists in it or not (you can use the in keyword).\n"
   ]
  },
  {
   "cell_type": "code",
   "execution_count": 93,
   "id": "f1183e03-3efc-4454-8068-aec0e23f2f7f",
   "metadata": {},
   "outputs": [],
   "source": [
    "lst=['grape','maggi','sweets','chocolate','apple']"
   ]
  },
  {
   "cell_type": "code",
   "execution_count": 95,
   "id": "93ed2ca8-2b15-4e02-abe7-4c1abef870ea",
   "metadata": {},
   "outputs": [
    {
     "name": "stdout",
     "output_type": "stream",
     "text": [
      "True\n"
     ]
    }
   ],
   "source": [
    "print(\"apple\" in lst)"
   ]
  },
  {
   "cell_type": "markdown",
   "id": "fe917e93-6c64-4cfa-beeb-06021dac32be",
   "metadata": {},
   "source": [
    "### Q10. Make a list and use pop() to remove an item.\n",
    " Store the removed item in a variable and print it.\n"
   ]
  },
  {
   "cell_type": "code",
   "execution_count": 98,
   "id": "5205f148-1d2f-4d1c-b746-69d4983d0610",
   "metadata": {},
   "outputs": [],
   "source": [
    "lst = [100,200,300,4000,500]"
   ]
  },
  {
   "cell_type": "code",
   "execution_count": 100,
   "id": "c7cdefaf-4f3e-4c57-858e-1254ce53e1c1",
   "metadata": {},
   "outputs": [],
   "source": [
    "a = lst.pop()"
   ]
  },
  {
   "cell_type": "code",
   "execution_count": 102,
   "id": "4960306b-a9cf-45a5-9daf-9d1273841576",
   "metadata": {},
   "outputs": [
    {
     "name": "stdout",
     "output_type": "stream",
     "text": [
      "[100, 200, 300, 4000]\n"
     ]
    }
   ],
   "source": [
    "print(lst)"
   ]
  },
  {
   "cell_type": "code",
   "execution_count": 104,
   "id": "7c97a6aa-f145-4b3e-9848-be400ae375c1",
   "metadata": {},
   "outputs": [
    {
     "name": "stdout",
     "output_type": "stream",
     "text": [
      "removed item 500\n"
     ]
    }
   ],
   "source": [
    "print(\"removed item\",a)"
   ]
  },
  {
   "cell_type": "markdown",
   "id": "217216bd-4f42-44d8-8163-a74dbaa6e039",
   "metadata": {},
   "source": [
    "# List Methods\n",
    "## Insertions and Additions\n"
   ]
  },
  {
   "cell_type": "markdown",
   "id": "5593fcde-8b95-45c5-a521-dd0c9832940f",
   "metadata": {},
   "source": [
    "### Q1. Create an empty list and add five elements to it using append().\n"
   ]
  },
  {
   "cell_type": "code",
   "execution_count": 139,
   "id": "cf5d63fb-5dc5-46d7-bd43-6affbc7382a9",
   "metadata": {},
   "outputs": [],
   "source": [
    "lst = []"
   ]
  },
  {
   "cell_type": "code",
   "execution_count": 141,
   "id": "a084e841-46ec-49b3-96d7-19f49d689e5a",
   "metadata": {},
   "outputs": [],
   "source": [
    "lst.append(12)"
   ]
  },
  {
   "cell_type": "code",
   "execution_count": 143,
   "id": "1f396798-d064-48c2-a6c3-967c8e1e9505",
   "metadata": {},
   "outputs": [],
   "source": [
    "lst.append(22)"
   ]
  },
  {
   "cell_type": "code",
   "execution_count": 145,
   "id": "0c16a7a0-da2f-43ff-805f-71d1db85717e",
   "metadata": {},
   "outputs": [],
   "source": [
    "lst.append(32)"
   ]
  },
  {
   "cell_type": "code",
   "execution_count": 147,
   "id": "e1145b09-f9dc-4eab-b3f1-01e43c33c1f0",
   "metadata": {},
   "outputs": [],
   "source": [
    "lst.append(42)"
   ]
  },
  {
   "cell_type": "code",
   "execution_count": 149,
   "id": "e7f6764b-c8e2-4312-b33d-95047ccdacfd",
   "metadata": {},
   "outputs": [],
   "source": [
    "lst.append(52)"
   ]
  },
  {
   "cell_type": "code",
   "execution_count": 151,
   "id": "e10a1204-cb0a-400a-afa1-88f72975dcd7",
   "metadata": {},
   "outputs": [
    {
     "name": "stdout",
     "output_type": "stream",
     "text": [
      "[12, 22, 32, 42, 52]\n"
     ]
    }
   ],
   "source": [
    "print(lst)"
   ]
  },
  {
   "cell_type": "markdown",
   "id": "551635ae-9652-4065-a90d-0f6d6150b790",
   "metadata": {},
   "source": [
    "### Q2. Create a list of colors and use insert() to add \"purple\" at index 2.\n"
   ]
  },
  {
   "cell_type": "code",
   "execution_count": 154,
   "id": "239cc3ce-5d68-437d-8a3c-2d82f734a06e",
   "metadata": {},
   "outputs": [],
   "source": [
    "colors = ['red','yellow','pink','black','white']"
   ]
  },
  {
   "cell_type": "code",
   "execution_count": 156,
   "id": "f7aa9ed6-c2c1-48a6-a182-7ae4c91e6a74",
   "metadata": {},
   "outputs": [],
   "source": [
    "colors.insert(2,'purple')"
   ]
  },
  {
   "cell_type": "code",
   "execution_count": 158,
   "id": "4f24f3df-4dfe-4bbb-bdde-bd4343c4a131",
   "metadata": {},
   "outputs": [
    {
     "name": "stdout",
     "output_type": "stream",
     "text": [
      "['red', 'yellow', 'purple', 'pink', 'black', 'white']\n"
     ]
    }
   ],
   "source": [
    "print(colors)"
   ]
  },
  {
   "cell_type": "markdown",
   "id": "cb3db772-5d7c-4e9a-9a6b-fda309ccd26c",
   "metadata": {},
   "source": [
    "### Q3. Start with a list of two numbers. Append two more numbers. Then insert a number at the beginning.\n"
   ]
  },
  {
   "cell_type": "code",
   "execution_count": 161,
   "id": "bf6e23cb-fabd-49a7-ab63-7d252f083ac6",
   "metadata": {},
   "outputs": [],
   "source": [
    "lst = [33,65]"
   ]
  },
  {
   "cell_type": "code",
   "execution_count": 165,
   "id": "9456af80-5750-418f-8252-f4f15d0ea28f",
   "metadata": {},
   "outputs": [],
   "source": [
    "lst.append(31)"
   ]
  },
  {
   "cell_type": "code",
   "execution_count": 167,
   "id": "fe72acea-5d6f-420f-9a0e-8fdd0c7e0d0e",
   "metadata": {},
   "outputs": [],
   "source": [
    "lst.append(89)"
   ]
  },
  {
   "cell_type": "code",
   "execution_count": 169,
   "id": "2d732769-85e4-478d-91ec-4d24d88c5ac1",
   "metadata": {},
   "outputs": [],
   "source": [
    "lst.insert(0,56)"
   ]
  },
  {
   "cell_type": "code",
   "execution_count": 171,
   "id": "4b33cf2f-94a2-45ba-902b-3f0e44835d9a",
   "metadata": {},
   "outputs": [
    {
     "name": "stdout",
     "output_type": "stream",
     "text": [
      "[56, 33, 65, 31, 89]\n"
     ]
    }
   ],
   "source": [
    "print(lst)"
   ]
  },
  {
   "cell_type": "markdown",
   "id": "2f9e21b8-f710-490d-8343-17afdbc21861",
   "metadata": {},
   "source": [
    "## Removals"
   ]
  },
  {
   "cell_type": "markdown",
   "id": "a9cc018e-23d4-4957-ab93-de98f992ea42",
   "metadata": {},
   "source": [
    "### Q4. Create a list of 6 fruits. Remove one by name using remove().\n"
   ]
  },
  {
   "cell_type": "code",
   "execution_count": 176,
   "id": "6959b1ae-f8af-4b76-986d-d6ce9957023b",
   "metadata": {},
   "outputs": [],
   "source": [
    "fruits = ['mango','banana','grape','oranges','guava','apple']"
   ]
  },
  {
   "cell_type": "code",
   "execution_count": 180,
   "id": "14b408f6-b766-4df1-aacd-b2b28734da46",
   "metadata": {},
   "outputs": [],
   "source": [
    "fruits.remove('oranges')"
   ]
  },
  {
   "cell_type": "code",
   "execution_count": 182,
   "id": "825f218f-f773-49d5-b7f3-406b286f2409",
   "metadata": {},
   "outputs": [
    {
     "name": "stdout",
     "output_type": "stream",
     "text": [
      "['mango', 'banana', 'grape', 'guava', 'apple']\n"
     ]
    }
   ],
   "source": [
    "print(fruits)"
   ]
  },
  {
   "cell_type": "markdown",
   "id": "c36206be-884f-4e42-bf4b-88900d1832ae",
   "metadata": {},
   "source": [
    "### Q5. Use pop() to remove the last element of a list and print the removed value.\n"
   ]
  },
  {
   "cell_type": "code",
   "execution_count": 215,
   "id": "4c8758bd-3d47-4204-94b2-945edb04b679",
   "metadata": {},
   "outputs": [],
   "source": [
    "lst = [33,56,89,11,8,22,84]"
   ]
  },
  {
   "cell_type": "code",
   "execution_count": 217,
   "id": "b668b513-e5b4-4b01-9e33-de88ab8b3ce3",
   "metadata": {},
   "outputs": [],
   "source": [
    "removed_element = lst.pop()"
   ]
  },
  {
   "cell_type": "code",
   "execution_count": 219,
   "id": "f6818fdc-667e-4811-a1e3-98cdd76396be",
   "metadata": {},
   "outputs": [
    {
     "name": "stdout",
     "output_type": "stream",
     "text": [
      "84\n"
     ]
    }
   ],
   "source": [
    "print(removed_element)"
   ]
  },
  {
   "cell_type": "markdown",
   "id": "6d4662b7-db68-4f6f-af38-464271c2d00e",
   "metadata": {},
   "source": [
    "### Q6. Use pop(index) to remove the third item in a list of countries.\n"
   ]
  },
  {
   "cell_type": "code",
   "execution_count": 222,
   "id": "dc51434b-b957-4ccd-aa33-e21402d643d5",
   "metadata": {},
   "outputs": [],
   "source": [
    "countries = ['india','srilanka','japan','korea']"
   ]
  },
  {
   "cell_type": "code",
   "execution_count": 224,
   "id": "0fdf4137-a9ab-492f-ad88-e56c70169642",
   "metadata": {},
   "outputs": [
    {
     "data": {
      "text/plain": [
       "'japan'"
      ]
     },
     "execution_count": 224,
     "metadata": {},
     "output_type": "execute_result"
    }
   ],
   "source": [
    "countries.pop(2)"
   ]
  },
  {
   "cell_type": "markdown",
   "id": "eeb3a3a5-9192-4d51-9ad0-cb725c160a90",
   "metadata": {},
   "source": [
    "### Q7. Try removing an element that doesn’t exist from a list using remove(). What happens?\n"
   ]
  },
  {
   "cell_type": "code",
   "execution_count": 227,
   "id": "a3609436-54c5-44d1-878b-1ee89572afa9",
   "metadata": {},
   "outputs": [],
   "source": [
    "lst = [33,56,89,11,8,22,84]"
   ]
  },
  {
   "cell_type": "code",
   "execution_count": 229,
   "id": "926316c2-537a-44f2-baf8-db9aed47b742",
   "metadata": {},
   "outputs": [
    {
     "ename": "ValueError",
     "evalue": "list.remove(x): x not in list",
     "output_type": "error",
     "traceback": [
      "\u001b[1;31m---------------------------------------------------------------------------\u001b[0m",
      "\u001b[1;31mValueError\u001b[0m                                Traceback (most recent call last)",
      "Cell \u001b[1;32mIn[229], line 1\u001b[0m\n\u001b[1;32m----> 1\u001b[0m lst\u001b[38;5;241m.\u001b[39mremove(\u001b[38;5;241m80\u001b[39m)\n",
      "\u001b[1;31mValueError\u001b[0m: list.remove(x): x not in list"
     ]
    }
   ],
   "source": [
    "lst.remove(80)"
   ]
  },
  {
   "cell_type": "code",
   "execution_count": 231,
   "id": "ad23a479-f2c0-49b6-8194-d92aa946a104",
   "metadata": {},
   "outputs": [],
   "source": [
    "#it shows an error if the element is not present in the list "
   ]
  },
  {
   "cell_type": "markdown",
   "id": "921a2143-7c74-4695-bd02-6035aeb55cb0",
   "metadata": {},
   "source": [
    "## Finding Elements\n"
   ]
  },
  {
   "cell_type": "markdown",
   "id": "5e5d2396-9139-4d46-8345-b35a27b2e088",
   "metadata": {},
   "source": [
    "### Q8. Create a list with repeated numbers. Use count() to find how many times 3 appears.\n"
   ]
  },
  {
   "cell_type": "code",
   "execution_count": 235,
   "id": "18f7636c-22e4-4ae3-a306-3258e7e3c684",
   "metadata": {},
   "outputs": [],
   "source": [
    "lst = [2,5,7,3,4,8,1,9,3,0,2,0,3,6,3]"
   ]
  },
  {
   "cell_type": "code",
   "execution_count": 241,
   "id": "012c5275-3df5-4545-b37b-3f04124271bd",
   "metadata": {},
   "outputs": [
    {
     "data": {
      "text/plain": [
       "4"
      ]
     },
     "execution_count": 241,
     "metadata": {},
     "output_type": "execute_result"
    }
   ],
   "source": [
    "lst.count(3)"
   ]
  },
  {
   "cell_type": "markdown",
   "id": "cd592b4e-1367-4b8e-8e8a-266556c10f13",
   "metadata": {},
   "source": [
    "### Q9. Create a list of animal names and use index() to find the position of \"cat\".\n"
   ]
  },
  {
   "cell_type": "code",
   "execution_count": 244,
   "id": "639f2a79-c05d-4655-8b59-b11646e83038",
   "metadata": {},
   "outputs": [],
   "source": [
    "animals = ['cow','cat','lion','hippo']"
   ]
  },
  {
   "cell_type": "code",
   "execution_count": 246,
   "id": "1c742b50-58cf-4f3c-bcfa-869b7576b494",
   "metadata": {},
   "outputs": [
    {
     "data": {
      "text/plain": [
       "1"
      ]
     },
     "execution_count": 246,
     "metadata": {},
     "output_type": "execute_result"
    }
   ],
   "source": [
    "animals.index('cat')"
   ]
  },
  {
   "cell_type": "markdown",
   "id": "0332ba28-f40d-4a90-b392-b0fe5ce5ce38",
   "metadata": {},
   "source": [
    "### Q10. What happens if you use index() for a value not in the list? Try it and note the result.\n"
   ]
  },
  {
   "cell_type": "code",
   "execution_count": 249,
   "id": "ee19068e-d0ec-4e18-9c21-2fd622570dd9",
   "metadata": {},
   "outputs": [],
   "source": [
    "animals = ['cow','cat','lion','hippo']"
   ]
  },
  {
   "cell_type": "code",
   "execution_count": 251,
   "id": "1730fa1f-bb04-471e-85a3-b2330856c5b7",
   "metadata": {},
   "outputs": [
    {
     "ename": "ValueError",
     "evalue": "'cats' is not in list",
     "output_type": "error",
     "traceback": [
      "\u001b[1;31m---------------------------------------------------------------------------\u001b[0m",
      "\u001b[1;31mValueError\u001b[0m                                Traceback (most recent call last)",
      "Cell \u001b[1;32mIn[251], line 1\u001b[0m\n\u001b[1;32m----> 1\u001b[0m animals\u001b[38;5;241m.\u001b[39mindex(\u001b[38;5;124m'\u001b[39m\u001b[38;5;124mcats\u001b[39m\u001b[38;5;124m'\u001b[39m)\n",
      "\u001b[1;31mValueError\u001b[0m: 'cats' is not in list"
     ]
    }
   ],
   "source": [
    "animals.index('cats')"
   ]
  },
  {
   "cell_type": "code",
   "execution_count": 253,
   "id": "2cc8d332-be94-4fd7-912b-318d35ce0e42",
   "metadata": {},
   "outputs": [],
   "source": [
    "# using index() for a value not in the list will result an error ."
   ]
  },
  {
   "cell_type": "markdown",
   "id": "a9bb02d9-8653-4374-bb78-b07115e011d1",
   "metadata": {},
   "source": [
    "## Sorting and Reversing"
   ]
  },
  {
   "cell_type": "markdown",
   "id": "8d6ad564-ebb7-44f7-b619-7502b30ea880",
   "metadata": {},
   "source": [
    "### Q11. Create a list of numbers in random order. Use sort() to sort them in ascending order.\n"
   ]
  },
  {
   "cell_type": "code",
   "execution_count": 278,
   "id": "91c70712-a3d8-42d4-9ef9-9b6fae6604ea",
   "metadata": {},
   "outputs": [],
   "source": [
    "lst1 = [5,67,22,95,78,111,90,23,64]"
   ]
  },
  {
   "cell_type": "code",
   "execution_count": 280,
   "id": "84c6cf6e-cdc1-4dec-b06f-a69dd9b1237e",
   "metadata": {},
   "outputs": [
    {
     "name": "stdout",
     "output_type": "stream",
     "text": [
      "[5, 67, 22, 95, 78, 111, 90, 23, 64]\n"
     ]
    }
   ],
   "source": [
    "print(lst1)"
   ]
  },
  {
   "cell_type": "code",
   "execution_count": 295,
   "id": "c3eeedb3-0bb3-48b9-b0d3-8706fa9268a8",
   "metadata": {},
   "outputs": [],
   "source": [
    "lst1.sort()"
   ]
  },
  {
   "cell_type": "code",
   "execution_count": 297,
   "id": "0362f497-bdd1-4a36-8445-742b0cfc9ad5",
   "metadata": {},
   "outputs": [
    {
     "name": "stdout",
     "output_type": "stream",
     "text": [
      "[5, 22, 23, 64, 67, 78, 90, 95, 111]\n"
     ]
    }
   ],
   "source": [
    "print(lst1)"
   ]
  },
  {
   "cell_type": "markdown",
   "id": "05a0a105-26b5-489b-a429-45b3b672ef78",
   "metadata": {},
   "source": [
    "### Q12. Create a list of names and sort them alphabetically.\n"
   ]
  },
  {
   "cell_type": "code",
   "execution_count": 300,
   "id": "eec72e3a-9c04-4335-8f1a-40b3af332961",
   "metadata": {},
   "outputs": [],
   "source": [
    "lst = ['harshitha','sam','sri','bhavya']"
   ]
  },
  {
   "cell_type": "code",
   "execution_count": 302,
   "id": "a5f399e2-7ee9-4de0-92c7-7ea5ceb25e53",
   "metadata": {},
   "outputs": [],
   "source": [
    "lst.sort()"
   ]
  },
  {
   "cell_type": "code",
   "execution_count": 304,
   "id": "50188250-e91c-4b7c-ac36-a9b815fcca6e",
   "metadata": {},
   "outputs": [
    {
     "data": {
      "text/plain": [
       "['bhavya', 'harshitha', 'sam', 'sri']"
      ]
     },
     "execution_count": 304,
     "metadata": {},
     "output_type": "execute_result"
    }
   ],
   "source": [
    "lst"
   ]
  },
  {
   "cell_type": "markdown",
   "id": "2e3624c8-bdec-4aa5-82d5-f7210cf3038d",
   "metadata": {},
   "source": [
    "### Q13. Sort a list in descending order using sort(reverse=True).\n"
   ]
  },
  {
   "cell_type": "code",
   "execution_count": 318,
   "id": "f6a4547a-cb0a-4c08-bf38-ef6ba8d8d0fa",
   "metadata": {},
   "outputs": [],
   "source": [
    "lst = [20,33,120,3,44,1,66,89,23]"
   ]
  },
  {
   "cell_type": "code",
   "execution_count": 320,
   "id": "e9ad5a3b-70b4-45f6-982f-6ae4356f6833",
   "metadata": {},
   "outputs": [],
   "source": [
    "lst.sort(reverse=True)"
   ]
  },
  {
   "cell_type": "code",
   "execution_count": 322,
   "id": "d48dd7e8-1653-48e6-a557-ddb1919ed4d6",
   "metadata": {},
   "outputs": [
    {
     "name": "stdout",
     "output_type": "stream",
     "text": [
      "[120, 89, 66, 44, 33, 23, 20, 3, 1]\n"
     ]
    }
   ],
   "source": [
    "print(lst)"
   ]
  },
  {
   "cell_type": "markdown",
   "id": "50e7536a-8b07-47b3-83f2-6378dec36144",
   "metadata": {},
   "source": [
    "### Q14. Use reverse() to flip the order of any list.\n"
   ]
  },
  {
   "cell_type": "code",
   "execution_count": 347,
   "id": "345e712c-b6fd-4a04-a018-36d161da39ce",
   "metadata": {},
   "outputs": [],
   "source": [
    "lst = [20,33,120,3,44,1,66,89,23]"
   ]
  },
  {
   "cell_type": "code",
   "execution_count": 349,
   "id": "1ebe2c06-3c6a-40bd-a30d-2a0db493e8d5",
   "metadata": {},
   "outputs": [],
   "source": [
    "lst.sort()"
   ]
  },
  {
   "cell_type": "code",
   "execution_count": 351,
   "id": "1a1966fc-def5-41d9-9e7f-c9e717d7ca61",
   "metadata": {},
   "outputs": [
    {
     "name": "stdout",
     "output_type": "stream",
     "text": [
      "[1, 3, 20, 23, 33, 44, 66, 89, 120]\n"
     ]
    }
   ],
   "source": [
    "print(lst)"
   ]
  },
  {
   "cell_type": "code",
   "execution_count": 353,
   "id": "62f0a93e-0f19-4a1a-a02b-ee7b8de6d262",
   "metadata": {},
   "outputs": [],
   "source": [
    "lst.reverse()"
   ]
  },
  {
   "cell_type": "code",
   "execution_count": 355,
   "id": "ce6f8147-879e-4dcb-9022-4ae2484a15f2",
   "metadata": {},
   "outputs": [
    {
     "name": "stdout",
     "output_type": "stream",
     "text": [
      "[120, 89, 66, 44, 33, 23, 20, 3, 1]\n"
     ]
    }
   ],
   "source": [
    "print(lst)"
   ]
  },
  {
   "cell_type": "markdown",
   "id": "260f243f-d772-46bf-98dc-56e52886ddfa",
   "metadata": {},
   "source": [
    "## Copying and Clearing"
   ]
  },
  {
   "cell_type": "markdown",
   "id": "24d5b5d4-bca3-43fb-8acd-d0737ac55769",
   "metadata": {},
   "source": [
    "### Q15. Create a list and make a copy using copy(). Change something in the copy. Show that the original list is unchanged.\n"
   ]
  },
  {
   "cell_type": "code",
   "execution_count": 361,
   "id": "dc862f4f-bc95-4c63-8eba-66b877290e9b",
   "metadata": {},
   "outputs": [],
   "source": [
    "lst1 = [100,200,300,4000,500]"
   ]
  },
  {
   "cell_type": "code",
   "execution_count": 365,
   "id": "cc7cca89-53cf-4a8c-afee-12f428f8d3f3",
   "metadata": {},
   "outputs": [],
   "source": [
    "lst2 = lst1.copy()"
   ]
  },
  {
   "cell_type": "code",
   "execution_count": 367,
   "id": "cdb4304d-034c-4029-bcc1-d763260cacc5",
   "metadata": {},
   "outputs": [
    {
     "name": "stdout",
     "output_type": "stream",
     "text": [
      "[100, 200, 300, 4000, 500]\n"
     ]
    }
   ],
   "source": [
    "print(lst2)"
   ]
  },
  {
   "cell_type": "code",
   "execution_count": 369,
   "id": "bd61a941-b239-4de4-89e5-53913abeed35",
   "metadata": {},
   "outputs": [],
   "source": [
    "lst2[2]=22"
   ]
  },
  {
   "cell_type": "code",
   "execution_count": 371,
   "id": "042908cd-e41a-4c0a-8a51-8660fd1d3f99",
   "metadata": {},
   "outputs": [
    {
     "data": {
      "text/plain": [
       "[100, 200, 22, 4000, 500]"
      ]
     },
     "execution_count": 371,
     "metadata": {},
     "output_type": "execute_result"
    }
   ],
   "source": [
    "lst2"
   ]
  },
  {
   "cell_type": "code",
   "execution_count": 373,
   "id": "aab6d9bd-1461-4402-b484-d4b1d3637e05",
   "metadata": {},
   "outputs": [
    {
     "data": {
      "text/plain": [
       "[100, 200, 300, 4000, 500]"
      ]
     },
     "execution_count": 373,
     "metadata": {},
     "output_type": "execute_result"
    }
   ],
   "source": [
    "lst1"
   ]
  },
  {
   "cell_type": "markdown",
   "id": "1ec3d312-b1da-4567-bc97-4aba9f9c88cc",
   "metadata": {},
   "source": [
    "### Q16. Create a list with some elements. Use clear() and show that it becomes empty.\n"
   ]
  },
  {
   "cell_type": "code",
   "execution_count": 376,
   "id": "49b79d1a-0874-4f78-8744-b5919bf5922a",
   "metadata": {},
   "outputs": [],
   "source": [
    "lst = [100,200,300,4000,500]"
   ]
  },
  {
   "cell_type": "code",
   "execution_count": 378,
   "id": "247e4fef-56e8-4f15-8d33-555f8b6f7cac",
   "metadata": {},
   "outputs": [],
   "source": [
    "lst.clear()"
   ]
  },
  {
   "cell_type": "code",
   "execution_count": 380,
   "id": "6e951bbb-260d-4683-828f-cdc2366bd399",
   "metadata": {},
   "outputs": [
    {
     "data": {
      "text/plain": [
       "[]"
      ]
     },
     "execution_count": 380,
     "metadata": {},
     "output_type": "execute_result"
    }
   ],
   "source": [
    "lst"
   ]
  },
  {
   "cell_type": "markdown",
   "id": "d7f28854-5bff-4da3-a8cb-ce5fe046f2f5",
   "metadata": {},
   "source": [
    "## Mix of Operations\n"
   ]
  },
  {
   "cell_type": "markdown",
   "id": "78b5eef9-8d80-40ee-bb9d-d5cd99add259",
   "metadata": {},
   "source": [
    "### Q17. Create a list of 5 numbers. Insert a number at index 2, then remove the first number, then append a new number.Print after each step.\n"
   ]
  },
  {
   "cell_type": "code",
   "execution_count": 385,
   "id": "f17163de-57d8-4c66-a918-11a9f7c10c59",
   "metadata": {},
   "outputs": [],
   "source": [
    "lst = [2,90,45,64,63]"
   ]
  },
  {
   "cell_type": "code",
   "execution_count": 387,
   "id": "ba08e86a-96e6-469d-8475-21aebc494a7a",
   "metadata": {},
   "outputs": [
    {
     "name": "stdout",
     "output_type": "stream",
     "text": [
      "[2, 90, 45, 64, 63]\n"
     ]
    }
   ],
   "source": [
    "print(lst)"
   ]
  },
  {
   "cell_type": "code",
   "execution_count": 389,
   "id": "64fb85dc-026f-4bca-92a6-a6e6c90293d6",
   "metadata": {},
   "outputs": [],
   "source": [
    "lst.insert(2,100)"
   ]
  },
  {
   "cell_type": "code",
   "execution_count": 391,
   "id": "8d889140-2fc4-4d01-b7ee-e0c989bd7637",
   "metadata": {},
   "outputs": [
    {
     "name": "stdout",
     "output_type": "stream",
     "text": [
      "[2, 90, 100, 45, 64, 63]\n"
     ]
    }
   ],
   "source": [
    "print(lst)"
   ]
  },
  {
   "cell_type": "code",
   "execution_count": 395,
   "id": "23cd8572-12df-4f98-aad0-18ee95406d01",
   "metadata": {},
   "outputs": [
    {
     "data": {
      "text/plain": [
       "2"
      ]
     },
     "execution_count": 395,
     "metadata": {},
     "output_type": "execute_result"
    }
   ],
   "source": [
    "lst.pop(0)"
   ]
  },
  {
   "cell_type": "code",
   "execution_count": 397,
   "id": "a6ab808c-926f-4e52-ac9c-eb779742f398",
   "metadata": {},
   "outputs": [
    {
     "name": "stdout",
     "output_type": "stream",
     "text": [
      "[90, 100, 45, 64, 63]\n"
     ]
    }
   ],
   "source": [
    "print(lst)"
   ]
  },
  {
   "cell_type": "code",
   "execution_count": 399,
   "id": "d6619111-e794-42dd-82d4-d1dff3f4ae84",
   "metadata": {},
   "outputs": [],
   "source": [
    "lst.append(24)"
   ]
  },
  {
   "cell_type": "code",
   "execution_count": 401,
   "id": "bb7555e4-3d77-436a-8288-196723930b14",
   "metadata": {},
   "outputs": [
    {
     "name": "stdout",
     "output_type": "stream",
     "text": [
      "[90, 100, 45, 64, 63, 24]\n"
     ]
    }
   ],
   "source": [
    "print(lst)"
   ]
  },
  {
   "cell_type": "markdown",
   "id": "bc0c54fc-803c-4c0e-b328-234572e3a716",
   "metadata": {},
   "source": [
    "### Q18. Create a list of 4 friends' names.Sort the list, reverse it, then remove the second name using pop().\n"
   ]
  },
  {
   "cell_type": "code",
   "execution_count": 405,
   "id": "7e29b4f8-6606-4f7c-be96-3d2f5e5f7766",
   "metadata": {},
   "outputs": [],
   "source": [
    "friends = ['harshitha','bhavya','akanksha','lucky']"
   ]
  },
  {
   "cell_type": "code",
   "execution_count": 407,
   "id": "a555e990-006c-4cfa-9d1e-180330740b34",
   "metadata": {},
   "outputs": [],
   "source": [
    "friends.sort()"
   ]
  },
  {
   "cell_type": "code",
   "execution_count": 409,
   "id": "0d2ba655-33fc-4b21-9bfd-afe09fe50c35",
   "metadata": {},
   "outputs": [
    {
     "name": "stdout",
     "output_type": "stream",
     "text": [
      "['akanksha', 'bhavya', 'harshitha', 'lucky']\n"
     ]
    }
   ],
   "source": [
    "print(friends)"
   ]
  },
  {
   "cell_type": "code",
   "execution_count": 411,
   "id": "613242c1-6780-4cd8-9a59-522ae83dc7d1",
   "metadata": {},
   "outputs": [],
   "source": [
    "friends.reverse()"
   ]
  },
  {
   "cell_type": "code",
   "execution_count": 413,
   "id": "36b92109-c0c8-426d-a9c4-0d121ca36a1a",
   "metadata": {},
   "outputs": [
    {
     "name": "stdout",
     "output_type": "stream",
     "text": [
      "['lucky', 'harshitha', 'bhavya', 'akanksha']\n"
     ]
    }
   ],
   "source": [
    "print(friends)"
   ]
  },
  {
   "cell_type": "code",
   "execution_count": 415,
   "id": "74678a12-3e37-4919-b43d-c269028e6366",
   "metadata": {},
   "outputs": [
    {
     "data": {
      "text/plain": [
       "'harshitha'"
      ]
     },
     "execution_count": 415,
     "metadata": {},
     "output_type": "execute_result"
    }
   ],
   "source": [
    "friends.pop(1)"
   ]
  },
  {
   "cell_type": "code",
   "execution_count": 417,
   "id": "54e2b8bb-3509-4a7e-b551-bc378aefdba5",
   "metadata": {},
   "outputs": [
    {
     "name": "stdout",
     "output_type": "stream",
     "text": [
      "['lucky', 'bhavya', 'akanksha']\n"
     ]
    }
   ],
   "source": [
    "print(friends)"
   ]
  },
  {
   "cell_type": "markdown",
   "id": "dc290cdc-1b78-460d-98d5-b545c45b7948",
   "metadata": {},
   "source": [
    "### Q19. Make a list with 3 elements. Add one element using append(), one using insert(), then remove the last using pop().\n"
   ]
  },
  {
   "cell_type": "code",
   "execution_count": 428,
   "id": "ed544d50-4d9e-4063-ac00-2aedc0de41af",
   "metadata": {},
   "outputs": [],
   "source": [
    "lst = [20,43,12]"
   ]
  },
  {
   "cell_type": "code",
   "execution_count": 430,
   "id": "3c976eba-52f1-40cb-8373-3d138079e0bc",
   "metadata": {},
   "outputs": [
    {
     "name": "stdout",
     "output_type": "stream",
     "text": [
      "[20, 43, 12]\n"
     ]
    }
   ],
   "source": [
    "print(lst)"
   ]
  },
  {
   "cell_type": "code",
   "execution_count": 432,
   "id": "0bc5f79c-5321-4c5f-832c-dc2fa90508be",
   "metadata": {},
   "outputs": [],
   "source": [
    "lst.append(90)"
   ]
  },
  {
   "cell_type": "code",
   "execution_count": 434,
   "id": "1a962d23-fa09-4f4d-8b22-de6bcbf442d9",
   "metadata": {},
   "outputs": [
    {
     "name": "stdout",
     "output_type": "stream",
     "text": [
      "[20, 43, 12, 90]\n"
     ]
    }
   ],
   "source": [
    "print(lst)"
   ]
  },
  {
   "cell_type": "code",
   "execution_count": 438,
   "id": "2c302670-5e09-4ee4-8b60-c74493ef686d",
   "metadata": {},
   "outputs": [],
   "source": [
    "lst.insert(1,56)"
   ]
  },
  {
   "cell_type": "code",
   "execution_count": 440,
   "id": "b49910a0-0caf-491f-b448-8586a503bf07",
   "metadata": {},
   "outputs": [
    {
     "name": "stdout",
     "output_type": "stream",
     "text": [
      "[20, 56, 43, 12, 90]\n"
     ]
    }
   ],
   "source": [
    "print(lst)"
   ]
  },
  {
   "cell_type": "code",
   "execution_count": 442,
   "id": "d5969ef6-39dd-44e4-ae17-c75962ab371e",
   "metadata": {},
   "outputs": [
    {
     "data": {
      "text/plain": [
       "90"
      ]
     },
     "execution_count": 442,
     "metadata": {},
     "output_type": "execute_result"
    }
   ],
   "source": [
    "lst.pop()"
   ]
  },
  {
   "cell_type": "code",
   "execution_count": 444,
   "id": "f0f14196-424d-48c4-911c-22c924a059c7",
   "metadata": {},
   "outputs": [
    {
     "data": {
      "text/plain": [
       "[20, 56, 43, 12]"
      ]
     },
     "execution_count": 444,
     "metadata": {},
     "output_type": "execute_result"
    }
   ],
   "source": [
    "lst"
   ]
  },
  {
   "cell_type": "markdown",
   "id": "35ff0248-09d5-45fe-9ce3-d91670dbdb18",
   "metadata": {},
   "source": [
    "### Q20. Copy a list of places you want to visit. Clear the copied list. Show both lists after each step to prove they are independent.\n"
   ]
  },
  {
   "cell_type": "code",
   "execution_count": 463,
   "id": "21ac8150-bc67-4e0f-98e3-72495c31b252",
   "metadata": {},
   "outputs": [],
   "source": [
    "places = ['gokarna','tirupathi','srilanka','kedarnath']"
   ]
  },
  {
   "cell_type": "code",
   "execution_count": 465,
   "id": "19ba1f68-e100-4631-b9a4-49849c791cf5",
   "metadata": {},
   "outputs": [
    {
     "name": "stdout",
     "output_type": "stream",
     "text": [
      "['gokarna', 'tirupathi', 'srilanka', 'kedarnath']\n"
     ]
    }
   ],
   "source": [
    "print(places)"
   ]
  },
  {
   "cell_type": "code",
   "execution_count": 467,
   "id": "b98ced5a-e029-40cf-8710-d6d68781effa",
   "metadata": {},
   "outputs": [],
   "source": [
    "copy= places.copy()"
   ]
  },
  {
   "cell_type": "code",
   "execution_count": 469,
   "id": "9f1343df-7282-411a-8923-5235e671ef7d",
   "metadata": {},
   "outputs": [
    {
     "name": "stdout",
     "output_type": "stream",
     "text": [
      "['gokarna', 'tirupathi', 'srilanka', 'kedarnath']\n"
     ]
    }
   ],
   "source": [
    "print(copy)"
   ]
  },
  {
   "cell_type": "code",
   "execution_count": 471,
   "id": "f1cec91f-28e8-44e9-8201-2cfc99d3a06e",
   "metadata": {},
   "outputs": [],
   "source": [
    "copy.clear()"
   ]
  },
  {
   "cell_type": "code",
   "execution_count": 473,
   "id": "0893ac09-6d9a-4a20-b372-6519b6963e0e",
   "metadata": {},
   "outputs": [
    {
     "name": "stdout",
     "output_type": "stream",
     "text": [
      "[]\n"
     ]
    }
   ],
   "source": [
    "print(copy)"
   ]
  },
  {
   "cell_type": "code",
   "execution_count": 475,
   "id": "6b4c0b9e-e4ee-4ddd-b05e-e560a52259fb",
   "metadata": {},
   "outputs": [
    {
     "name": "stdout",
     "output_type": "stream",
     "text": [
      "['gokarna', 'tirupathi', 'srilanka', 'kedarnath']\n",
      "[]\n"
     ]
    }
   ],
   "source": [
    "print(places)\n",
    "print(copy)"
   ]
  },
  {
   "cell_type": "code",
   "execution_count": null,
   "id": "de222efb-375e-4f4a-a398-d05acaf9e3f2",
   "metadata": {},
   "outputs": [],
   "source": []
  }
 ],
 "metadata": {
  "kernelspec": {
   "display_name": "Python [conda env:base] *",
   "language": "python",
   "name": "conda-base-py"
  },
  "language_info": {
   "codemirror_mode": {
    "name": "ipython",
    "version": 3
   },
   "file_extension": ".py",
   "mimetype": "text/x-python",
   "name": "python",
   "nbconvert_exporter": "python",
   "pygments_lexer": "ipython3",
   "version": "3.12.7"
  }
 },
 "nbformat": 4,
 "nbformat_minor": 5
}
