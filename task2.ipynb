{
 "cells": [
  {
   "cell_type": "markdown",
   "id": "879ae206-f1f4-4e87-8a2f-fe3004db8025",
   "metadata": {},
   "source": [
    "## Task 2 - Variable,Keyword and Identifier"
   ]
  },
  {
   "cell_type": "markdown",
   "id": "47f9f349-600e-4b6c-b5a1-14b8898a35e1",
   "metadata": {},
   "source": [
    "#### Q1  Create a variable name and assign your name to it."
   ]
  },
  {
   "cell_type": "code",
   "execution_count": 41,
   "id": "820d71c5-2ac3-493e-bd77-147026116f4a",
   "metadata": {},
   "outputs": [
    {
     "name": "stdout",
     "output_type": "stream",
     "text": [
      "Harshitha Yaramasu\n"
     ]
    }
   ],
   "source": [
    "Name=\"Harshitha Yaramasu\"\n",
    "print(Name)"
   ]
  },
  {
   "cell_type": "markdown",
   "id": "0e3c590b-d179-49fe-a5af-b3c1c32743d8",
   "metadata": {},
   "source": [
    "#### Q2   Assign the number 25 to a variable called age."
   ]
  },
  {
   "cell_type": "code",
   "execution_count": 43,
   "id": "ee872f59-9f90-44e0-be8f-c4f3fec41f35",
   "metadata": {},
   "outputs": [
    {
     "name": "stdout",
     "output_type": "stream",
     "text": [
      "25\n"
     ]
    }
   ],
   "source": [
    "age=25\n",
    "print(age)"
   ]
  },
  {
   "cell_type": "markdown",
   "id": "ae3bcfc7-970b-4f2e-8fa7-60bcaa5e9ed2",
   "metadata": {},
   "source": [
    "#### Q3 Change the value of a variable x from 10 to 20."
   ]
  },
  {
   "cell_type": "code",
   "execution_count": 45,
   "id": "334a7e48-2db4-406c-b72b-72535cd762c7",
   "metadata": {},
   "outputs": [
    {
     "name": "stdout",
     "output_type": "stream",
     "text": [
      "10\n",
      "after changing x value\n",
      "20\n"
     ]
    }
   ],
   "source": [
    "x=10\n",
    "print(x)\n",
    "x=20\n",
    "print(\"after changing x value\")\n",
    "print(x)"
   ]
  },
  {
   "cell_type": "markdown",
   "id": "9efbe45b-8405-4088-a02b-ae3a6ab15bcb",
   "metadata": {},
   "source": [
    "#### Q4 Print the value of a variable language assigned to \"Python\"."
   ]
  },
  {
   "cell_type": "code",
   "execution_count": 47,
   "id": "e9cd06dc-c5ac-4398-9891-a8c74b34ea31",
   "metadata": {},
   "outputs": [
    {
     "name": "stdout",
     "output_type": "stream",
     "text": [
      "Python\n"
     ]
    }
   ],
   "source": [
    "language= \"Python\" \n",
    "print(language)"
   ]
  },
  {
   "cell_type": "markdown",
   "id": "cfdc1a24-7346-460d-ac60-2713943c2f9f",
   "metadata": {},
   "source": [
    "#### Q5 Create a variable height and assign it a decimal value."
   ]
  },
  {
   "cell_type": "code",
   "execution_count": 49,
   "id": "4863e08d-8c7c-4085-bf83-6db6f950d49c",
   "metadata": {},
   "outputs": [
    {
     "name": "stdout",
     "output_type": "stream",
     "text": [
      "5.3\n"
     ]
    }
   ],
   "source": [
    "height=5.3\n",
    "print(height)"
   ]
  },
  {
   "cell_type": "markdown",
   "id": "8745aa61-a072-4b93-8106-ce1cf311114c",
   "metadata": {},
   "source": [
    "#### Q6 Assign multiple values to a, b, and c in a single line."
   ]
  },
  {
   "cell_type": "code",
   "execution_count": 51,
   "id": "1fea3522-8768-4b53-9044-ef47a6c5e3ec",
   "metadata": {},
   "outputs": [
    {
     "name": "stdout",
     "output_type": "stream",
     "text": [
      "10 20 30\n"
     ]
    }
   ],
   "source": [
    "a,b,c=10,20,30\n",
    "print(a,b,c)"
   ]
  },
  {
   "cell_type": "markdown",
   "id": "5a218102-bad4-4df5-8f64-e4a1bdcf845a",
   "metadata": {},
   "source": [
    "#### Q7 Declare a variable is_coding_fun and assign it a Boolean value."
   ]
  },
  {
   "cell_type": "code",
   "execution_count": 53,
   "id": "1e6004ab-7156-4388-9451-64a955f0757c",
   "metadata": {},
   "outputs": [
    {
     "name": "stdout",
     "output_type": "stream",
     "text": [
      "True\n"
     ]
    }
   ],
   "source": [
    "is_coding_fun=True\n",
    "print(is_coding_fun)"
   ]
  },
  {
   "cell_type": "markdown",
   "id": "4785536a-082c-45d6-bc10-f326b1e13c5d",
   "metadata": {},
   "source": [
    "#### Q8 Swap values of two variables x and y."
   ]
  },
  {
   "cell_type": "code",
   "execution_count": 55,
   "id": "b5aa4814-c04e-4339-93f3-fc8b6cf8801a",
   "metadata": {},
   "outputs": [
    {
     "name": "stdout",
     "output_type": "stream",
     "text": [
      "x: 10\n",
      "y: 20\n",
      "after swaping variables\n",
      "x: 20\n",
      "y: 10\n"
     ]
    }
   ],
   "source": [
    "x=10\n",
    "y=20\n",
    "print(\"x:\",x)\n",
    "print(\"y:\",y)\n",
    "x,y=y,x\n",
    "print(\"after swaping variables\")\n",
    "print(\"x:\",x)\n",
    "print(\"y:\",y)"
   ]
  },
  {
   "cell_type": "markdown",
   "id": "54316bb5-3b97-4f36-b96f-03d7d21cb939",
   "metadata": {},
   "source": [
    "#### Q9 Assign a string to a variable, then reassign an integer to the same variable."
   ]
  },
  {
   "cell_type": "code",
   "execution_count": 57,
   "id": "4162d9bc-6a46-4529-a317-c3ed9592a258",
   "metadata": {},
   "outputs": [
    {
     "name": "stdout",
     "output_type": "stream",
     "text": [
      "twenty two\n",
      "22\n"
     ]
    }
   ],
   "source": [
    "age=\"twenty two\"\n",
    "print(age)\n",
    "age=22\n",
    "print(age)"
   ]
  },
  {
   "cell_type": "markdown",
   "id": "0ada0500-544f-41f8-9536-2167dcf6a4b0",
   "metadata": {},
   "source": [
    "#### Q10 Create a variable z and assign it the sum of two other variables."
   ]
  },
  {
   "cell_type": "code",
   "execution_count": 59,
   "id": "243c3873-8fcc-464e-984c-02f883b04e53",
   "metadata": {},
   "outputs": [
    {
     "name": "stdout",
     "output_type": "stream",
     "text": [
      "z: 30\n"
     ]
    }
   ],
   "source": [
    "a=10\n",
    "b=20\n",
    "z=a+b\n",
    "print(\"z:\",z)"
   ]
  },
  {
   "cell_type": "markdown",
   "id": "f7060464-3f39-4510-9d98-3aaeb0c472dc",
   "metadata": {},
   "source": [
    "#### Q11 Create a variable with an underscore in its name (e.g., first_name)."
   ]
  },
  {
   "cell_type": "code",
   "execution_count": 61,
   "id": "7263eef8-3b3f-4dda-a5c8-dc15c727c120",
   "metadata": {},
   "outputs": [
    {
     "name": "stdout",
     "output_type": "stream",
     "text": [
      "harshitha\n"
     ]
    }
   ],
   "source": [
    "user_name=\"harshitha\"\n",
    "print(user_name)"
   ]
  },
  {
   "cell_type": "markdown",
   "id": "c4f19a94-d08d-4e2f-a81c-0100ee13e675",
   "metadata": {},
   "source": [
    "#### Q12 Try naming a variable starting with a number and observe the result."
   ]
  },
  {
   "cell_type": "code",
   "execution_count": 63,
   "id": "d4635c5e-c5bb-4a01-b796-aeba073a1e30",
   "metadata": {},
   "outputs": [
    {
     "ename": "SyntaxError",
     "evalue": "invalid decimal literal (4095684495.py, line 1)",
     "output_type": "error",
     "traceback": [
      "\u001b[1;36m  Cell \u001b[1;32mIn[63], line 1\u001b[1;36m\u001b[0m\n\u001b[1;33m    1name=\"hello\"\u001b[0m\n\u001b[1;37m    ^\u001b[0m\n\u001b[1;31mSyntaxError\u001b[0m\u001b[1;31m:\u001b[0m invalid decimal literal\n"
     ]
    }
   ],
   "source": [
    "1name=\"hello\"\n",
    "print(1name)"
   ]
  },
  {
   "cell_type": "markdown",
   "id": "3c22c2fe-fbd6-4743-9dcc-a55b6ac2c4cf",
   "metadata": {},
   "source": [
    "#### Q13  Use a mix of uppercase and lowercase letters in a variable name."
   ]
  },
  {
   "cell_type": "code",
   "execution_count": null,
   "id": "26d786b3-9a19-436f-a2c3-aad0514917f7",
   "metadata": {},
   "outputs": [],
   "source": [
    "UserName=\"harshitha\"\n",
    "print(UserName)"
   ]
  },
  {
   "cell_type": "markdown",
   "id": "de379425-00d0-4275-9528-cbd6492e2d4d",
   "metadata": {},
   "source": [
    "#### Q14 Create two variables score and Score with different values."
   ]
  },
  {
   "cell_type": "code",
   "execution_count": null,
   "id": "58ef8b08-b9bc-41e6-bf33-ffe375b98bd3",
   "metadata": {},
   "outputs": [],
   "source": [
    "score=120\n",
    "Score=140\n",
    "print(\"score:\",score)\n",
    "print(\"Score:\",Score)"
   ]
  },
  {
   "cell_type": "markdown",
   "id": "dd3bb650-9099-43c0-b697-7b2d919a44ac",
   "metadata": {},
   "source": [
    "#### Q15  Try using a special character (e.g., @) in a variable name."
   ]
  },
  {
   "cell_type": "code",
   "execution_count": 2,
   "id": "a5391963-83e0-4ef3-ab69-8abbcf14e86d",
   "metadata": {},
   "outputs": [
    {
     "ename": "SyntaxError",
     "evalue": "cannot assign to expression here. Maybe you meant '==' instead of '='? (2732268441.py, line 1)",
     "output_type": "error",
     "traceback": [
      "\u001b[1;36m  Cell \u001b[1;32mIn[2], line 1\u001b[1;36m\u001b[0m\n\u001b[1;33m    A&B=\"ab\"\u001b[0m\n\u001b[1;37m    ^\u001b[0m\n\u001b[1;31mSyntaxError\u001b[0m\u001b[1;31m:\u001b[0m cannot assign to expression here. Maybe you meant '==' instead of '='?\n"
     ]
    }
   ],
   "source": [
    "\n",
    "A&B=\"ab\"\n",
    "print(A&B)"
   ]
  },
  {
   "cell_type": "markdown",
   "id": "b0fb0aa3-3017-46d2-bfc7-fe506bdbb66f",
   "metadata": {},
   "source": [
    "#### Q16 Try using a Python keyword as a variable name (e.g., if = 5)."
   ]
  },
  {
   "cell_type": "code",
   "execution_count": 4,
   "id": "5be294a1-e474-49fc-90e5-4c3c735f3174",
   "metadata": {},
   "outputs": [
    {
     "ename": "SyntaxError",
     "evalue": "cannot assign to True (2686243407.py, line 1)",
     "output_type": "error",
     "traceback": [
      "\u001b[1;36m  Cell \u001b[1;32mIn[4], line 1\u001b[1;36m\u001b[0m\n\u001b[1;33m    True=1\u001b[0m\n\u001b[1;37m    ^\u001b[0m\n\u001b[1;31mSyntaxError\u001b[0m\u001b[1;31m:\u001b[0m cannot assign to True\n"
     ]
    }
   ],
   "source": [
    "True=1\n",
    "False=0\n",
    "print(True,False)"
   ]
  },
  {
   "cell_type": "markdown",
   "id": "38a12cbd-1891-4537-8600-c32c20b42a8e",
   "metadata": {},
   "source": [
    "#### Q17  Write code that checks if \"for\" is a Python keyword."
   ]
  },
  {
   "cell_type": "code",
   "execution_count": null,
   "id": "db59f7f2-a128-40d1-ba96-4248a1f666be",
   "metadata": {},
   "outputs": [],
   "source": [
    "import keyword\n",
    "print(\"for\" in keyword.kwlist)"
   ]
  },
  {
   "cell_type": "markdown",
   "id": "b1e79bc3-925f-49ea-a2b9-479e9f82381c",
   "metadata": {},
   "source": [
    "#### Q18 Import the keyword module and print the full list of keywords."
   ]
  },
  {
   "cell_type": "code",
   "execution_count": null,
   "id": "e0d9ff4a-4042-4ae5-b7bf-af0ca893a518",
   "metadata": {},
   "outputs": [],
   "source": [
    "import keyword\n",
    "print(keyword.kwlist)"
   ]
  },
  {
   "cell_type": "markdown",
   "id": "e2e3f76e-8ff1-46d9-b491-a4b60b549088",
   "metadata": {},
   "source": [
    "#### Q19 Write a comment explaining why class cannot be used as a variable."
   ]
  },
  {
   "cell_type": "code",
   "execution_count": null,
   "id": "0a71c863-8384-4fdf-9a8f-b4726db2b0bf",
   "metadata": {},
   "outputs": [],
   "source": [
    "# The word 'class' is a built-in keyword in Python, used to define new classes.\n",
    "# Since Python uses 'class' for this specific purpose, it cannot be redefined as a variable name.\n",
    "# Attempting to use 'class' as a variable would confuse the interpreter and result in a syntax error."
   ]
  },
  {
   "cell_type": "markdown",
   "id": "7b771480-7565-4350-9df9-368415d2dd3b",
   "metadata": {},
   "source": [
    "# INTERVIEW QUESTIONS"
   ]
  },
  {
   "cell_type": "markdown",
   "id": "b25a738b-a241-45f2-a3e7-b3343c204382",
   "metadata": {},
   "source": [
    "- 1  What will be the output of the following code? Explain.\n",
    "\n",
    "     class = \"MyClass\"\n",
    "\n",
    "     print(class)"
   ]
  },
  {
   "cell_type": "code",
   "execution_count": 70,
   "id": "a82f3cfd-48e9-4724-b7db-0f4d98f0af80",
   "metadata": {},
   "outputs": [
    {
     "ename": "SyntaxError",
     "evalue": "invalid syntax (1451924984.py, line 1)",
     "output_type": "error",
     "traceback": [
      "\u001b[1;36m  Cell \u001b[1;32mIn[70], line 1\u001b[1;36m\u001b[0m\n\u001b[1;33m    class=\"MyClass\"\u001b[0m\n\u001b[1;37m         ^\u001b[0m\n\u001b[1;31mSyntaxError\u001b[0m\u001b[1;31m:\u001b[0m invalid syntax\n"
     ]
    }
   ],
   "source": [
    "class=\"MyClass\"\n",
    "print(class)"
   ]
  },
  {
   "cell_type": "markdown",
   "id": "98154e82-7316-489e-aede-83540c27a05e",
   "metadata": {},
   "source": [
    "##### explanation:\n",
    " The word 'class' is a built-in keyword in Python, used to define new classes.\n",
    " Since Python uses 'class' for this specific purpose, it cannot be redefined as a variable name.\n",
    " Attempting to use 'class' as a variable by assigning \"MyClass\" would confuse the interpreter and result in a syntax error."
   ]
  },
  {
   "cell_type": "markdown",
   "id": "422a1e92-7a2a-41e2-927e-4fc60f172da7",
   "metadata": {},
   "source": [
    "- 2. What is the output and why?\n",
    "     \n",
    "          _ = \"underscore\"\n",
    "\n",
    "          print(_)"
   ]
  },
  {
   "cell_type": "code",
   "execution_count": 80,
   "id": "cdc845e9-d28e-4831-bb83-c6ad45d39919",
   "metadata": {},
   "outputs": [
    {
     "name": "stdout",
     "output_type": "stream",
     "text": [
      "underscore\n"
     ]
    }
   ],
   "source": [
    "_ = \"underscore\"\n",
    "print(_)"
   ]
  },
  {
   "cell_type": "markdown",
   "id": "12052578-6470-427d-a843-026157e80f60",
   "metadata": {},
   "source": [
    " \n",
    "###### In Python, _ is a valid variable name. It's often used for temporary or insignificant values, but you can assign and print from it just like any other variable.\n",
    "So, _ = \"underscore\" assigns the string \"underscore\" to the variable _.\n",
    "Then print(_) prints that value."
   ]
  },
  {
   "cell_type": "code",
   "execution_count": null,
   "id": "a8f11c47-d08d-4847-afea-817115a0dcf3",
   "metadata": {},
   "outputs": [],
   "source": []
  },
  {
   "cell_type": "code",
   "execution_count": null,
   "id": "7f1a2d38-7fbe-4aad-8f6a-e33f9e0c8c1c",
   "metadata": {},
   "outputs": [],
   "source": []
  }
 ],
 "metadata": {
  "kernelspec": {
   "display_name": "Python [conda env:base] *",
   "language": "python",
   "name": "conda-base-py"
  },
  "language_info": {
   "codemirror_mode": {
    "name": "ipython",
    "version": 3
   },
   "file_extension": ".py",
   "mimetype": "text/x-python",
   "name": "python",
   "nbconvert_exporter": "python",
   "pygments_lexer": "ipython3",
   "version": "3.12.7"
  }
 },
 "nbformat": 4,
 "nbformat_minor": 5
}
