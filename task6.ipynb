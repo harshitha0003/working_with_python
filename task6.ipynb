{
 "cells": [
  {
   "cell_type": "markdown",
   "id": "c3f3a533-6dc3-4352-8775-592c50a39946",
   "metadata": {},
   "source": [
    "# SETS"
   ]
  },
  {
   "cell_type": "markdown",
   "id": "fb197735-728f-4eb6-9dd3-163c0ba0cb48",
   "metadata": {},
   "source": [
    "### 1  Create a set of 5 fruits and print it."
   ]
  },
  {
   "cell_type": "code",
   "execution_count": 4,
   "id": "427132fa-1104-4bd8-8f52-27c2eb7a2454",
   "metadata": {},
   "outputs": [],
   "source": [
    "SET = {'orange','apple','grape','guava','cherry'}"
   ]
  },
  {
   "cell_type": "code",
   "execution_count": 6,
   "id": "279ea3ca-30c1-49a0-99e0-178124b51942",
   "metadata": {},
   "outputs": [
    {
     "name": "stdout",
     "output_type": "stream",
     "text": [
      "{'apple', 'guava', 'orange', 'cherry', 'grape'}\n"
     ]
    }
   ],
   "source": [
    "print(SET)"
   ]
  },
  {
   "cell_type": "markdown",
   "id": "02f62b19-6f4f-439b-af4e-f6aa656ac5ba",
   "metadata": {},
   "source": [
    "### 2  Add \"mango\" to a set s = {'apple', 'banana'}."
   ]
  },
  {
   "cell_type": "code",
   "execution_count": 9,
   "id": "ad3e0bff-f59d-4b0b-9ae8-7fa264ce29fd",
   "metadata": {},
   "outputs": [],
   "source": [
    "s = {'apple','banana'}"
   ]
  },
  {
   "cell_type": "code",
   "execution_count": 11,
   "id": "d6426032-6f98-4830-8f26-3c68631f764a",
   "metadata": {},
   "outputs": [
    {
     "name": "stdout",
     "output_type": "stream",
     "text": [
      "{'banana', 'apple'}\n"
     ]
    }
   ],
   "source": [
    "print(s)"
   ]
  },
  {
   "cell_type": "code",
   "execution_count": 13,
   "id": "47b17616-87bb-4a5f-af2f-6ccd39a5d891",
   "metadata": {},
   "outputs": [],
   "source": [
    "s.add('mango')"
   ]
  },
  {
   "cell_type": "code",
   "execution_count": 15,
   "id": "b0152164-7f96-4210-814d-3ad58a023743",
   "metadata": {},
   "outputs": [
    {
     "name": "stdout",
     "output_type": "stream",
     "text": [
      "{'banana', 'apple', 'mango'}\n"
     ]
    }
   ],
   "source": [
    "print(s)"
   ]
  },
  {
   "cell_type": "markdown",
   "id": "53c42018-0380-407c-9844-80ad5763f0e0",
   "metadata": {},
   "source": [
    "### 3  Try adding 'apple' again to the above set. What happens?\n"
   ]
  },
  {
   "cell_type": "code",
   "execution_count": 18,
   "id": "f64d2197-295c-47b6-99bc-c567fe8c7910",
   "metadata": {},
   "outputs": [
    {
     "name": "stdout",
     "output_type": "stream",
     "text": [
      "{'banana', 'apple', 'mango'}\n"
     ]
    }
   ],
   "source": [
    "print(s)"
   ]
  },
  {
   "cell_type": "code",
   "execution_count": 20,
   "id": "990242e3-1ff1-4b01-83db-d846f7db29d7",
   "metadata": {},
   "outputs": [],
   "source": [
    "s.add('apple')"
   ]
  },
  {
   "cell_type": "code",
   "execution_count": 22,
   "id": "9c6089f6-feda-4a38-b3db-6318d36779d6",
   "metadata": {},
   "outputs": [
    {
     "name": "stdout",
     "output_type": "stream",
     "text": [
      "{'banana', 'apple', 'mango'}\n"
     ]
    }
   ],
   "source": [
    "print(s)"
   ]
  },
  {
   "cell_type": "code",
   "execution_count": 24,
   "id": "91d78196-ba3f-4e99-9df6-cfbcaf45bfc1",
   "metadata": {},
   "outputs": [],
   "source": [
    "# adding  apple again to the sets does not show any error .since set has only unique elements , it wont get displayed twice,\n",
    "# apple gets printed only once."
   ]
  },
  {
   "cell_type": "markdown",
   "id": "484d494f-30fe-4d52-8e13-53fc4c09ae12",
   "metadata": {},
   "source": [
    "### 4 Remove 'banana' using remove() and discard() – what’s the difference?\n"
   ]
  },
  {
   "cell_type": "code",
   "execution_count": 37,
   "id": "7522bac2-11b8-4aee-8b34-7189550bc2ac",
   "metadata": {},
   "outputs": [],
   "source": [
    "S=s.copy()\n"
   ]
  },
  {
   "cell_type": "code",
   "execution_count": 39,
   "id": "0a7785f3-178a-4f87-a6fe-ecfb97fb6d46",
   "metadata": {},
   "outputs": [
    {
     "name": "stdout",
     "output_type": "stream",
     "text": [
      "{'banana', 'apple', 'mango'}\n"
     ]
    }
   ],
   "source": [
    "print(s)"
   ]
  },
  {
   "cell_type": "code",
   "execution_count": 41,
   "id": "70055024-63a5-4fa1-a7d7-f4072752f99f",
   "metadata": {},
   "outputs": [],
   "source": [
    "s.remove('banana')"
   ]
  },
  {
   "cell_type": "code",
   "execution_count": 43,
   "id": "dff386b2-7f83-46e1-a044-43955f6e3d93",
   "metadata": {},
   "outputs": [
    {
     "name": "stdout",
     "output_type": "stream",
     "text": [
      "{'apple', 'mango'}\n"
     ]
    }
   ],
   "source": [
    "print(s)"
   ]
  },
  {
   "cell_type": "code",
   "execution_count": 45,
   "id": "d86fd4ab-c2e3-4804-8e6e-8b3d191db0e3",
   "metadata": {},
   "outputs": [],
   "source": [
    "s.discard('banana')"
   ]
  },
  {
   "cell_type": "code",
   "execution_count": 47,
   "id": "f953f096-a60a-453f-9c84-e1053360ffd4",
   "metadata": {},
   "outputs": [
    {
     "name": "stdout",
     "output_type": "stream",
     "text": [
      "{'apple', 'mango'}\n"
     ]
    }
   ],
   "source": [
    "print(s)"
   ]
  },
  {
   "cell_type": "raw",
   "id": "b5d566e4-a799-428c-abc8-24a95add85ab",
   "metadata": {},
   "source": [
    " remove() and discard() has same function but removing  an element which is not present in set \n",
    "by using remove()  shows error , where as discard() wont show error. "
   ]
  },
  {
   "cell_type": "markdown",
   "id": "2fc9b79a-f41a-4f90-b0f3-2515fbb12908",
   "metadata": {},
   "source": [
    "### 5 Check if 'apple' exists in the set.\n",
    "\n",
    "\n"
   ]
  },
  {
   "cell_type": "code",
   "execution_count": 52,
   "id": "c4bf4d2e-8132-40ab-9535-9bf514c415d7",
   "metadata": {},
   "outputs": [
    {
     "data": {
      "text/plain": [
       "{'apple', 'mango'}"
      ]
     },
     "execution_count": 52,
     "metadata": {},
     "output_type": "execute_result"
    }
   ],
   "source": [
    "s"
   ]
  },
  {
   "cell_type": "code",
   "execution_count": 62,
   "id": "a1412d53-3e08-4286-9f06-8372b7b69489",
   "metadata": {},
   "outputs": [
    {
     "name": "stdout",
     "output_type": "stream",
     "text": [
      "True\n"
     ]
    }
   ],
   "source": [
    "print('apple' in s)\n"
   ]
  },
  {
   "cell_type": "markdown",
   "id": "ff98f1c0-839e-464c-8370-11ddeefb9e17",
   "metadata": {},
   "source": [
    "### 6  Create two sets and perform:\n",
    "\n",
    "Union\n",
    "\n",
    "Intersection\n",
    "\n",
    "Difference\n"
   ]
  },
  {
   "cell_type": "code",
   "execution_count": 66,
   "id": "85e8324b-24a7-44af-8732-2c9271ff0555",
   "metadata": {},
   "outputs": [],
   "source": [
    "s1 = {1,8,4,8,2,9,10}\n",
    "s2 = {1,4,6,2,3,8,11,12,14}"
   ]
  },
  {
   "cell_type": "code",
   "execution_count": 68,
   "id": "42ca5e57-0318-427f-aef6-95d10836c035",
   "metadata": {},
   "outputs": [
    {
     "name": "stdout",
     "output_type": "stream",
     "text": [
      "{1, 2, 4, 8, 9, 10}\n",
      "{1, 2, 3, 4, 6, 8, 11, 12, 14}\n"
     ]
    }
   ],
   "source": [
    "print(s1)\n",
    "print(s2)"
   ]
  },
  {
   "cell_type": "code",
   "execution_count": 70,
   "id": "0f5afa38-cd9f-4cc9-9db0-a0da0a2aee06",
   "metadata": {},
   "outputs": [
    {
     "name": "stdout",
     "output_type": "stream",
     "text": [
      "{1, 2, 3, 4, 6, 8, 9, 10, 11, 12, 14}\n"
     ]
    }
   ],
   "source": [
    "print(s1.union(s2))"
   ]
  },
  {
   "cell_type": "code",
   "execution_count": 72,
   "id": "2f9516f5-c3fb-406f-8e71-810caad2ad0a",
   "metadata": {},
   "outputs": [
    {
     "name": "stdout",
     "output_type": "stream",
     "text": [
      "{8, 1, 2, 4}\n"
     ]
    }
   ],
   "source": [
    "print(s1.intersection(s2))"
   ]
  },
  {
   "cell_type": "code",
   "execution_count": 74,
   "id": "ab5a880b-2bf6-4654-a321-f4d4dfe234a6",
   "metadata": {},
   "outputs": [
    {
     "name": "stdout",
     "output_type": "stream",
     "text": [
      "{9, 10}\n"
     ]
    }
   ],
   "source": [
    "print(s1.difference(s2))"
   ]
  },
  {
   "cell_type": "code",
   "execution_count": 76,
   "id": "8579302f-737e-4eb9-9e9d-ebaa5c17c83f",
   "metadata": {},
   "outputs": [
    {
     "name": "stdout",
     "output_type": "stream",
     "text": [
      "{3, 6, 11, 12, 14}\n"
     ]
    }
   ],
   "source": [
    "print(s2.difference(s1))"
   ]
  },
  {
   "cell_type": "markdown",
   "id": "f0b5ff60-e511-4bb1-98cd-be78bb12ae45",
   "metadata": {},
   "source": [
    "### 7 Clear all elements from a set."
   ]
  },
  {
   "cell_type": "code",
   "execution_count": 79,
   "id": "44f5fc6a-335f-4faf-8984-f637c551436c",
   "metadata": {},
   "outputs": [
    {
     "data": {
      "text/plain": [
       "{1, 2, 4, 8, 9, 10}"
      ]
     },
     "execution_count": 79,
     "metadata": {},
     "output_type": "execute_result"
    }
   ],
   "source": [
    "s1"
   ]
  },
  {
   "cell_type": "code",
   "execution_count": 81,
   "id": "a9dfb527-3961-4dd7-9de1-8b7d6fb6f16f",
   "metadata": {},
   "outputs": [],
   "source": [
    "s1.clear()"
   ]
  },
  {
   "cell_type": "code",
   "execution_count": 83,
   "id": "ab41a392-6b87-49c7-8303-4bd6d8f5a4d5",
   "metadata": {},
   "outputs": [
    {
     "data": {
      "text/plain": [
       "set()"
      ]
     },
     "execution_count": 83,
     "metadata": {},
     "output_type": "execute_result"
    }
   ],
   "source": [
    "s1"
   ]
  },
  {
   "cell_type": "markdown",
   "id": "d6acad3f-15e2-43e0-8e14-3cfb547de1fb",
   "metadata": {},
   "source": [
    "### 8 Use a loop to print all items in a set.\n"
   ]
  },
  {
   "cell_type": "code",
   "execution_count": 86,
   "id": "81ce19ac-b544-4974-9f7b-2f650f68a7fa",
   "metadata": {},
   "outputs": [
    {
     "data": {
      "text/plain": [
       "{1, 2, 3, 4, 6, 8, 11, 12, 14}"
      ]
     },
     "execution_count": 86,
     "metadata": {},
     "output_type": "execute_result"
    }
   ],
   "source": [
    "s2"
   ]
  },
  {
   "cell_type": "code",
   "execution_count": 96,
   "id": "35f4ae5c-5ed2-4341-9aab-747670cacadc",
   "metadata": {},
   "outputs": [
    {
     "name": "stdout",
     "output_type": "stream",
     "text": [
      "1 2 3 4 6 8 11 12 14 "
     ]
    }
   ],
   "source": [
    "for i in s2:\n",
    "    print(i,end=\" \")\n"
   ]
  },
  {
   "cell_type": "markdown",
   "id": "fae47b33-504c-4165-8148-788b400835e2",
   "metadata": {},
   "source": [
    "### 9  Convert a list with duplicates to a set to remove duplicates."
   ]
  },
  {
   "cell_type": "code",
   "execution_count": 99,
   "id": "9cd8f674-de9f-43ed-8ab7-a631d2de6471",
   "metadata": {},
   "outputs": [
    {
     "name": "stdout",
     "output_type": "stream",
     "text": [
      "[1, 2, 3, 1, 2, 3, 4, 5, 6]\n"
     ]
    }
   ],
   "source": [
    "list1 = [1,2,3,1,2,3,4,5,6]\n",
    "print(list1)"
   ]
  },
  {
   "cell_type": "code",
   "execution_count": 101,
   "id": "b717696d-f467-406d-bf78-1f43aee788f4",
   "metadata": {},
   "outputs": [],
   "source": [
    "s=set(list1)"
   ]
  },
  {
   "cell_type": "code",
   "execution_count": 103,
   "id": "47993d88-beeb-45f8-ac84-9cb255415776",
   "metadata": {},
   "outputs": [
    {
     "data": {
      "text/plain": [
       "{1, 2, 3, 4, 5, 6}"
      ]
     },
     "execution_count": 103,
     "metadata": {},
     "output_type": "execute_result"
    }
   ],
   "source": [
    "s"
   ]
  },
  {
   "cell_type": "code",
   "execution_count": 105,
   "id": "4eccfabb-614d-4b9b-a41c-3558ca2453f4",
   "metadata": {},
   "outputs": [],
   "source": [
    "# all duplicates from list1 are removed in set s"
   ]
  },
  {
   "cell_type": "markdown",
   "id": "adc19976-d22b-4ad1-8c63-7bb01d2ba93c",
   "metadata": {},
   "source": [
    "### 10  Find the length of the set."
   ]
  },
  {
   "cell_type": "code",
   "execution_count": 108,
   "id": "5465e621-8218-449f-80a4-f3ae3de214a4",
   "metadata": {},
   "outputs": [],
   "source": [
    "s ={1,2,3,4,5,5,6,2,3,9}"
   ]
  },
  {
   "cell_type": "code",
   "execution_count": 110,
   "id": "d5bb9944-2510-4dc9-9ecf-04a79906e45a",
   "metadata": {},
   "outputs": [
    {
     "name": "stdout",
     "output_type": "stream",
     "text": [
      "{1, 2, 3, 4, 5, 6, 9}\n"
     ]
    }
   ],
   "source": [
    "print(s)"
   ]
  },
  {
   "cell_type": "code",
   "execution_count": 112,
   "id": "7a0ecdf6-3698-46a1-9dce-c2091e8bfd0b",
   "metadata": {},
   "outputs": [
    {
     "name": "stdout",
     "output_type": "stream",
     "text": [
      "7\n"
     ]
    }
   ],
   "source": [
    "print(len(s))"
   ]
  },
  {
   "cell_type": "code",
   "execution_count": null,
   "id": "3337240e-79b7-467c-ad7e-92f7e8633491",
   "metadata": {},
   "outputs": [],
   "source": []
  }
 ],
 "metadata": {
  "kernelspec": {
   "display_name": "Python [conda env:base] *",
   "language": "python",
   "name": "conda-base-py"
  },
  "language_info": {
   "codemirror_mode": {
    "name": "ipython",
    "version": 3
   },
   "file_extension": ".py",
   "mimetype": "text/x-python",
   "name": "python",
   "nbconvert_exporter": "python",
   "pygments_lexer": "ipython3",
   "version": "3.12.7"
  }
 },
 "nbformat": 4,
 "nbformat_minor": 5
}
