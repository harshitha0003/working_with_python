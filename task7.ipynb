{
 "cells": [
  {
   "cell_type": "markdown",
   "id": "31787cf4-084b-4227-811b-3fb8784c7d8c",
   "metadata": {},
   "source": [
    "# **TUPLES**"
   ]
  },
  {
   "cell_type": "markdown",
   "id": "446d9a41-2ca2-4b32-9e97-d0705a562610",
   "metadata": {},
   "source": [
    "### 1  Create a tuple of five colors and print the second and fourth items.\n"
   ]
  },
  {
   "cell_type": "code",
   "execution_count": 25,
   "id": "23fccb71-4b13-46e6-acd9-65b0d976c471",
   "metadata": {},
   "outputs": [],
   "source": [
    "tup1 = ('black','teal','white','red','yellow')"
   ]
  },
  {
   "cell_type": "code",
   "execution_count": 35,
   "id": "b85f5742-115e-4cbf-ac13-1f8a0cb89b7e",
   "metadata": {},
   "outputs": [
    {
     "name": "stdout",
     "output_type": "stream",
     "text": [
      "teal\n"
     ]
    }
   ],
   "source": [
    "print(tup1[1])"
   ]
  },
  {
   "cell_type": "code",
   "execution_count": 39,
   "id": "244f32a7-5c48-482e-9721-b0c8dc7c9de8",
   "metadata": {},
   "outputs": [
    {
     "name": "stdout",
     "output_type": "stream",
     "text": [
      "red\n"
     ]
    }
   ],
   "source": [
    "print(tup1[3])"
   ]
  },
  {
   "cell_type": "markdown",
   "id": "d737f4d8-f2c5-47db-85be-455686723881",
   "metadata": {},
   "source": [
    " ### 2  Given a tuple: t = (10, 20, 30, 40, 50), \n",
    "Print the length of the tuple and the last item using negative indexing\n"
   ]
  },
  {
   "cell_type": "code",
   "execution_count": 42,
   "id": "98ae5ed7-3c5f-4ec1-8599-04a33472f2cc",
   "metadata": {},
   "outputs": [
    {
     "name": "stdout",
     "output_type": "stream",
     "text": [
      "(10, 20, 30, 40, 50)\n"
     ]
    }
   ],
   "source": [
    "t = (10, 20, 30, 40, 50)\n",
    "print(t)"
   ]
  },
  {
   "cell_type": "code",
   "execution_count": 44,
   "id": "9851a797-bf42-4fd5-b1bb-403b22e5f3e9",
   "metadata": {},
   "outputs": [
    {
     "name": "stdout",
     "output_type": "stream",
     "text": [
      "5\n"
     ]
    }
   ],
   "source": [
    "print(len(t))"
   ]
  },
  {
   "cell_type": "code",
   "execution_count": 46,
   "id": "c27545a9-c400-4aa2-b2df-141a1683d3ef",
   "metadata": {},
   "outputs": [
    {
     "data": {
      "text/plain": [
       "50"
      ]
     },
     "execution_count": 46,
     "metadata": {},
     "output_type": "execute_result"
    }
   ],
   "source": [
    "t[-1]"
   ]
  },
  {
   "cell_type": "markdown",
   "id": "8ff92001-ecf3-401c-a486-d688a2a223a4",
   "metadata": {},
   "source": [
    "### 3 Create a tuple with a single item 100. Print its type.\n"
   ]
  },
  {
   "cell_type": "code",
   "execution_count": 63,
   "id": "a0bb6653-7f1d-4305-a578-aea8a42a049c",
   "metadata": {},
   "outputs": [],
   "source": [
    "t =(100,)"
   ]
  },
  {
   "cell_type": "code",
   "execution_count": 65,
   "id": "80efc6b9-3752-4730-ade8-040d6eaf5fb6",
   "metadata": {},
   "outputs": [
    {
     "name": "stdout",
     "output_type": "stream",
     "text": [
      "<class 'tuple'>\n"
     ]
    }
   ],
   "source": [
    "print(type(t))"
   ]
  },
  {
   "cell_type": "markdown",
   "id": "988d365d-35d5-46ba-8284-b40835cfb27c",
   "metadata": {},
   "source": [
    "### 4  Convert the following list into a tuple: ['apple', 'banana', 'cherry']\n"
   ]
  },
  {
   "cell_type": "code",
   "execution_count": 68,
   "id": "3e47a5ba-50da-4c04-b757-0b6394fe8010",
   "metadata": {},
   "outputs": [],
   "source": [
    "lst = ['apple', 'banana', 'cherry']"
   ]
  },
  {
   "cell_type": "code",
   "execution_count": 70,
   "id": "2d0ee414-0562-4b75-a4dc-98efd04c4bc8",
   "metadata": {},
   "outputs": [],
   "source": [
    "tup = tuple(lst)"
   ]
  },
  {
   "cell_type": "code",
   "execution_count": 72,
   "id": "719956c5-ded0-458b-90ee-38259fdd44f3",
   "metadata": {},
   "outputs": [
    {
     "name": "stdout",
     "output_type": "stream",
     "text": [
      "['apple', 'banana', 'cherry']\n",
      "('apple', 'banana', 'cherry')\n"
     ]
    }
   ],
   "source": [
    "print(lst)\n",
    "print(tup)"
   ]
  },
  {
   "cell_type": "markdown",
   "id": "ea894781-abb2-408e-9a22-a699e0a7689d",
   "metadata": {},
   "source": [
    "### 5  Check whether the element 'python' exists in the tuple ('java', 'python', 'c').\n"
   ]
  },
  {
   "cell_type": "code",
   "execution_count": 77,
   "id": "ae3a0480-fb2d-445b-8aba-eea9df4d60e6",
   "metadata": {},
   "outputs": [],
   "source": [
    "tup=('java', 'python', 'c')"
   ]
  },
  {
   "cell_type": "code",
   "execution_count": 79,
   "id": "59e857eb-8a72-4ded-9140-beb95559399f",
   "metadata": {},
   "outputs": [
    {
     "name": "stdout",
     "output_type": "stream",
     "text": [
      "('java', 'python', 'c')\n"
     ]
    }
   ],
   "source": [
    "print(tup)"
   ]
  },
  {
   "cell_type": "code",
   "execution_count": 81,
   "id": "99eeccd4-132b-4ca5-82e5-12385b51dfe8",
   "metadata": {},
   "outputs": [
    {
     "name": "stdout",
     "output_type": "stream",
     "text": [
      "True\n"
     ]
    }
   ],
   "source": [
    "print('python'  in tup)"
   ]
  },
  {
   "cell_type": "markdown",
   "id": "505b2c3b-f71b-4963-b85b-aefe5f1f5141",
   "metadata": {},
   "source": [
    "### 6   Slice the tuple t = (1, 2, 3, 4, 5, 6) to get:\n",
    "First 3 elements\n",
    "Last 2 elements"
   ]
  },
  {
   "cell_type": "code",
   "execution_count": 86,
   "id": "de5cfea6-d28a-4608-86bf-d36cb60e1fc2",
   "metadata": {},
   "outputs": [],
   "source": [
    " t = (1, 2, 3, 4, 5, 6)"
   ]
  },
  {
   "cell_type": "code",
   "execution_count": 88,
   "id": "23ec78c4-f54d-4abf-884c-82a4a107c75e",
   "metadata": {},
   "outputs": [
    {
     "data": {
      "text/plain": [
       "(1, 2, 3)"
      ]
     },
     "execution_count": 88,
     "metadata": {},
     "output_type": "execute_result"
    }
   ],
   "source": [
    "t[:3]"
   ]
  },
  {
   "cell_type": "code",
   "execution_count": 90,
   "id": "c10df8bc-7c59-4fc6-bb2c-0abe3047dbb6",
   "metadata": {},
   "outputs": [
    {
     "data": {
      "text/plain": [
       "(5, 6)"
      ]
     },
     "execution_count": 90,
     "metadata": {},
     "output_type": "execute_result"
    }
   ],
   "source": [
    "t[4:]"
   ]
  },
  {
   "cell_type": "markdown",
   "id": "d0e5ba73-94ba-4418-947e-39b62e841af0",
   "metadata": {},
   "source": [
    "## Tuple Operations & Immutability"
   ]
  },
  {
   "cell_type": "markdown",
   "id": "b84f0e54-3b61-47a3-9c8e-e2829671d029",
   "metadata": {},
   "source": [
    "### 7 Concatenate two tuples: a = (1, 2) and b = (3, 4). Store it in a new tuple.\n"
   ]
  },
  {
   "cell_type": "code",
   "execution_count": 95,
   "id": "b6224dfe-bde0-4c90-884b-bdf372901684",
   "metadata": {},
   "outputs": [],
   "source": [
    "a = (1, 2)\n",
    "b = (3, 4)"
   ]
  },
  {
   "cell_type": "code",
   "execution_count": 97,
   "id": "2b988260-69c2-477f-a8a2-5857627e1335",
   "metadata": {},
   "outputs": [],
   "source": [
    "c=a+b"
   ]
  },
  {
   "cell_type": "code",
   "execution_count": 99,
   "id": "68d7930f-818f-4d64-ac47-d51c204aead1",
   "metadata": {},
   "outputs": [
    {
     "name": "stdout",
     "output_type": "stream",
     "text": [
      "(1, 2, 3, 4)\n"
     ]
    }
   ],
   "source": [
    "print(c)"
   ]
  },
  {
   "cell_type": "markdown",
   "id": "16ff2ebe-4b99-4f20-a27f-531cadc926b2",
   "metadata": {},
   "source": [
    "### 8  Try to change the first element of the tuple (5, 6, 7) to 100. What happens?\n"
   ]
  },
  {
   "cell_type": "code",
   "execution_count": 102,
   "id": "2e8569bb-2f94-4010-b7aa-a7a4189d12e8",
   "metadata": {},
   "outputs": [],
   "source": [
    "tup =  (5, 6, 7)"
   ]
  },
  {
   "cell_type": "code",
   "execution_count": 104,
   "id": "dc86cdde-6b7a-461b-9dc8-844158303982",
   "metadata": {},
   "outputs": [
    {
     "ename": "TypeError",
     "evalue": "'tuple' object does not support item assignment",
     "output_type": "error",
     "traceback": [
      "\u001b[1;31m---------------------------------------------------------------------------\u001b[0m",
      "\u001b[1;31mTypeError\u001b[0m                                 Traceback (most recent call last)",
      "Cell \u001b[1;32mIn[104], line 1\u001b[0m\n\u001b[1;32m----> 1\u001b[0m tup[\u001b[38;5;241m0\u001b[39m] \u001b[38;5;241m=\u001b[39m \u001b[38;5;241m100\u001b[39m\n",
      "\u001b[1;31mTypeError\u001b[0m: 'tuple' object does not support item assignment"
     ]
    }
   ],
   "source": [
    "tup[0] = 100"
   ]
  },
  {
   "cell_type": "code",
   "execution_count": 107,
   "id": "81b25189-ac1f-4cb5-a1eb-33f071cd5744",
   "metadata": {},
   "outputs": [],
   "source": [
    "# Python raises a TypeError because tuples do not allow modification of their elements after creation"
   ]
  },
  {
   "cell_type": "markdown",
   "id": "8af9d212-98a7-4b57-a5e6-bc1182ae61f2",
   "metadata": {},
   "source": [
    "### 9  Repeat the tuple (1, 2) 3 times and print the result.\n"
   ]
  },
  {
   "cell_type": "code",
   "execution_count": 110,
   "id": "5c48782f-0750-4b8c-9fc1-f1561e69ae89",
   "metadata": {},
   "outputs": [
    {
     "name": "stdout",
     "output_type": "stream",
     "text": [
      "(1, 2, 1, 2, 1, 2)\n"
     ]
    }
   ],
   "source": [
    "t = (1, 2)\n",
    "repeated_tuple = t * 3\n",
    "print(repeated_tuple)"
   ]
  },
  {
   "cell_type": "markdown",
   "id": "32013db0-ea22-4b42-950a-dcc61abdb6c8",
   "metadata": {},
   "source": [
    "### 10  Unpack the tuple x = (10, 20, 30) into three variables and print them."
   ]
  },
  {
   "cell_type": "code",
   "execution_count": 124,
   "id": "aa9bd143-4933-43ac-be3d-df4cdceb7503",
   "metadata": {},
   "outputs": [],
   "source": [
    "x = (10, 20, 30)"
   ]
  },
  {
   "cell_type": "code",
   "execution_count": 128,
   "id": "88ae49f7-5f54-455e-a856-19d291475223",
   "metadata": {},
   "outputs": [],
   "source": [
    "x1,x2,x3 = x"
   ]
  },
  {
   "cell_type": "code",
   "execution_count": 130,
   "id": "ea84b209-5e66-492c-b930-8d69c2d5eb49",
   "metadata": {},
   "outputs": [
    {
     "name": "stdout",
     "output_type": "stream",
     "text": [
      "10\n"
     ]
    }
   ],
   "source": [
    "print(x1)"
   ]
  },
  {
   "cell_type": "code",
   "execution_count": 132,
   "id": "3c92f3b6-d0db-448f-b260-b4c4aa52655a",
   "metadata": {},
   "outputs": [
    {
     "name": "stdout",
     "output_type": "stream",
     "text": [
      "20\n"
     ]
    }
   ],
   "source": [
    "print(x2)"
   ]
  },
  {
   "cell_type": "code",
   "execution_count": 134,
   "id": "ac2445d0-630e-443f-a339-d4b37483aca9",
   "metadata": {},
   "outputs": [
    {
     "name": "stdout",
     "output_type": "stream",
     "text": [
      "30\n"
     ]
    }
   ],
   "source": [
    "print(x3)"
   ]
  },
  {
   "cell_type": "markdown",
   "id": "20ddfbf5-cc5a-4828-a7fd-9f4758da32d0",
   "metadata": {},
   "source": [
    "### 11   Use a tuple to return multiple values from a function that takes two numbers and returns (sum, product).\n"
   ]
  },
  {
   "cell_type": "code",
   "execution_count": 3,
   "id": "230f19c8-5302-49c7-bcf8-f2c4fbf195b6",
   "metadata": {},
   "outputs": [
    {
     "name": "stdout",
     "output_type": "stream",
     "text": [
      "Sum: 9\n",
      "Product: 20\n"
     ]
    }
   ],
   "source": [
    "def calculate_sum_and_product(a, b):\n",
    "    return (a + b, a * b)\n",
    "result = calculate_sum_and_product(4, 5)\n",
    "print(\"Sum:\", result[0])\n",
    "print(\"Product:\", result[1])"
   ]
  },
  {
   "cell_type": "markdown",
   "id": "c4c37192-412c-4ac1-9005-aff51a7e25a9",
   "metadata": {},
   "source": [
    "## Tuple Functions and Built-ins"
   ]
  },
  {
   "cell_type": "markdown",
   "id": "4a8f403b-8393-4725-a7ee-55fb6048f32e",
   "metadata": {},
   "source": [
    "### 13  Use count() to find how many times 3 appears in the tuple (1, 2, 3, 3, 3, 4)."
   ]
  },
  {
   "cell_type": "code",
   "execution_count": 15,
   "id": "8c4813ba-9974-4963-976b-bd206ce9dfb9",
   "metadata": {},
   "outputs": [
    {
     "name": "stdout",
     "output_type": "stream",
     "text": [
      "<class 'tuple'>\n",
      "(1, 2, 3, 3, 3, 4)\n"
     ]
    }
   ],
   "source": [
    "tup = (1, 2, 3, 3, 3, 4) \n",
    "print(type(tup))\n",
    "print(tup)"
   ]
  },
  {
   "cell_type": "code",
   "execution_count": 11,
   "id": "32c30d83-5e61-4c4f-a9a4-8cd3538fc5c8",
   "metadata": {},
   "outputs": [
    {
     "name": "stdout",
     "output_type": "stream",
     "text": [
      "3\n"
     ]
    }
   ],
   "source": [
    "print(tup.count(3))"
   ]
  },
  {
   "cell_type": "markdown",
   "id": "dc0b9d85-3f50-4547-86bd-f3d473a50f08",
   "metadata": {},
   "source": [
    "### 14 Use index() to find the position of 'cat' in ('dog', 'cat', 'mouse').\n"
   ]
  },
  {
   "cell_type": "code",
   "execution_count": 18,
   "id": "a4390bd9-4b42-441e-a708-e216a2fa1f76",
   "metadata": {},
   "outputs": [],
   "source": [
    "tup = ('dog', 'cat', 'mouse')"
   ]
  },
  {
   "cell_type": "code",
   "execution_count": 20,
   "id": "f7da25b5-00c0-4d1e-9a34-ab3e6316d0ac",
   "metadata": {},
   "outputs": [
    {
     "data": {
      "text/plain": [
       "1"
      ]
     },
     "execution_count": 20,
     "metadata": {},
     "output_type": "execute_result"
    }
   ],
   "source": [
    "tup.index('cat')"
   ]
  },
  {
   "cell_type": "markdown",
   "id": "6344627d-4c2a-402d-aff9-8ce98938f382",
   "metadata": {},
   "source": [
    "### 15  Convert the string \"hello\" into a tuple."
   ]
  },
  {
   "cell_type": "code",
   "execution_count": 23,
   "id": "167072c3-8055-4575-9ef4-ee5986079598",
   "metadata": {},
   "outputs": [],
   "source": [
    "s1 = \"hello\"\n",
    "s2 = tuple(s1)"
   ]
  },
  {
   "cell_type": "code",
   "execution_count": 25,
   "id": "b0543349-2beb-4c3f-9104-dcf71f9abd2e",
   "metadata": {},
   "outputs": [
    {
     "name": "stdout",
     "output_type": "stream",
     "text": [
      "hello\n",
      "('h', 'e', 'l', 'l', 'o')\n"
     ]
    }
   ],
   "source": [
    "print(s1)\n",
    "print(s2)"
   ]
  },
  {
   "cell_type": "markdown",
   "id": "fce883e9-17e5-40f2-ab07-3ac6ee8540e8",
   "metadata": {},
   "source": [
    "###  16   Write a program to find the maximum and minimum values in a tuple of numbers.\n"
   ]
  },
  {
   "cell_type": "code",
   "execution_count": 28,
   "id": "e6363374-07a2-4b9d-b786-e5cec1da8e6e",
   "metadata": {},
   "outputs": [],
   "source": [
    "tup =(1,2,3,5,0,3,6,22,1,202)"
   ]
  },
  {
   "cell_type": "code",
   "execution_count": 34,
   "id": "eabdfae0-314a-4c8f-9c18-87990382f3ed",
   "metadata": {},
   "outputs": [
    {
     "name": "stdout",
     "output_type": "stream",
     "text": [
      "minimum: 0\n",
      "maximum 202\n"
     ]
    }
   ],
   "source": [
    "print(\"minimum:\",min(tup))\n",
    "print(\"maximum\",max(tup))"
   ]
  },
  {
   "cell_type": "code",
   "execution_count": null,
   "id": "0b6e9335-a3f7-4d5d-b48d-34cb3523dc6d",
   "metadata": {},
   "outputs": [],
   "source": []
  },
  {
   "cell_type": "code",
   "execution_count": null,
   "id": "c223442c-7ec6-4a98-ad3d-6bd8f81b6310",
   "metadata": {},
   "outputs": [],
   "source": []
  },
  {
   "cell_type": "code",
   "execution_count": null,
   "id": "6f8d3f96-ecec-4505-817d-c3a5828b878f",
   "metadata": {},
   "outputs": [],
   "source": []
  }
 ],
 "metadata": {
  "kernelspec": {
   "display_name": "Python [conda env:base] *",
   "language": "python",
   "name": "conda-base-py"
  },
  "language_info": {
   "codemirror_mode": {
    "name": "ipython",
    "version": 3
   },
   "file_extension": ".py",
   "mimetype": "text/x-python",
   "name": "python",
   "nbconvert_exporter": "python",
   "pygments_lexer": "ipython3",
   "version": "3.12.7"
  }
 },
 "nbformat": 4,
 "nbformat_minor": 5
}
