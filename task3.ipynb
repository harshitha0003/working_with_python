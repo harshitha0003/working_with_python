{
 "cells": [
  {
   "cell_type": "markdown",
   "id": "2dd78977-45b3-418e-836d-c79cd0955ae0",
   "metadata": {},
   "source": [
    "### 1 How many characters are in the string \"Python3\"?\n"
   ]
  },
  {
   "cell_type": "code",
   "execution_count": 4,
   "id": "ad539b67-3538-4d15-be43-3451376ed11f",
   "metadata": {},
   "outputs": [],
   "source": [
    "x = \"Python3\""
   ]
  },
  {
   "cell_type": "code",
   "execution_count": 6,
   "id": "eacd5dab-96ae-4258-8017-158c0581ad19",
   "metadata": {},
   "outputs": [
    {
     "data": {
      "text/plain": [
       "7"
      ]
     },
     "execution_count": 6,
     "metadata": {},
     "output_type": "execute_result"
    }
   ],
   "source": [
    "len(x)"
   ]
  },
  {
   "cell_type": "code",
   "execution_count": 12,
   "id": "b63d6b61-74d5-4615-923c-90e089cc000d",
   "metadata": {},
   "outputs": [],
   "source": [
    "#there are 7 chracters in string \"python3\""
   ]
  },
  {
   "cell_type": "markdown",
   "id": "535c4e63-4ceb-4f9b-8848-090055dbd047",
   "metadata": {},
   "source": [
    "### 2 If text = \" Hello World \", what does len(text) return?\n"
   ]
  },
  {
   "cell_type": "code",
   "execution_count": 16,
   "id": "8fa40395-5c69-478f-b449-d7fdf7b6b063",
   "metadata": {},
   "outputs": [],
   "source": [
    "text = \" Hello World \""
   ]
  },
  {
   "cell_type": "code",
   "execution_count": 200,
   "id": "eec4b977-e611-4267-a7d9-e8b892082334",
   "metadata": {},
   "outputs": [
    {
     "name": "stdout",
     "output_type": "stream",
     "text": [
      "13\n"
     ]
    }
   ],
   "source": [
    "print(len(text))"
   ]
  },
  {
   "cell_type": "code",
   "execution_count": 20,
   "id": "f8357de0-d8dc-4d19-84a2-791be73b73d9",
   "metadata": {},
   "outputs": [],
   "source": [
    "#it returns length of string text"
   ]
  },
  {
   "cell_type": "markdown",
   "id": "ff6fba2a-965f-4fad-be41-ba2d85fe2f2f",
   "metadata": {},
   "source": [
    "### 3 Count the length of \" \" (a space character). Is it 0?"
   ]
  },
  {
   "cell_type": "code",
   "execution_count": 23,
   "id": "6ac8a1c7-784c-44be-bc23-5bb3d1e98f12",
   "metadata": {},
   "outputs": [
    {
     "name": "stdout",
     "output_type": "stream",
     "text": [
      "1\n"
     ]
    }
   ],
   "source": [
    "space=\" \"\n",
    "print(len(space))"
   ]
  },
  {
   "cell_type": "code",
   "execution_count": 25,
   "id": "081cfb75-2c37-4886-b565-bd0788c97999",
   "metadata": {},
   "outputs": [],
   "source": [
    "# no,length of the  \" \" a space character is 1 not zero "
   ]
  },
  {
   "cell_type": "markdown",
   "id": "e870bb44-1e99-40ad-b728-7f6f4768cc93",
   "metadata": {},
   "source": [
    "### 4 Convert \"Good Morning\" to uppercase. What do you get?"
   ]
  },
  {
   "cell_type": "code",
   "execution_count": 28,
   "id": "b9e2f297-a34d-47be-bc1d-10bc240ec086",
   "metadata": {},
   "outputs": [],
   "source": [
    "x=\"Good Morning\""
   ]
  },
  {
   "cell_type": "code",
   "execution_count": 32,
   "id": "4fc1a263-09dd-4aba-b8bb-2730b2eb9fc2",
   "metadata": {},
   "outputs": [
    {
     "name": "stdout",
     "output_type": "stream",
     "text": [
      "GOOD MORNING\n"
     ]
    }
   ],
   "source": [
    "print(x.upper())"
   ]
  },
  {
   "cell_type": "code",
   "execution_count": 34,
   "id": "605682cc-1a1c-4cfc-9573-70853b32c63b",
   "metadata": {},
   "outputs": [],
   "source": [
    "# string Good Morning is converted to \"GOOD MORNING\" , where upper letters remain same and small case letters are converted to upper case letters."
   ]
  },
  {
   "cell_type": "markdown",
   "id": "78809450-aaf1-4f8d-b456-697b12ad0291",
   "metadata": {},
   "source": [
    "### 5 What is \"HELLO\".lower()?\n"
   ]
  },
  {
   "cell_type": "code",
   "execution_count": 41,
   "id": "5d78d90f-812c-47ad-837d-a38528a7c199",
   "metadata": {},
   "outputs": [
    {
     "data": {
      "text/plain": [
       "'hello'"
      ]
     },
     "execution_count": 41,
     "metadata": {},
     "output_type": "execute_result"
    }
   ],
   "source": [
    "\"HELLO\".lower()"
   ]
  },
  {
   "cell_type": "code",
   "execution_count": 43,
   "id": "54731aaf-451d-4554-aee1-1cc789fad18a",
   "metadata": {},
   "outputs": [],
   "source": [
    "# string \"HELLO\" is converted to lower case letters."
   ]
  },
  {
   "cell_type": "markdown",
   "id": "67aae070-cf90-4b41-8055-33fce2befa11",
   "metadata": {},
   "source": [
    "### 6 If msg = \"PyThOn\", what will msg.upper() and msg.lower() return?\n"
   ]
  },
  {
   "cell_type": "code",
   "execution_count": 46,
   "id": "55ff1161-1f52-47f9-ac9b-408c55cdb9ee",
   "metadata": {},
   "outputs": [],
   "source": [
    "msg = \"PyThOn\""
   ]
  },
  {
   "cell_type": "code",
   "execution_count": 48,
   "id": "b8f1d853-49ca-4f51-a61e-5deedbccea55",
   "metadata": {},
   "outputs": [
    {
     "data": {
      "text/plain": [
       "'PYTHON'"
      ]
     },
     "execution_count": 48,
     "metadata": {},
     "output_type": "execute_result"
    }
   ],
   "source": [
    "msg.upper()"
   ]
  },
  {
   "cell_type": "code",
   "execution_count": 50,
   "id": "63191dfb-0f2c-403d-90f4-e66a849cc813",
   "metadata": {},
   "outputs": [
    {
     "data": {
      "text/plain": [
       "'python'"
      ]
     },
     "execution_count": 50,
     "metadata": {},
     "output_type": "execute_result"
    }
   ],
   "source": [
    "msg.lower()"
   ]
  },
  {
   "cell_type": "markdown",
   "id": "ec32662f-1051-4486-b113-b6a4f2968f66",
   "metadata": {},
   "source": [
    "### 7 What happens if you use .upper() on \"123abc!\"?\n"
   ]
  },
  {
   "cell_type": "code",
   "execution_count": 53,
   "id": "87476ac8-511e-485a-a64e-8a09d7344678",
   "metadata": {},
   "outputs": [],
   "source": [
    "x = \"123abc!\""
   ]
  },
  {
   "cell_type": "code",
   "execution_count": 55,
   "id": "25643271-088e-41a2-85ac-0553e98a9b40",
   "metadata": {},
   "outputs": [
    {
     "data": {
      "text/plain": [
       "'123ABC!'"
      ]
     },
     "execution_count": 55,
     "metadata": {},
     "output_type": "execute_result"
    }
   ],
   "source": [
    "x.upper()"
   ]
  },
  {
   "cell_type": "markdown",
   "id": "02c6e174-a2a1-4672-ba4a-23f7317345d4",
   "metadata": {},
   "source": [
    "### 8 What does \"hello world\".capitalize() return?\n"
   ]
  },
  {
   "cell_type": "code",
   "execution_count": 58,
   "id": "2e27761c-391e-4370-a332-9a76fb1558c7",
   "metadata": {},
   "outputs": [
    {
     "name": "stdout",
     "output_type": "stream",
     "text": [
      "Hello world\n"
     ]
    }
   ],
   "source": [
    "print(\"hello world\".capitalize())"
   ]
  },
  {
   "cell_type": "markdown",
   "id": "ee38b31b-ae5c-45aa-af9a-fc46857f6192",
   "metadata": {},
   "source": [
    "### 9 Convert \"hello world from python\" to title case"
   ]
  },
  {
   "cell_type": "code",
   "execution_count": 63,
   "id": "ecd93cfe-b487-48c2-9ff3-b4fd6cf88b17",
   "metadata": {},
   "outputs": [],
   "source": [
    "x = \"hello world from python\""
   ]
  },
  {
   "cell_type": "code",
   "execution_count": 65,
   "id": "e2fdd00e-c949-40f6-be5f-2910e408d6a3",
   "metadata": {},
   "outputs": [
    {
     "data": {
      "text/plain": [
       "'Hello World From Python'"
      ]
     },
     "execution_count": 65,
     "metadata": {},
     "output_type": "execute_result"
    }
   ],
   "source": [
    "x.title()"
   ]
  },
  {
   "cell_type": "markdown",
   "id": "47916649-4098-4bef-a43d-a4848aa50349",
   "metadata": {},
   "source": [
    "### 10 Will \"JAVA\".capitalize() return \"Java\" or \"JAVA\"?\n"
   ]
  },
  {
   "cell_type": "code",
   "execution_count": 68,
   "id": "bb3cdc7e-c0fa-485e-a0f6-9c93c82d8076",
   "metadata": {},
   "outputs": [
    {
     "data": {
      "text/plain": [
       "'Java'"
      ]
     },
     "execution_count": 68,
     "metadata": {},
     "output_type": "execute_result"
    }
   ],
   "source": [
    "\"JAVA\".capitalize()"
   ]
  },
  {
   "cell_type": "code",
   "execution_count": 70,
   "id": "5be61d8f-d949-4c35-994c-64d02d84c262",
   "metadata": {},
   "outputs": [],
   "source": [
    "#it returns \"Java\""
   ]
  },
  {
   "cell_type": "markdown",
   "id": "331b09bd-4bb5-47c6-adb2-61ffd1106b62",
   "metadata": {},
   "source": [
    "### 11 What’s the difference between \"hello world\".title() and \"hello world\".capitalize()?\n"
   ]
  },
  {
   "cell_type": "code",
   "execution_count": 73,
   "id": "b450fd64-cd88-41f5-9ed9-f9615c343dda",
   "metadata": {},
   "outputs": [
    {
     "data": {
      "text/plain": [
       "'Hello World'"
      ]
     },
     "execution_count": 73,
     "metadata": {},
     "output_type": "execute_result"
    }
   ],
   "source": [
    "\"hello world\".title()"
   ]
  },
  {
   "cell_type": "code",
   "execution_count": 75,
   "id": "568de32e-1ce7-4bc7-871a-dcea5458b38f",
   "metadata": {},
   "outputs": [
    {
     "data": {
      "text/plain": [
       "'Hello world'"
      ]
     },
     "execution_count": 75,
     "metadata": {},
     "output_type": "execute_result"
    }
   ],
   "source": [
    "\"hello world\".capitalize()"
   ]
  },
  {
   "cell_type": "code",
   "execution_count": 77,
   "id": "e7476305-2cd7-484a-9941-fbc0703454e4",
   "metadata": {},
   "outputs": [],
   "source": [
    "# title  will covert all the first characters of a string to upper case whereas capitalize function will only convert first letter of string into upper case."
   ]
  },
  {
   "cell_type": "markdown",
   "id": "2afc7cfa-fc3c-48af-b5bb-14999fb4b0ed",
   "metadata": {},
   "source": [
    "### 12 Count how many 'o' are in \"hello, world!\".\n"
   ]
  },
  {
   "cell_type": "code",
   "execution_count": 80,
   "id": "079271d7-b5ae-4278-837a-830a84eda149",
   "metadata": {},
   "outputs": [],
   "source": [
    "x = \"hello, world!\""
   ]
  },
  {
   "cell_type": "code",
   "execution_count": 82,
   "id": "54e6d4bc-6066-4c07-8db6-a0ba522e7613",
   "metadata": {},
   "outputs": [
    {
     "data": {
      "text/plain": [
       "2"
      ]
     },
     "execution_count": 82,
     "metadata": {},
     "output_type": "execute_result"
    }
   ],
   "source": [
    "x.count('o')"
   ]
  },
  {
   "cell_type": "markdown",
   "id": "0c14eb96-41b8-429c-9c17-aec62de5cb5d",
   "metadata": {},
   "source": [
    "### 13 Given quote = \"Practice makes perfect\", how many times does 'p' appear?\n"
   ]
  },
  {
   "cell_type": "code",
   "execution_count": 93,
   "id": "29b9933d-234b-4ffb-947f-9d9f651b705f",
   "metadata": {},
   "outputs": [],
   "source": [
    "quote = \"Practice makes perfect\""
   ]
  },
  {
   "cell_type": "code",
   "execution_count": 95,
   "id": "ab08967c-87e1-4320-86ea-ef95e41dcfed",
   "metadata": {},
   "outputs": [
    {
     "data": {
      "text/plain": [
       "1"
      ]
     },
     "execution_count": 95,
     "metadata": {},
     "output_type": "execute_result"
    }
   ],
   "source": [
    "quote.count('p')"
   ]
  },
  {
   "cell_type": "markdown",
   "id": "a48a528f-638c-4fe2-abdc-356df1246a55",
   "metadata": {},
   "source": [
    "### 14 What is \"Mississippi\".count('s')?"
   ]
  },
  {
   "cell_type": "code",
   "execution_count": 102,
   "id": "e08ef3ab-47e1-4d99-b6df-4f052e06fe5b",
   "metadata": {},
   "outputs": [
    {
     "data": {
      "text/plain": [
       "4"
      ]
     },
     "execution_count": 102,
     "metadata": {},
     "output_type": "execute_result"
    }
   ],
   "source": [
    "\"Mississippi\".count('s')"
   ]
  },
  {
   "cell_type": "markdown",
   "id": "bdb2dc4c-ff4b-4477-b4b8-5e86b0730225",
   "metadata": {},
   "source": [
    "### 15 What does \"banana\".count(\"na\") return?\n"
   ]
  },
  {
   "cell_type": "code",
   "execution_count": 105,
   "id": "9c939f94-7bff-4993-8345-232e275f0dee",
   "metadata": {},
   "outputs": [
    {
     "data": {
      "text/plain": [
       "2"
      ]
     },
     "execution_count": 105,
     "metadata": {},
     "output_type": "execute_result"
    }
   ],
   "source": [
    "\"banana\".count(\"na\")"
   ]
  },
  {
   "cell_type": "code",
   "execution_count": 107,
   "id": "88f55695-84f1-46a0-b75a-b5c8b4954201",
   "metadata": {},
   "outputs": [],
   "source": [
    "# it gives the count for substring \"na\" has repeated in the main string"
   ]
  },
  {
   "cell_type": "markdown",
   "id": "94ce60a1-ef0e-4979-867f-e0ce543efa7a",
   "metadata": {},
   "source": [
    "### 16 What is the position of 'e' in \"elephant\" using .find()?"
   ]
  },
  {
   "cell_type": "code",
   "execution_count": 112,
   "id": "42c0662f-283b-4db7-b547-bc0df1ce19ce",
   "metadata": {},
   "outputs": [],
   "source": [
    "x = \"elephant\""
   ]
  },
  {
   "cell_type": "code",
   "execution_count": 114,
   "id": "45691248-80be-430f-81e0-1b044457b890",
   "metadata": {},
   "outputs": [
    {
     "data": {
      "text/plain": [
       "0"
      ]
     },
     "execution_count": 114,
     "metadata": {},
     "output_type": "execute_result"
    }
   ],
   "source": [
    "x.find('e')"
   ]
  },
  {
   "cell_type": "code",
   "execution_count": 116,
   "id": "67bfeff4-a5c8-4218-9d4a-75931696a32f",
   "metadata": {},
   "outputs": [],
   "source": [
    "#index position of \"e\" is 0."
   ]
  },
  {
   "cell_type": "markdown",
   "id": "7957600f-5893-4f4a-98de-59c351353426",
   "metadata": {},
   "source": [
    "### 17 Use .find() to locate 'z' in \"puzzle\" — what index is returned?\n"
   ]
  },
  {
   "cell_type": "code",
   "execution_count": 119,
   "id": "cfdd3762-d1f4-43a1-9014-16695b402541",
   "metadata": {},
   "outputs": [],
   "source": [
    "x = \"puzzle\""
   ]
  },
  {
   "cell_type": "code",
   "execution_count": 132,
   "id": "c0ed8de6-3159-4c64-9149-5b659ee07e57",
   "metadata": {},
   "outputs": [
    {
     "data": {
      "text/plain": [
       "-1"
      ]
     },
     "execution_count": 132,
     "metadata": {},
     "output_type": "execute_result"
    }
   ],
   "source": [
    "x.find('z')\n"
   ]
  },
  {
   "cell_type": "code",
   "execution_count": 134,
   "id": "aca495c5-20bc-48e1-a6b7-0beee5147361",
   "metadata": {},
   "outputs": [],
   "source": [
    "# index of 'z' in the puzzle is 2"
   ]
  },
  {
   "cell_type": "markdown",
   "id": "cbf51536-2d52-4858-85d3-52458f4e5170",
   "metadata": {},
   "source": [
    "### 18 What happens if .find() doesn’t find the character?\n"
   ]
  },
  {
   "cell_type": "code",
   "execution_count": 137,
   "id": "1e86f85b-9fb9-47b5-a842-b3800d9c1375",
   "metadata": {},
   "outputs": [
    {
     "data": {
      "text/plain": [
       "-1"
      ]
     },
     "execution_count": 137,
     "metadata": {},
     "output_type": "execute_result"
    }
   ],
   "source": [
    "x = \"hello\"\n",
    "x.find('z')"
   ]
  },
  {
   "cell_type": "code",
   "execution_count": 140,
   "id": "3a75f5e8-1586-44c0-bbda-ec723035fceb",
   "metadata": {},
   "outputs": [],
   "source": [
    "# it return -1 as the index number."
   ]
  },
  {
   "cell_type": "markdown",
   "id": "3843ae9b-0778-4873-a176-ef4aece3ff94",
   "metadata": {},
   "source": [
    "### 19 How does index() behave differently from find() when the item isn’t found?\n"
   ]
  },
  {
   "cell_type": "code",
   "execution_count": 143,
   "id": "209e9eb9-9c1b-461e-a99f-ef3869ed6459",
   "metadata": {},
   "outputs": [],
   "source": [
    "x = \"innomatics\""
   ]
  },
  {
   "cell_type": "code",
   "execution_count": 145,
   "id": "7da8cb5b-fc51-4edc-a247-818c49553b44",
   "metadata": {},
   "outputs": [
    {
     "data": {
      "text/plain": [
       "-1"
      ]
     },
     "execution_count": 145,
     "metadata": {},
     "output_type": "execute_result"
    }
   ],
   "source": [
    "x.find('y')"
   ]
  },
  {
   "cell_type": "code",
   "execution_count": 147,
   "id": "2c3c71cc-426a-4e58-8487-b259ccd6d50a",
   "metadata": {},
   "outputs": [
    {
     "ename": "ValueError",
     "evalue": "substring not found",
     "output_type": "error",
     "traceback": [
      "\u001b[1;31m---------------------------------------------------------------------------\u001b[0m",
      "\u001b[1;31mValueError\u001b[0m                                Traceback (most recent call last)",
      "Cell \u001b[1;32mIn[147], line 1\u001b[0m\n\u001b[1;32m----> 1\u001b[0m x\u001b[38;5;241m.\u001b[39mindex(\u001b[38;5;124m'\u001b[39m\u001b[38;5;124my\u001b[39m\u001b[38;5;124m'\u001b[39m)\n",
      "\u001b[1;31mValueError\u001b[0m: substring not found"
     ]
    }
   ],
   "source": [
    "x.index('y')"
   ]
  },
  {
   "cell_type": "code",
   "execution_count": 149,
   "id": "cd3dfd3d-f14f-4e40-a742-68b618a2548c",
   "metadata": {},
   "outputs": [],
   "source": [
    "# find gives index number as -1 whereas index() gives valueError as substring not found"
   ]
  },
  {
   "cell_type": "markdown",
   "id": "d073ff9b-2200-4e0a-8338-1b4f7c793548",
   "metadata": {},
   "source": [
    "### 20 What does \"hello\".index(\"e\") return?"
   ]
  },
  {
   "cell_type": "code",
   "execution_count": 152,
   "id": "fdad0835-982b-4ff5-b2d8-593aa365be33",
   "metadata": {},
   "outputs": [
    {
     "data": {
      "text/plain": [
       "1"
      ]
     },
     "execution_count": 152,
     "metadata": {},
     "output_type": "execute_result"
    }
   ],
   "source": [
    "\"hello\".index(\"e\")"
   ]
  },
  {
   "cell_type": "markdown",
   "id": "6e19664a-f133-41ae-8607-1a6f4d1d2291",
   "metadata": {},
   "source": [
    "### 21 Combine \"Hello\" and \"World\" into \"HelloWorld\".\n"
   ]
  },
  {
   "cell_type": "code",
   "execution_count": 155,
   "id": "e1844b1e-c310-4bfe-881a-45ce18507c5a",
   "metadata": {},
   "outputs": [],
   "source": [
    "x1=\"Hello\"\n",
    "x2=\"World\""
   ]
  },
  {
   "cell_type": "code",
   "execution_count": 157,
   "id": "4f7174c9-9885-49c3-a8e1-18dcdf2cab4c",
   "metadata": {},
   "outputs": [
    {
     "name": "stdout",
     "output_type": "stream",
     "text": [
      "HelloWorld\n"
     ]
    }
   ],
   "source": [
    "print(x1+x2)"
   ]
  },
  {
   "cell_type": "markdown",
   "id": "d2105c79-5409-4560-968b-8afcafe4cd9c",
   "metadata": {},
   "source": [
    "### 22 Use + to add \"Hi, \" and \"Alice\" together.\n"
   ]
  },
  {
   "cell_type": "code",
   "execution_count": 160,
   "id": "2bb8e443-2b70-4ac9-9aec-657a77f8bfcb",
   "metadata": {},
   "outputs": [],
   "source": [
    "x1= \"Hi, \"\n",
    "x2 = \"Alice\"\n"
   ]
  },
  {
   "cell_type": "code",
   "execution_count": 162,
   "id": "243c4410-97f9-4ece-a491-1084d0a8e10a",
   "metadata": {},
   "outputs": [
    {
     "data": {
      "text/plain": [
       "'Hi, Alice'"
      ]
     },
     "execution_count": 162,
     "metadata": {},
     "output_type": "execute_result"
    }
   ],
   "source": [
    "x1+x2"
   ]
  },
  {
   "cell_type": "markdown",
   "id": "9a0a5542-0c5f-4f39-b284-c610dba234c2",
   "metadata": {},
   "source": [
    "### 23 What is the result of \"Age: \" + str(25)?\n"
   ]
  },
  {
   "cell_type": "code",
   "execution_count": 165,
   "id": "eeeb6a58-5097-4cd2-a9f1-efcd4e427426",
   "metadata": {},
   "outputs": [
    {
     "data": {
      "text/plain": [
       "'Age: 25'"
      ]
     },
     "execution_count": 165,
     "metadata": {},
     "output_type": "execute_result"
    }
   ],
   "source": [
    "\"Age: \" + str(25)"
   ]
  },
  {
   "cell_type": "markdown",
   "id": "91475f8d-d2c7-48ce-804b-d16e2196c7c7",
   "metadata": {},
   "source": [
    "### 24 Can you concatenate \"abc\" and \"123\" to form \"abc123\"?\n"
   ]
  },
  {
   "cell_type": "code",
   "execution_count": 168,
   "id": "421a9183-e2e8-42a2-aa6c-68d216e7b066",
   "metadata": {},
   "outputs": [],
   "source": [
    "#yes we can concatenate two strings using + operator."
   ]
  },
  {
   "cell_type": "code",
   "execution_count": 170,
   "id": "6d56beeb-980d-424c-9622-fc765918b62c",
   "metadata": {},
   "outputs": [],
   "source": [
    "x1=\"abc\""
   ]
  },
  {
   "cell_type": "code",
   "execution_count": 172,
   "id": "21e32cb6-5062-4b06-b054-c13726e13411",
   "metadata": {},
   "outputs": [],
   "source": [
    "x2 = \"123\""
   ]
  },
  {
   "cell_type": "code",
   "execution_count": 174,
   "id": "f409fd09-e6a2-44d4-b715-7d181c365999",
   "metadata": {},
   "outputs": [
    {
     "data": {
      "text/plain": [
       "'abc123'"
      ]
     },
     "execution_count": 174,
     "metadata": {},
     "output_type": "execute_result"
    }
   ],
   "source": [
    "x1+x2"
   ]
  },
  {
   "cell_type": "markdown",
   "id": "a27fc862-151a-43b2-88e1-5996fb1a0c93",
   "metadata": {},
   "source": [
    "### 25 Replace \"dog\" with \"cat\" in \"The dog barks.\"."
   ]
  },
  {
   "cell_type": "code",
   "execution_count": 177,
   "id": "577f67f6-9489-4e61-9c80-34882112e4f5",
   "metadata": {},
   "outputs": [],
   "source": [
    "x = \"The dog barks.\" "
   ]
  },
  {
   "cell_type": "code",
   "execution_count": 187,
   "id": "10ee208e-9023-43d9-bbca-74415a2d2690",
   "metadata": {},
   "outputs": [
    {
     "data": {
      "text/plain": [
       "'The cat barks.'"
      ]
     },
     "execution_count": 187,
     "metadata": {},
     "output_type": "execute_result"
    }
   ],
   "source": [
    "x.replace('dog','cat')"
   ]
  },
  {
   "cell_type": "markdown",
   "id": "24d64d96-78b2-470d-8c4b-09451c731216",
   "metadata": {},
   "source": [
    "### 26 Given msg = \"rain rain go away\", replace 'rain' with 'sun'.\n"
   ]
  },
  {
   "cell_type": "code",
   "execution_count": 190,
   "id": "8073dd48-43e5-401e-ad27-f6b31c1a8091",
   "metadata": {},
   "outputs": [],
   "source": [
    "msg = \"rain rain go away\""
   ]
  },
  {
   "cell_type": "code",
   "execution_count": 192,
   "id": "ea8164bb-b2dc-461f-b13f-5d8117d670e1",
   "metadata": {},
   "outputs": [
    {
     "data": {
      "text/plain": [
       "'sun sun go away'"
      ]
     },
     "execution_count": 192,
     "metadata": {},
     "output_type": "execute_result"
    }
   ],
   "source": [
    "msg.replace('rain','sun')"
   ]
  },
  {
   "cell_type": "markdown",
   "id": "97470e01-d568-4983-b586-c3d239faa359",
   "metadata": {},
   "source": [
    "### 27 What happens when you replace 'a' with '@' in \"banana\"?\n"
   ]
  },
  {
   "cell_type": "code",
   "execution_count": 195,
   "id": "ccdcc136-145e-4cf2-a018-0576cf485ef2",
   "metadata": {},
   "outputs": [
    {
     "data": {
      "text/plain": [
       "'b@n@n@'"
      ]
     },
     "execution_count": 195,
     "metadata": {},
     "output_type": "execute_result"
    }
   ],
   "source": [
    "x= \"banana\"\n",
    "x.replace('a','@')"
   ]
  },
  {
   "cell_type": "markdown",
   "id": "4052231a-a58e-40dc-ba05-cbd220924a31",
   "metadata": {},
   "source": [
    "### 28 How do you replace spaces with hyphens in \"join the party\"?\n"
   ]
  },
  {
   "cell_type": "code",
   "execution_count": 198,
   "id": "64344d33-5f4c-4039-8693-daa7318f691b",
   "metadata": {},
   "outputs": [
    {
     "data": {
      "text/plain": [
       "'join-the-party'"
      ]
     },
     "execution_count": 198,
     "metadata": {},
     "output_type": "execute_result"
    }
   ],
   "source": [
    "x = \"join the party\"\n",
    "x.replace(\" \",\"-\")"
   ]
  },
  {
   "cell_type": "markdown",
   "id": "7c76ac71-a355-4072-8327-09903d8b26e0",
   "metadata": {},
   "source": [
    "### 29 What does \" hello \".strip() return"
   ]
  },
  {
   "cell_type": "code",
   "execution_count": 203,
   "id": "c874eb1e-5040-4cec-96ff-00a28091d014",
   "metadata": {},
   "outputs": [
    {
     "data": {
      "text/plain": [
       "'hello'"
      ]
     },
     "execution_count": 203,
     "metadata": {},
     "output_type": "execute_result"
    }
   ],
   "source": [
    "\" hello \".strip()"
   ]
  },
  {
   "cell_type": "code",
   "execution_count": 205,
   "id": "78be80bb-4a68-4674-a3b5-70db4d1f0aff",
   "metadata": {},
   "outputs": [],
   "source": [
    "# by default strip() will remove the spaces from a string."
   ]
  },
  {
   "cell_type": "markdown",
   "id": "61c95ba8-56e1-48d2-9b5a-047cc1556159",
   "metadata": {},
   "source": [
    "### 30 Remove # from both ends of \"###Welcome###\" using strip().\n"
   ]
  },
  {
   "cell_type": "code",
   "execution_count": 208,
   "id": "93efc344-3ca1-4416-8cbe-b55c87e461fb",
   "metadata": {},
   "outputs": [],
   "source": [
    "x = \"###Welcome###\""
   ]
  },
  {
   "cell_type": "code",
   "execution_count": 212,
   "id": "4b737b16-5460-453c-b3f5-52dd3969e10a",
   "metadata": {},
   "outputs": [
    {
     "data": {
      "text/plain": [
       "'Welcome'"
      ]
     },
     "execution_count": 212,
     "metadata": {},
     "output_type": "execute_result"
    }
   ],
   "source": [
    "x.strip('#')"
   ]
  },
  {
   "cell_type": "markdown",
   "id": "5dfde5c8-f6d6-45c3-bf4b-34708944ebe6",
   "metadata": {},
   "source": [
    "### 31 Does strip() remove characters from the middle of a string?\n"
   ]
  },
  {
   "cell_type": "code",
   "execution_count": 215,
   "id": "cccf445f-30bf-4ec1-9842-a3603ab4e95a",
   "metadata": {},
   "outputs": [],
   "source": [
    "#no it does  not remove charaters ferom middle .It only removes the right and left end characters of the string."
   ]
  },
  {
   "cell_type": "code",
   "execution_count": 217,
   "id": "ba733039-9c73-4b0d-9503-f138bf02b8b0",
   "metadata": {},
   "outputs": [
    {
     "data": {
      "text/plain": [
       "'hi***hello'"
      ]
     },
     "execution_count": 217,
     "metadata": {},
     "output_type": "execute_result"
    }
   ],
   "source": [
    "x=\"***hi***hello***\"\n",
    "x.strip(\"*\")"
   ]
  },
  {
   "cell_type": "markdown",
   "id": "9c99c08f-a5f7-4c2b-a69c-bfcf12249a8f",
   "metadata": {},
   "source": [
    "### 32 How do you remove only the trailing spaces from \"Hello \"?\n"
   ]
  },
  {
   "cell_type": "code",
   "execution_count": 220,
   "id": "4c9370cf-e1e3-4db2-b16f-9fdb75a8a768",
   "metadata": {},
   "outputs": [],
   "source": [
    "#by using rstrip function.\n"
   ]
  },
  {
   "cell_type": "code",
   "execution_count": 222,
   "id": "5103a920-8e34-4cba-9abc-c43d3c2d11df",
   "metadata": {},
   "outputs": [],
   "source": [
    "x=\"Hello \""
   ]
  },
  {
   "cell_type": "code",
   "execution_count": 226,
   "id": "f0d530b2-838b-4466-a395-016b2179da32",
   "metadata": {},
   "outputs": [
    {
     "data": {
      "text/plain": [
       "'Hello'"
      ]
     },
     "execution_count": 226,
     "metadata": {},
     "output_type": "execute_result"
    }
   ],
   "source": [
    "x.rstrip()"
   ]
  },
  {
   "cell_type": "markdown",
   "id": "72905bd9-be63-4e5d-baa0-6b1f87a70e82",
   "metadata": {},
   "source": [
    "### 33 Use .format() to insert \"Alice\" into \"Hello, {}!\".\n"
   ]
  },
  {
   "cell_type": "code",
   "execution_count": 230,
   "id": "3301344b-e4b7-49c3-a18c-1d0d87fb8359",
   "metadata": {},
   "outputs": [],
   "source": [
    "x = \"Alice\""
   ]
  },
  {
   "cell_type": "code",
   "execution_count": 232,
   "id": "6145a7a5-1abd-40fd-b441-c3be3908d2d1",
   "metadata": {},
   "outputs": [
    {
     "data": {
      "text/plain": [
       "'Hello, Alice!'"
      ]
     },
     "execution_count": 232,
     "metadata": {},
     "output_type": "execute_result"
    }
   ],
   "source": [
    "\"Hello, {}!\".format(x)"
   ]
  },
  {
   "cell_type": "markdown",
   "id": "f4a922d1-e85e-4172-8987-4d511eb68530",
   "metadata": {},
   "source": [
    "### 34 What is \"{} scored {} marks\".format(\"John\", 95)?\n"
   ]
  },
  {
   "cell_type": "code",
   "execution_count": 235,
   "id": "01e77733-3460-4836-8f8f-82aa3b8ffb0e",
   "metadata": {},
   "outputs": [
    {
     "data": {
      "text/plain": [
       "'John scored 95 marks'"
      ]
     },
     "execution_count": 235,
     "metadata": {},
     "output_type": "execute_result"
    }
   ],
   "source": [
    "\"{} scored {} marks\".format(\"John\", 95)"
   ]
  },
  {
   "cell_type": "markdown",
   "id": "95944fc3-ff16-4a5c-8cbf-07328d6d96f8",
   "metadata": {},
   "source": [
    "### 35 Fill in two blanks in \"{} is {} years old\" with \"Bob\" and 30.\n"
   ]
  },
  {
   "cell_type": "code",
   "execution_count": 238,
   "id": "0ccec3dc-90e5-40f3-9384-0b434b3cf664",
   "metadata": {},
   "outputs": [
    {
     "data": {
      "text/plain": [
       "'bob is 30 years old'"
      ]
     },
     "execution_count": 238,
     "metadata": {},
     "output_type": "execute_result"
    }
   ],
   "source": [
    "\"{} is {} years old\".format(\"bob\",30)"
   ]
  },
  {
   "cell_type": "markdown",
   "id": "c6fb76bb-24fb-4ca5-8d49-8d3da78d8249",
   "metadata": {},
   "source": [
    "### 36 Can you use numbers with placeholders? Try \"{}+{}={}\".format(2, 3, 5).\n"
   ]
  },
  {
   "cell_type": "code",
   "execution_count": 241,
   "id": "d4b456e2-8955-45c1-804a-da792c2e692d",
   "metadata": {},
   "outputs": [
    {
     "data": {
      "text/plain": [
       "'2+3=5'"
      ]
     },
     "execution_count": 241,
     "metadata": {},
     "output_type": "execute_result"
    }
   ],
   "source": [
    "\"{}+{}={}\".format(2, 3, 5)"
   ]
  },
  {
   "cell_type": "code",
   "execution_count": 243,
   "id": "a8bc600e-01a4-4199-8435-0a4b6591bf6e",
   "metadata": {},
   "outputs": [],
   "source": [
    "#Yes, you we can use numbers with placeholders in the str.format() method."
   ]
  },
  {
   "cell_type": "markdown",
   "id": "0407d7ad-a1d4-41e6-b7c0-8ad275e8e8bb",
   "metadata": {},
   "source": [
    "### 37 What does \"apple,banana,grape\".split(\",\") return?"
   ]
  },
  {
   "cell_type": "code",
   "execution_count": 246,
   "id": "5bbf387d-29bf-465c-b587-df0a0336af2e",
   "metadata": {},
   "outputs": [
    {
     "name": "stdout",
     "output_type": "stream",
     "text": [
      "['apple', 'banana', 'grape']\n"
     ]
    }
   ],
   "source": [
    "print(\"apple,banana,grape\".split(\",\"))"
   ]
  },
  {
   "cell_type": "code",
   "execution_count": 248,
   "id": "8b5364ef-4d04-4e8a-b752-ff9231639bcd",
   "metadata": {},
   "outputs": [],
   "source": [
    "#it splits the string based on \",\" and returns result as list."
   ]
  },
  {
   "cell_type": "markdown",
   "id": "46a5cf66-8f73-48de-a5b3-0629dee68adc",
   "metadata": {},
   "source": [
    "### 38 How many parts do you get from \"one two three\".split()?\n"
   ]
  },
  {
   "cell_type": "code",
   "execution_count": 254,
   "id": "0fcd85b1-0810-4675-9748-990bd7261ac1",
   "metadata": {},
   "outputs": [],
   "source": [
    "# we get three parts ,because the split() will divide the string based on space ."
   ]
  },
  {
   "cell_type": "code",
   "execution_count": 273,
   "id": "92dedc71-b7c2-4669-b2d4-0e6781eb304f",
   "metadata": {},
   "outputs": [
    {
     "data": {
      "text/plain": [
       "['one', 'two', 'three']"
      ]
     },
     "execution_count": 273,
     "metadata": {},
     "output_type": "execute_result"
    }
   ],
   "source": [
    "\"one two three\".split()"
   ]
  },
  {
   "cell_type": "markdown",
   "id": "54b4f9c8-0da8-4061-bad1-6a0969d9192a",
   "metadata": {},
   "source": [
    "### 39 Use split(\"-\") on \"2025-05-16\". What do you get?\n"
   ]
  },
  {
   "cell_type": "code",
   "execution_count": 259,
   "id": "cb12f908-a325-4fcc-a416-00ec7b75f9f2",
   "metadata": {},
   "outputs": [],
   "source": [
    "x = \"2025-05-16\""
   ]
  },
  {
   "cell_type": "code",
   "execution_count": 261,
   "id": "a8edd10f-cedb-4688-a400-0c2b073cd4b7",
   "metadata": {},
   "outputs": [
    {
     "data": {
      "text/plain": [
       "['2025', '05', '16']"
      ]
     },
     "execution_count": 261,
     "metadata": {},
     "output_type": "execute_result"
    }
   ],
   "source": [
    "x.split(\"-\")"
   ]
  },
  {
   "cell_type": "markdown",
   "id": "d8515697-1387-4a8e-8d4f-be961fd88885",
   "metadata": {},
   "source": [
    "### 40 Can you split \"hello\" using a space as a separator?\n"
   ]
  },
  {
   "cell_type": "code",
   "execution_count": 264,
   "id": "a490df11-2554-4244-8fe7-c978ccff391a",
   "metadata": {},
   "outputs": [],
   "source": [
    "x= \"hello\""
   ]
  },
  {
   "cell_type": "code",
   "execution_count": 266,
   "id": "1a3c75ae-b644-4e23-b07b-3df041793d14",
   "metadata": {},
   "outputs": [
    {
     "data": {
      "text/plain": [
       "['hello']"
      ]
     },
     "execution_count": 266,
     "metadata": {},
     "output_type": "execute_result"
    }
   ],
   "source": [
    "x.split(\" \")"
   ]
  },
  {
   "cell_type": "code",
   "execution_count": 268,
   "id": "a1aeaa91-32ce-42d2-9844-e61804333bd8",
   "metadata": {},
   "outputs": [],
   "source": [
    "#no we cannot separate \"hello\" using space as a separator."
   ]
  },
  {
   "cell_type": "markdown",
   "id": "3afe7872-5bf0-463e-b0a5-da37e1d8e6dc",
   "metadata": {},
   "source": [
    "### 41 Take \" python \" and return \"PYTHON\" with whitespace removed.\n"
   ]
  },
  {
   "cell_type": "code",
   "execution_count": 280,
   "id": "62f09dc2-2186-417c-8b61-8c2228d39d78",
   "metadata": {},
   "outputs": [],
   "source": [
    "x = \" python \""
   ]
  },
  {
   "cell_type": "code",
   "execution_count": 282,
   "id": "87771a7a-2f18-4280-97d0-8a41daa9672d",
   "metadata": {},
   "outputs": [
    {
     "data": {
      "text/plain": [
       "'PYTHON'"
      ]
     },
     "execution_count": 282,
     "metadata": {},
     "output_type": "execute_result"
    }
   ],
   "source": [
    "x.upper().strip()"
   ]
  },
  {
   "cell_type": "code",
   "execution_count": 286,
   "id": "3edd316e-e199-47aa-9c28-b92461b68fc4",
   "metadata": {},
   "outputs": [
    {
     "data": {
      "text/plain": [
       "'PYTHON'"
      ]
     },
     "execution_count": 286,
     "metadata": {},
     "output_type": "execute_result"
    }
   ],
   "source": [
    "x.strip().upper() #second possible method"
   ]
  },
  {
   "cell_type": "markdown",
   "id": "f83673fe-964c-4885-b042-056d5588b450",
   "metadata": {},
   "source": [
    "### 42 Format and print \"Score: 100\" using .format().\n",
    " "
   ]
  },
  {
   "cell_type": "code",
   "execution_count": 291,
   "id": "39648097-9535-49c1-9ab6-e72a82312094",
   "metadata": {},
   "outputs": [
    {
     "data": {
      "text/plain": [
       "'Score: 100'"
      ]
     },
     "execution_count": 291,
     "metadata": {},
     "output_type": "execute_result"
    }
   ],
   "source": [
    " \"Score: {}\".format(100)"
   ]
  },
  {
   "cell_type": "markdown",
   "id": "0573f63e-f2c8-4a9e-b0e1-99f336f1d026",
   "metadata": {},
   "source": [
    "### 43 Convert \"python is fun\" to \"Python Is Fun\" using any method.\n"
   ]
  },
  {
   "cell_type": "code",
   "execution_count": 294,
   "id": "e14c328e-387d-41d6-b216-68a50204020e",
   "metadata": {},
   "outputs": [
    {
     "data": {
      "text/plain": [
       "'Python Is Fun'"
      ]
     },
     "execution_count": 294,
     "metadata": {},
     "output_type": "execute_result"
    }
   ],
   "source": [
    "x = \"python is fun\"\n",
    "x.title()"
   ]
  },
  {
   "cell_type": "markdown",
   "id": "d1fe3f51-868c-48d3-b20d-4624b3ababff",
   "metadata": {},
   "source": [
    "### 44 Replace all 'l' in \"hello world\" with '*'.\n"
   ]
  },
  {
   "cell_type": "code",
   "execution_count": 297,
   "id": "fde7160c-dca5-452b-bc85-1a85ff2958bc",
   "metadata": {},
   "outputs": [],
   "source": [
    "x = \"hello world\""
   ]
  },
  {
   "cell_type": "code",
   "execution_count": 299,
   "id": "bf97583a-8e18-406a-8889-a2ab8142ce06",
   "metadata": {},
   "outputs": [
    {
     "data": {
      "text/plain": [
       "'he**o wor*d'"
      ]
     },
     "execution_count": 299,
     "metadata": {},
     "output_type": "execute_result"
    }
   ],
   "source": [
    "x.replace(\"l\",\"*\")"
   ]
  },
  {
   "cell_type": "markdown",
   "id": "8868335a-74ad-4e66-a412-d935b1aac55b",
   "metadata": {},
   "source": [
    "### 45 How do you get just the word \"World\" from \"Hello World\"?\n"
   ]
  },
  {
   "cell_type": "code",
   "execution_count": 302,
   "id": "0523c1ea-56ac-48ad-81ee-49a9b25af27b",
   "metadata": {},
   "outputs": [],
   "source": [
    "x = \"Hello World\""
   ]
  },
  {
   "cell_type": "code",
   "execution_count": 308,
   "id": "b96c669d-ae2a-4cd4-8ecb-d9e6606d297e",
   "metadata": {},
   "outputs": [
    {
     "name": "stdout",
     "output_type": "stream",
     "text": [
      "World\n"
     ]
    }
   ],
   "source": [
    "print(x[6:])"
   ]
  },
  {
   "cell_type": "code",
   "execution_count": 311,
   "id": "c1aa68ca-a66a-46ed-b233-b8aeff79950f",
   "metadata": {},
   "outputs": [],
   "source": [
    "# another method\n"
   ]
  },
  {
   "cell_type": "code",
   "execution_count": 313,
   "id": "984a8c0d-3dd8-4a87-8234-aaa60d1f5705",
   "metadata": {},
   "outputs": [
    {
     "data": {
      "text/plain": [
       "'World'"
      ]
     },
     "execution_count": 313,
     "metadata": {},
     "output_type": "execute_result"
    }
   ],
   "source": [
    "x.split()[1]"
   ]
  },
  {
   "cell_type": "code",
   "execution_count": null,
   "id": "4d4a24a3-5e38-43a1-9939-9cf13c305084",
   "metadata": {},
   "outputs": [],
   "source": []
  }
 ],
 "metadata": {
  "kernelspec": {
   "display_name": "Python [conda env:base] *",
   "language": "python",
   "name": "conda-base-py"
  },
  "language_info": {
   "codemirror_mode": {
    "name": "ipython",
    "version": 3
   },
   "file_extension": ".py",
   "mimetype": "text/x-python",
   "name": "python",
   "nbconvert_exporter": "python",
   "pygments_lexer": "ipython3",
   "version": "3.12.7"
  }
 },
 "nbformat": 4,
 "nbformat_minor": 5
}
