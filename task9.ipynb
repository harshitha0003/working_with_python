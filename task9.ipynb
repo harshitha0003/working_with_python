{
 "cells": [
  {
   "cell_type": "markdown",
   "id": "71bd816d-04a3-4d62-9209-0e493c78b6ce",
   "metadata": {},
   "source": [
    "# 1  Create a list of squares from 1 to 10 using list comprehension.\n",
    " Expected Output: [1, 4, 9, ..., 100]\n"
   ]
  },
  {
   "cell_type": "code",
   "execution_count": 92,
   "id": "e3d125f7-b357-4f44-83da-0cbd5dbdab57",
   "metadata": {},
   "outputs": [
    {
     "name": "stdout",
     "output_type": "stream",
     "text": [
      "[1, 4, 9, 16, 25, 36, 49, 64, 81, 100]\n"
     ]
    }
   ],
   "source": [
    "l = [1,2,3,4,5,6,7,8,9,10]\n",
    "lst = [i**2 for i in l]\n",
    "print(lst)"
   ]
  },
  {
   "cell_type": "markdown",
   "id": "4b879419-6458-4bf8-b03f-ea7b1faa5d81",
   "metadata": {},
   "source": [
    "# 2  From a list of numbers, create a new list containing only even numbers using list comprehension.\n",
    " nums = [1, 2, 3, 4, 5, 6] → [2, 4, 6]"
   ]
  },
  {
   "cell_type": "code",
   "execution_count": 94,
   "id": "e8fba53b-947f-4d61-8c68-930eef133602",
   "metadata": {},
   "outputs": [
    {
     "name": "stdout",
     "output_type": "stream",
     "text": [
      "[2, 4, 6]\n"
     ]
    }
   ],
   "source": [
    "nums = [1, 2, 3, 4, 5, 6]\n",
    "lst = [i for i in nums if i % 2 == 0]\n",
    "print(lst)\n",
    "      "
   ]
  },
  {
   "cell_type": "markdown",
   "id": "9e579e37-8a88-468c-9c21-7d58170ee0dd",
   "metadata": {},
   "source": [
    "# 3  Convert all words in a list to uppercase using list comprehension.\n",
    " words = ['hello', 'world'] → ['HELLO', 'WORLD']"
   ]
  },
  {
   "cell_type": "code",
   "execution_count": 96,
   "id": "007c5783-1b92-4fd8-b84f-3b290de2cc73",
   "metadata": {},
   "outputs": [
    {
     "name": "stdout",
     "output_type": "stream",
     "text": [
      "['HELLO', 'WORLD']\n"
     ]
    }
   ],
   "source": [
    "words = ['hello', 'world']\n",
    "lst = [i.upper() for i in words]\n",
    "print(lst)"
   ]
  },
  {
   "cell_type": "markdown",
   "id": "aedbe5ab-1177-4fff-be6e-2374f8c3d2ef",
   "metadata": {},
   "source": [
    "# 4  From a list of strings, create a list containing only those with length > 3.\n",
    " words = ['hi', 'apple', 'dog', 'banana'] → ['apple', 'banana']\n"
   ]
  },
  {
   "cell_type": "code",
   "execution_count": 98,
   "id": "3f31a041-ac0f-48bf-bb4d-4b35828183ce",
   "metadata": {},
   "outputs": [
    {
     "name": "stdout",
     "output_type": "stream",
     "text": [
      "['apple', 'banana']\n"
     ]
    }
   ],
   "source": [
    " words = ['hi', 'apple', 'dog', 'banana']\n",
    "lst = [i for i in words if len(i)>3]\n",
    "print(lst)"
   ]
  },
  {
   "cell_type": "markdown",
   "id": "412635dd-3185-4b77-add8-095b9f5cd0b9",
   "metadata": {},
   "source": [
    "# 5  Generate a list of tuples (number, square) for numbers from 1 to 10 using list comprehension.\n",
    " Output: [(1, 1), (2, 4), ..., (10, 100)]"
   ]
  },
  {
   "cell_type": "code",
   "execution_count": 100,
   "id": "498707fe-e242-4d40-bb33-fb05d60b035a",
   "metadata": {},
   "outputs": [
    {
     "name": "stdout",
     "output_type": "stream",
     "text": [
      "[(1, 1), (2, 4), (3, 9), (4, 16), (5, 25), (6, 36), (7, 49), (8, 64), (9, 81), (10, 100)]\n"
     ]
    }
   ],
   "source": [
    "l = [1,2,3,4,5,6,7,8,9,10]\n",
    "lst = [(i,i**2) for i in l]\n",
    "print(lst)"
   ]
  },
  {
   "cell_type": "markdown",
   "id": "b8693b83-15d5-4cdf-bd32-35861345bd1a",
   "metadata": {},
   "source": [
    "# 6  Create a list of all vowels in a given string using list comprehension.\n",
    " \"beautiful\" → ['e', 'a', 'u', 'i', 'u']"
   ]
  },
  {
   "cell_type": "code",
   "execution_count": 102,
   "id": "5c0b0872-efe4-4083-b7d2-185353100bb4",
   "metadata": {},
   "outputs": [
    {
     "name": "stdout",
     "output_type": "stream",
     "text": [
      "['e', 'a', 'u', 'i', 'u']\n"
     ]
    }
   ],
   "source": [
    "string = \"beautiful\"\n",
    "lst = [i for i in string if i=='a'or i == 'e' or i== 'i' or i == '0' or i== 'u']\n",
    "print(lst)"
   ]
  },
  {
   "cell_type": "markdown",
   "id": "ea2407ac-23f3-48b1-bd3c-9137ab5fadea",
   "metadata": {},
   "source": [
    "# 7  Flatten a nested list of 2D shape using list comprehension.\n",
    " [[1, 2], [3, 4], [5]] → [1, 2, 3, 4, 5]"
   ]
  },
  {
   "cell_type": "code",
   "execution_count": 104,
   "id": "86925fdb-925d-40a0-a9dd-7313b7533382",
   "metadata": {},
   "outputs": [
    {
     "data": {
      "text/plain": [
       "[1, 2, 3, 4, 5]"
      ]
     },
     "execution_count": 104,
     "metadata": {},
     "output_type": "execute_result"
    }
   ],
   "source": [
    "l = [[1, 2], [3, 4], [5]] \n",
    "lst = [ sub for i in l for sub in i]\n",
    "lst"
   ]
  },
  {
   "cell_type": "markdown",
   "id": "251471e9-beac-4b5d-93c4-a4eb6a8da750",
   "metadata": {},
   "source": [
    "# 8  Create a list of numbers from 1 to 100 which are divisible by both 3 and 5 using list comprehension."
   ]
  },
  {
   "cell_type": "code",
   "execution_count": 106,
   "id": "b948fe45-6773-4292-9f3c-960917850e8b",
   "metadata": {},
   "outputs": [
    {
     "name": "stdout",
     "output_type": "stream",
     "text": [
      "[15, 30, 45, 60, 75, 90]\n"
     ]
    }
   ],
   "source": [
    "lst = [i for i in range(1,101) if i % 3 == 0 and i % 5 == 0] \n",
    "print(lst)"
   ]
  },
  {
   "cell_type": "markdown",
   "id": "8f5ae3cd-630f-48b7-bf7a-80fbc2ccb673",
   "metadata": {},
   "source": [
    "# 9  Given a list words = [\"data\", \"science\", \"ai\", \"python\", \"ml\", \"statistics\"], use a list comprehension to extract words with more than 4 letters."
   ]
  },
  {
   "cell_type": "code",
   "execution_count": 108,
   "id": "672e0151-1349-4db2-a4fe-8b4a97298b76",
   "metadata": {},
   "outputs": [
    {
     "name": "stdout",
     "output_type": "stream",
     "text": [
      "['science', 'python', 'statistics']\n"
     ]
    }
   ],
   "source": [
    "words = [\"data\", \"science\", \"ai\", \"python\", \"ml\", \"statistics\"]\n",
    "lst = [i for i in words if len(i) > 4]\n",
    "print(lst)"
   ]
  },
  {
   "cell_type": "markdown",
   "id": "203b3cdf-9498-4f33-93b7-0d0a5b17e3dc",
   "metadata": {},
   "source": [
    "# 10  Given a string text = \"list comprehension is powerful\", use list comprehension to create a list of characters where vowels are replaced by '*'."
   ]
  },
  {
   "cell_type": "code",
   "execution_count": 110,
   "id": "54e527d5-9c96-4ea1-9e30-a97db728ac71",
   "metadata": {
    "scrolled": true
   },
   "outputs": [
    {
     "data": {
      "text/plain": [
       "['l',\n",
       " '*',\n",
       " 's',\n",
       " 't',\n",
       " ' ',\n",
       " 'c',\n",
       " '*',\n",
       " 'm',\n",
       " 'p',\n",
       " 'r',\n",
       " '*',\n",
       " 'h',\n",
       " '*',\n",
       " 'n',\n",
       " 's',\n",
       " '*',\n",
       " '*',\n",
       " 'n',\n",
       " ' ',\n",
       " '*',\n",
       " 's',\n",
       " ' ',\n",
       " 'p',\n",
       " '*',\n",
       " 'w',\n",
       " '*',\n",
       " 'r',\n",
       " 'f',\n",
       " '*',\n",
       " 'l']"
      ]
     },
     "execution_count": 110,
     "metadata": {},
     "output_type": "execute_result"
    }
   ],
   "source": [
    "text = \"list comprehension is powerful\"\n",
    "vowels =\"aeiou\"\n",
    "lst = [\"*\" if i in vowels else i for i in text]\n",
    "lst"
   ]
  },
  {
   "cell_type": "code",
   "execution_count": null,
   "id": "9d008e70-005b-4e99-a0eb-430592efae44",
   "metadata": {},
   "outputs": [],
   "source": []
  }
 ],
 "metadata": {
  "kernelspec": {
   "display_name": "Python [conda env:base] *",
   "language": "python",
   "name": "conda-base-py"
  },
  "language_info": {
   "codemirror_mode": {
    "name": "ipython",
    "version": 3
   },
   "file_extension": ".py",
   "mimetype": "text/x-python",
   "name": "python",
   "nbconvert_exporter": "python",
   "pygments_lexer": "ipython3",
   "version": "3.12.7"
  }
 },
 "nbformat": 4,
 "nbformat_minor": 5
}
